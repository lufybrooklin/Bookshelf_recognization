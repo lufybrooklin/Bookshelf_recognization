{
 "cells": [
  {
   "cell_type": "markdown",
   "metadata": {
    "toc": true
   },
   "source": [
    "<h1>Table of Contents<span class=\"tocSkip\"></span></h1>\n",
    "<div class=\"toc\"><ul class=\"toc-item\"><li><span><a href=\"#数据整理\" data-toc-modified-id=\"数据整理-1\"><span class=\"toc-item-num\">1&nbsp;&nbsp;</span>数据整理</a></span><ul class=\"toc-item\"><li><span><a href=\"#获取数据\" data-toc-modified-id=\"获取数据-1.1\"><span class=\"toc-item-num\">1.1&nbsp;&nbsp;</span>获取数据</a></span></li><li><span><a href=\"#从新标定Index列\" data-toc-modified-id=\"从新标定Index列-1.2\"><span class=\"toc-item-num\">1.2&nbsp;&nbsp;</span>从新标定Index列</a></span></li><li><span><a href=\"#删除时间序列-毁坏的数据列\" data-toc-modified-id=\"删除时间序列-毁坏的数据列-1.3\"><span class=\"toc-item-num\">1.3&nbsp;&nbsp;</span>删除时间序列 毁坏的数据列</a></span></li><li><span><a href=\"#对数据进行ONE-HOT编码\" data-toc-modified-id=\"对数据进行ONE-HOT编码-1.4\"><span class=\"toc-item-num\">1.4&nbsp;&nbsp;</span>对数据进行ONE-HOT编码</a></span><ul class=\"toc-item\"><li><span><a href=\"#对数据执行ONE-HOT编码\" data-toc-modified-id=\"对数据执行ONE-HOT编码-1.4.1\"><span class=\"toc-item-num\">1.4.1&nbsp;&nbsp;</span>对数据执行ONE-HOT编码</a></span></li></ul></li></ul></li><li><span><a href=\"#预处理\" data-toc-modified-id=\"预处理-2\"><span class=\"toc-item-num\">2&nbsp;&nbsp;</span>预处理</a></span><ul class=\"toc-item\"><li><span><a href=\"#特征选择\" data-toc-modified-id=\"特征选择-2.1\"><span class=\"toc-item-num\">2.1&nbsp;&nbsp;</span>特征选择</a></span><ul class=\"toc-item\"><li><span><a href=\"#定义增益率的函数\" data-toc-modified-id=\"定义增益率的函数-2.1.1\"><span class=\"toc-item-num\">2.1.1&nbsp;&nbsp;</span>定义增益率的函数</a></span></li><li><span><a href=\"#计算增益率的采样（因为样本太多且几乎都是连续样本）\" data-toc-modified-id=\"计算增益率的采样（因为样本太多且几乎都是连续样本）-2.1.2\"><span class=\"toc-item-num\">2.1.2&nbsp;&nbsp;</span>计算增益率的采样（因为样本太多且几乎都是连续样本）</a></span></li><li><span><a href=\"#计算每一列的增益率\" data-toc-modified-id=\"计算每一列的增益率-2.1.3\"><span class=\"toc-item-num\">2.1.3&nbsp;&nbsp;</span>计算每一列的增益率</a></span></li><li><span><a href=\"#保存信息增益率结果\" data-toc-modified-id=\"保存信息增益率结果-2.1.4\"><span class=\"toc-item-num\">2.1.4&nbsp;&nbsp;</span>保存信息增益率结果</a></span></li><li><span><a href=\"#画图\" data-toc-modified-id=\"画图-2.1.5\"><span class=\"toc-item-num\">2.1.5&nbsp;&nbsp;</span>画图</a></span></li><li><span><a href=\"#保存采样数据\" data-toc-modified-id=\"保存采样数据-2.1.6\"><span class=\"toc-item-num\">2.1.6&nbsp;&nbsp;</span>保存采样数据</a></span></li><li><span><a href=\"#特征选择\" data-toc-modified-id=\"特征选择-2.1.7\"><span class=\"toc-item-num\">2.1.7&nbsp;&nbsp;</span>特征选择</a></span></li><li><span><a href=\"#保存特征选择后的数据\" data-toc-modified-id=\"保存特征选择后的数据-2.1.8\"><span class=\"toc-item-num\">2.1.8&nbsp;&nbsp;</span>保存特征选择后的数据</a></span></li></ul></li><li><span><a href=\"#2.2-模型定阶\" data-toc-modified-id=\"2.2-模型定阶-2.2\"><span class=\"toc-item-num\">2.2&nbsp;&nbsp;</span>2.2 模型定阶</a></span><ul class=\"toc-item\"><li><span><a href=\"#定义自相关系数的函数\" data-toc-modified-id=\"定义自相关系数的函数-2.2.1\"><span class=\"toc-item-num\">2.2.1&nbsp;&nbsp;</span>定义自相关系数的函数</a></span></li><li><span><a href=\"#零均值\" data-toc-modified-id=\"零均值-2.2.2\"><span class=\"toc-item-num\">2.2.2&nbsp;&nbsp;</span>零均值</a></span></li><li><span><a href=\"#自相关函数\" data-toc-modified-id=\"自相关函数-2.2.3\"><span class=\"toc-item-num\">2.2.3&nbsp;&nbsp;</span>自相关函数</a></span></li><li><span><a href=\"#季节差分以及差分\" data-toc-modified-id=\"季节差分以及差分-2.2.4\"><span class=\"toc-item-num\">2.2.4&nbsp;&nbsp;</span>季节差分以及差分</a></span></li><li><span><a href=\"#游程检验\" data-toc-modified-id=\"游程检验-2.2.5\"><span class=\"toc-item-num\">2.2.5&nbsp;&nbsp;</span>游程检验</a></span></li><li><span><a href=\"#自相关和偏相关（ACF拖尾，PACF截尾）\" data-toc-modified-id=\"自相关和偏相关（ACF拖尾，PACF截尾）-2.2.6\"><span class=\"toc-item-num\">2.2.6&nbsp;&nbsp;</span>自相关和偏相关（ACF拖尾，PACF截尾）</a></span></li></ul></li></ul></li><li><span><a href=\"#三.损伤识别\" data-toc-modified-id=\"三.损伤识别-3\"><span class=\"toc-item-num\">3&nbsp;&nbsp;</span>三.损伤识别</a></span><ul class=\"toc-item\"><li><span><a href=\"#数据整理\" data-toc-modified-id=\"数据整理-3.1\"><span class=\"toc-item-num\">3.1&nbsp;&nbsp;</span>数据整理</a></span><ul class=\"toc-item\"><li><span><a href=\"#One-Hot编码\" data-toc-modified-id=\"One-Hot编码-3.1.1\"><span class=\"toc-item-num\">3.1.1&nbsp;&nbsp;</span>One-Hot编码</a></span></li><li><span><a href=\"#时序模型数据处理\" data-toc-modified-id=\"时序模型数据处理-3.1.2\"><span class=\"toc-item-num\">3.1.2&nbsp;&nbsp;</span>时序模型数据处理</a></span><ul class=\"toc-item\"><li><span><a href=\"#对数据集变形，保证变形后的数据一行是一个LSTM的输入\" data-toc-modified-id=\"对数据集变形，保证变形后的数据一行是一个LSTM的输入-3.1.2.1\"><span class=\"toc-item-num\">3.1.2.1&nbsp;&nbsp;</span>对数据集变形，保证变形后的数据一行是一个LSTM的输入</a></span></li><li><span><a href=\"#存储定阶后的的数据\" data-toc-modified-id=\"存储定阶后的的数据-3.1.2.2\"><span class=\"toc-item-num\">3.1.2.2&nbsp;&nbsp;</span>存储定阶后的的数据</a></span></li></ul></li><li><span><a href=\"#对非时序模型数据处理\" data-toc-modified-id=\"对非时序模型数据处理-3.1.3\"><span class=\"toc-item-num\">3.1.3&nbsp;&nbsp;</span>对非时序模型数据处理</a></span><ul class=\"toc-item\"><li><span><a href=\"#对非时序数据特征提取\" data-toc-modified-id=\"对非时序数据特征提取-3.1.3.1\"><span class=\"toc-item-num\">3.1.3.1&nbsp;&nbsp;</span>对非时序数据特征提取</a></span></li><li><span><a href=\"#存储提取后的数据\" data-toc-modified-id=\"存储提取后的数据-3.1.3.2\"><span class=\"toc-item-num\">3.1.3.2&nbsp;&nbsp;</span>存储提取后的数据</a></span></li></ul></li><li><span><a href=\"#定义载入数据函数\" data-toc-modified-id=\"定义载入数据函数-3.1.4\"><span class=\"toc-item-num\">3.1.4&nbsp;&nbsp;</span>定义载入数据函数</a></span></li><li><span><a href=\"#定义存储划分好的训练集和测试集函数\" data-toc-modified-id=\"定义存储划分好的训练集和测试集函数-3.1.5\"><span class=\"toc-item-num\">3.1.5&nbsp;&nbsp;</span>定义存储划分好的训练集和测试集函数</a></span></li><li><span><a href=\"#定义读取训练集和测试集函数\" data-toc-modified-id=\"定义读取训练集和测试集函数-3.1.6\"><span class=\"toc-item-num\">3.1.6&nbsp;&nbsp;</span>定义读取训练集和测试集函数</a></span></li><li><span><a href=\"#定义存储预测结果函数\" data-toc-modified-id=\"定义存储预测结果函数-3.1.7\"><span class=\"toc-item-num\">3.1.7&nbsp;&nbsp;</span>定义存储预测结果函数</a></span></li></ul></li><li><span><a href=\"#SVM\" data-toc-modified-id=\"SVM-3.2\"><span class=\"toc-item-num\">3.2&nbsp;&nbsp;</span>SVM</a></span><ul class=\"toc-item\"><li><span><a href=\"#划分训练集和测试集\" data-toc-modified-id=\"划分训练集和测试集-3.2.1\"><span class=\"toc-item-num\">3.2.1&nbsp;&nbsp;</span>划分训练集和测试集</a></span></li><li><span><a href=\"#设立标准（F-beta-score-beta-=-3-微查全率）\" data-toc-modified-id=\"设立标准（F-beta-score-beta-=-3-微查全率）-3.2.2\"><span class=\"toc-item-num\">3.2.2&nbsp;&nbsp;</span>设立标准（F-beta score beta = 3 微查全率）</a></span></li><li><span><a href=\"#超参数优化(随机搜索)\" data-toc-modified-id=\"超参数优化(随机搜索)-3.2.3\"><span class=\"toc-item-num\">3.2.3&nbsp;&nbsp;</span>超参数优化(随机搜索)</a></span></li><li><span><a href=\"#无偏估计\" data-toc-modified-id=\"无偏估计-3.2.4\"><span class=\"toc-item-num\">3.2.4&nbsp;&nbsp;</span>无偏估计</a></span></li></ul></li><li><span><a href=\"#DNN\" data-toc-modified-id=\"DNN-3.3\"><span class=\"toc-item-num\">3.3&nbsp;&nbsp;</span>DNN</a></span><ul class=\"toc-item\"><li><span><a href=\"#获取数据\" data-toc-modified-id=\"获取数据-3.3.1\"><span class=\"toc-item-num\">3.3.1&nbsp;&nbsp;</span>获取数据</a></span></li><li><span><a href=\"#划分训练集和测试集\" data-toc-modified-id=\"划分训练集和测试集-3.3.2\"><span class=\"toc-item-num\">3.3.2&nbsp;&nbsp;</span>划分训练集和测试集</a></span></li><li><span><a href=\"#存储数据\" data-toc-modified-id=\"存储数据-3.3.3\"><span class=\"toc-item-num\">3.3.3&nbsp;&nbsp;</span>存储数据</a></span></li><li><span><a href=\"#获取数据\" data-toc-modified-id=\"获取数据-3.3.4\"><span class=\"toc-item-num\">3.3.4&nbsp;&nbsp;</span>获取数据</a></span></li><li><span><a href=\"#超参数设置\" data-toc-modified-id=\"超参数设置-3.3.5\"><span class=\"toc-item-num\">3.3.5&nbsp;&nbsp;</span>超参数设置</a></span></li><li><span><a href=\"#建立模型\" data-toc-modified-id=\"建立模型-3.3.6\"><span class=\"toc-item-num\">3.3.6&nbsp;&nbsp;</span>建立模型</a></span></li><li><span><a href=\"#训练及评价\" data-toc-modified-id=\"训练及评价-3.3.7\"><span class=\"toc-item-num\">3.3.7&nbsp;&nbsp;</span>训练及评价</a></span></li><li><span><a href=\"#保存预测结果\" data-toc-modified-id=\"保存预测结果-3.3.8\"><span class=\"toc-item-num\">3.3.8&nbsp;&nbsp;</span>保存预测结果</a></span></li></ul></li><li><span><a href=\"#LSTM\" data-toc-modified-id=\"LSTM-3.4\"><span class=\"toc-item-num\">3.4&nbsp;&nbsp;</span>LSTM</a></span><ul class=\"toc-item\"><li><span><a href=\"#获取数据\" data-toc-modified-id=\"获取数据-3.4.1\"><span class=\"toc-item-num\">3.4.1&nbsp;&nbsp;</span>获取数据</a></span></li><li><span><a href=\"#划分训练集和测试集\" data-toc-modified-id=\"划分训练集和测试集-3.4.2\"><span class=\"toc-item-num\">3.4.2&nbsp;&nbsp;</span>划分训练集和测试集</a></span></li><li><span><a href=\"#存储数据\" data-toc-modified-id=\"存储数据-3.4.3\"><span class=\"toc-item-num\">3.4.3&nbsp;&nbsp;</span>存储数据</a></span></li><li><span><a href=\"#获取数据\" data-toc-modified-id=\"获取数据-3.4.4\"><span class=\"toc-item-num\">3.4.4&nbsp;&nbsp;</span>获取数据</a></span></li><li><span><a href=\"#超参数\" data-toc-modified-id=\"超参数-3.4.5\"><span class=\"toc-item-num\">3.4.5&nbsp;&nbsp;</span>超参数</a></span></li><li><span><a href=\"#模型\" data-toc-modified-id=\"模型-3.4.6\"><span class=\"toc-item-num\">3.4.6&nbsp;&nbsp;</span>模型</a></span></li><li><span><a href=\"#训练和评价\" data-toc-modified-id=\"训练和评价-3.4.7\"><span class=\"toc-item-num\">3.4.7&nbsp;&nbsp;</span>训练和评价</a></span></li><li><span><a href=\"#保存预测结果\" data-toc-modified-id=\"保存预测结果-3.4.8\"><span class=\"toc-item-num\">3.4.8&nbsp;&nbsp;</span>保存预测结果</a></span></li></ul></li><li><span><a href=\"#BLSTM\" data-toc-modified-id=\"BLSTM-3.5\"><span class=\"toc-item-num\">3.5&nbsp;&nbsp;</span>BLSTM</a></span><ul class=\"toc-item\"><li><span><a href=\"#获取数据(数据和lstm的数据一样)\" data-toc-modified-id=\"获取数据(数据和lstm的数据一样)-3.5.1\"><span class=\"toc-item-num\">3.5.1&nbsp;&nbsp;</span>获取数据(数据和lstm的数据一样)</a></span></li><li><span><a href=\"#超参数\" data-toc-modified-id=\"超参数-3.5.2\"><span class=\"toc-item-num\">3.5.2&nbsp;&nbsp;</span>超参数</a></span></li><li><span><a href=\"#模型\" data-toc-modified-id=\"模型-3.5.3\"><span class=\"toc-item-num\">3.5.3&nbsp;&nbsp;</span>模型</a></span></li><li><span><a href=\"#训练和评价\" data-toc-modified-id=\"训练和评价-3.5.4\"><span class=\"toc-item-num\">3.5.4&nbsp;&nbsp;</span>训练和评价</a></span></li><li><span><a href=\"#保存预测结果\" data-toc-modified-id=\"保存预测结果-3.5.5\"><span class=\"toc-item-num\">3.5.5&nbsp;&nbsp;</span>保存预测结果</a></span></li></ul></li></ul></li><li><span><a href=\"#评价\" data-toc-modified-id=\"评价-4\"><span class=\"toc-item-num\">4&nbsp;&nbsp;</span>评价</a></span><ul class=\"toc-item\"><li><span><a href=\"#载入结果数据\" data-toc-modified-id=\"载入结果数据-4.1\"><span class=\"toc-item-num\">4.1&nbsp;&nbsp;</span>载入结果数据</a></span></li><li><span><a href=\"#混淆矩阵\" data-toc-modified-id=\"混淆矩阵-4.2\"><span class=\"toc-item-num\">4.2&nbsp;&nbsp;</span>混淆矩阵</a></span><ul class=\"toc-item\"><li><span><a href=\"#定义绘制混淆矩阵函数\" data-toc-modified-id=\"定义绘制混淆矩阵函数-4.2.1\"><span class=\"toc-item-num\">4.2.1&nbsp;&nbsp;</span>定义绘制混淆矩阵函数</a></span></li><li><span><a href=\"#DNN\" data-toc-modified-id=\"DNN-4.2.2\"><span class=\"toc-item-num\">4.2.2&nbsp;&nbsp;</span>DNN</a></span></li><li><span><a href=\"#LSTM\" data-toc-modified-id=\"LSTM-4.2.3\"><span class=\"toc-item-num\">4.2.3&nbsp;&nbsp;</span>LSTM</a></span></li><li><span><a href=\"#BLSTM\" data-toc-modified-id=\"BLSTM-4.2.4\"><span class=\"toc-item-num\">4.2.4&nbsp;&nbsp;</span>BLSTM</a></span></li></ul></li><li><span><a href=\"#Accuracy\" data-toc-modified-id=\"Accuracy-4.3\"><span class=\"toc-item-num\">4.3&nbsp;&nbsp;</span>Accuracy</a></span></li><li><span><a href=\"#ROC\" data-toc-modified-id=\"ROC-4.4\"><span class=\"toc-item-num\">4.4&nbsp;&nbsp;</span>ROC</a></span><ul class=\"toc-item\"><li><span><a href=\"#绘制宏ROC\" data-toc-modified-id=\"绘制宏ROC-4.4.1\"><span class=\"toc-item-num\">4.4.1&nbsp;&nbsp;</span>绘制宏ROC</a></span></li><li><span><a href=\"#计算ROC\" data-toc-modified-id=\"计算ROC-4.4.2\"><span class=\"toc-item-num\">4.4.2&nbsp;&nbsp;</span>计算ROC</a></span></li><li><span><a href=\"#绘制ROC\" data-toc-modified-id=\"绘制ROC-4.4.3\"><span class=\"toc-item-num\">4.4.3&nbsp;&nbsp;</span>绘制ROC</a></span></li></ul></li><li><span><a href=\"#AUC\" data-toc-modified-id=\"AUC-4.5\"><span class=\"toc-item-num\">4.5&nbsp;&nbsp;</span>AUC</a></span></li></ul></li></ul></div>"
   ]
  },
  {
   "cell_type": "code",
   "execution_count": 1,
   "metadata": {},
   "outputs": [
    {
     "name": "stderr",
     "output_type": "stream",
     "text": [
      "/usr/lib64/python3.4/importlib/_bootstrap.py:321: FutureWarning: Conversion of the second argument of issubdtype from `float` to `np.floating` is deprecated. In future, it will be treated as `np.float64 == np.dtype(float).type`.\n",
      "  return f(*args, **kwds)\n"
     ]
    }
   ],
   "source": [
    "import numpy as np\n",
    "import pandas as pd\n",
    "import matplotlib.pyplot as plt\n",
    "import sklearn\n",
    "import seaborn as sns\n",
    "import tensorflow as tf\n",
    "from scipy import io\n",
    "%matplotlib inline"
   ]
  },
  {
   "cell_type": "code",
   "execution_count": 2,
   "metadata": {},
   "outputs": [],
   "source": [
    "#原数据路径\n",
    "src_path = r\"./data/src data/\"\n",
    "#采样数据\n",
    "sample_data_path = r\"./data/sample.csv\"\n",
    "#经过特征选择后的数据\n",
    "select_data_path = \"./data/select_data.csv\"\n",
    "#特征选择后的标签数据\n",
    "select_label_path = \"./data/select_label.csv\"\n",
    "\n",
    "#定阶后的数据存储路径\n",
    "order_data_path = \"./data/order_data.npy\"\n",
    "#定阶后的标签路径\n",
    "order_label_path = \"./data/order_label.npy\"\n",
    "\n",
    "#非时序模型的特征提取存储路径\n",
    "extract_data_path = \"./data/extract_data.npy\"\n",
    "extract_label_path = \"./data/extract_label.npy\"\n",
    "\n",
    "#每种工况下取得行数\n",
    "each_row_count = 10000"
   ]
  },
  {
   "cell_type": "markdown",
   "metadata": {},
   "source": [
    "# 数据整理"
   ]
  },
  {
   "cell_type": "markdown",
   "metadata": {},
   "source": [
    "## 获取数据"
   ]
  },
  {
   "cell_type": "code",
   "execution_count": 68,
   "metadata": {},
   "outputs": [
    {
     "data": {
      "text/plain": [
       "(['D00', 'DB0', 'DBB', 'DHT', 'D05', 'D10'],\n",
       " ['L00', 'L1C', 'L3A', 'L13'],\n",
       " ['V02', 'V05', 'V08'])"
      ]
     },
     "execution_count": 68,
     "metadata": {},
     "output_type": "execute_result"
    }
   ],
   "source": [
    "import sys\n",
    "sys.path.append(\"src\")\n",
    "import reader\n",
    "from imp import reload\n",
    "reload(reader)\n",
    "\n",
    "damage_levels,damage_locations,shake_levels = \\\n",
    "        reader.damage_level_list,reader.damage_location_list,reader.shake_level_list\n",
    "\n",
    "damage_levels,damage_locations,shake_levels"
   ]
  },
  {
   "cell_type": "code",
   "execution_count": 70,
   "metadata": {
    "scrolled": true
   },
   "outputs": [],
   "source": [
    "total_data = None;\n",
    "for damage_level in damage_levels:\n",
    "    for damage_location in damage_locations:\n",
    "        for shake_level in shake_levels:\n",
    "            data = reader.read_data(damage_location = damage_location,\n",
    "                                    damage_level = damage_level,\n",
    "                                    shake_level = shake_level,\n",
    "                                    start_row = 10000,\n",
    "                                   row_count = each_row_count)\n",
    "            #print(data.shape)\n",
    "            if data is not None:\n",
    "                total_data = data if total_data is None else pd.concat([total_data,data],axis = 0)"
   ]
  },
  {
   "cell_type": "markdown",
   "metadata": {},
   "source": [
    "## 从新标定Index列"
   ]
  },
  {
   "cell_type": "code",
   "execution_count": 74,
   "metadata": {},
   "outputs": [
    {
     "data": {
      "text/html": [
       "<div>\n",
       "<style>\n",
       "    .dataframe thead tr:only-child th {\n",
       "        text-align: right;\n",
       "    }\n",
       "\n",
       "    .dataframe thead th {\n",
       "        text-align: left;\n",
       "    }\n",
       "\n",
       "    .dataframe tbody tr th {\n",
       "        vertical-align: top;\n",
       "    }\n",
       "</style>\n",
       "<table border=\"1\" class=\"dataframe\">\n",
       "  <thead>\n",
       "    <tr style=\"text-align: right;\">\n",
       "      <th></th>\n",
       "      <th>3BP</th>\n",
       "      <th>3BC</th>\n",
       "      <th>3AP</th>\n",
       "      <th>3AC</th>\n",
       "      <th>3CP</th>\n",
       "      <th>3CC</th>\n",
       "      <th>3DP</th>\n",
       "      <th>3DC</th>\n",
       "      <th>Destroy Data</th>\n",
       "      <th>2BC</th>\n",
       "      <th>...</th>\n",
       "      <th>1AC</th>\n",
       "      <th>1CP</th>\n",
       "      <th>1CC</th>\n",
       "      <th>1DP</th>\n",
       "      <th>1DC</th>\n",
       "      <th>Time history</th>\n",
       "      <th>2BP</th>\n",
       "      <th>Damage Location</th>\n",
       "      <th>Damage Level</th>\n",
       "      <th>Shake Level</th>\n",
       "    </tr>\n",
       "  </thead>\n",
       "  <tbody>\n",
       "    <tr>\n",
       "      <th>0</th>\n",
       "      <td>-0.007063</td>\n",
       "      <td>-0.216290</td>\n",
       "      <td>0.30294</td>\n",
       "      <td>0.14113</td>\n",
       "      <td>0.059886</td>\n",
       "      <td>0.116530</td>\n",
       "      <td>-0.183440</td>\n",
       "      <td>-0.15505</td>\n",
       "      <td>0.003109</td>\n",
       "      <td>-0.111120</td>\n",
       "      <td>...</td>\n",
       "      <td>0.530460</td>\n",
       "      <td>-0.043529</td>\n",
       "      <td>-0.218320</td>\n",
       "      <td>-0.18101</td>\n",
       "      <td>-0.400010</td>\n",
       "      <td>12.31800</td>\n",
       "      <td>-0.103280</td>\n",
       "      <td>L00</td>\n",
       "      <td>D00</td>\n",
       "      <td>V02</td>\n",
       "    </tr>\n",
       "    <tr>\n",
       "      <th>1</th>\n",
       "      <td>-0.004391</td>\n",
       "      <td>-0.078271</td>\n",
       "      <td>0.17330</td>\n",
       "      <td>0.40122</td>\n",
       "      <td>0.086112</td>\n",
       "      <td>0.163030</td>\n",
       "      <td>-0.003515</td>\n",
       "      <td>-0.26658</td>\n",
       "      <td>0.003109</td>\n",
       "      <td>-0.005272</td>\n",
       "      <td>...</td>\n",
       "      <td>0.182630</td>\n",
       "      <td>-0.147480</td>\n",
       "      <td>-0.036229</td>\n",
       "      <td>-0.14262</td>\n",
       "      <td>-0.257660</td>\n",
       "      <td>4.17630</td>\n",
       "      <td>-0.113420</td>\n",
       "      <td>L00</td>\n",
       "      <td>D00</td>\n",
       "      <td>V02</td>\n",
       "    </tr>\n",
       "    <tr>\n",
       "      <th>2</th>\n",
       "      <td>-0.004646</td>\n",
       "      <td>0.108550</td>\n",
       "      <td>0.37892</td>\n",
       "      <td>0.13288</td>\n",
       "      <td>0.025279</td>\n",
       "      <td>0.103690</td>\n",
       "      <td>-0.279150</td>\n",
       "      <td>-0.17790</td>\n",
       "      <td>0.003380</td>\n",
       "      <td>0.035012</td>\n",
       "      <td>...</td>\n",
       "      <td>0.344040</td>\n",
       "      <td>-0.238330</td>\n",
       "      <td>-0.407580</td>\n",
       "      <td>-0.24766</td>\n",
       "      <td>-0.144240</td>\n",
       "      <td>-4.45200</td>\n",
       "      <td>0.079893</td>\n",
       "      <td>L00</td>\n",
       "      <td>D00</td>\n",
       "      <td>V02</td>\n",
       "    </tr>\n",
       "    <tr>\n",
       "      <th>3</th>\n",
       "      <td>-0.010075</td>\n",
       "      <td>-0.124370</td>\n",
       "      <td>0.10233</td>\n",
       "      <td>0.17993</td>\n",
       "      <td>0.045421</td>\n",
       "      <td>0.040960</td>\n",
       "      <td>-0.091789</td>\n",
       "      <td>-0.25198</td>\n",
       "      <td>0.003244</td>\n",
       "      <td>-0.140320</td>\n",
       "      <td>...</td>\n",
       "      <td>0.072728</td>\n",
       "      <td>-0.433940</td>\n",
       "      <td>-0.461920</td>\n",
       "      <td>-0.19196</td>\n",
       "      <td>-0.179520</td>\n",
       "      <td>-3.12120</td>\n",
       "      <td>0.028794</td>\n",
       "      <td>L00</td>\n",
       "      <td>D00</td>\n",
       "      <td>V02</td>\n",
       "    </tr>\n",
       "    <tr>\n",
       "      <th>4</th>\n",
       "      <td>-0.006569</td>\n",
       "      <td>-0.325390</td>\n",
       "      <td>0.16181</td>\n",
       "      <td>0.17074</td>\n",
       "      <td>0.134780</td>\n",
       "      <td>0.094763</td>\n",
       "      <td>-0.100310</td>\n",
       "      <td>-0.08841</td>\n",
       "      <td>0.003244</td>\n",
       "      <td>-0.105980</td>\n",
       "      <td>...</td>\n",
       "      <td>0.127070</td>\n",
       "      <td>-0.308220</td>\n",
       "      <td>-0.535590</td>\n",
       "      <td>-0.10179</td>\n",
       "      <td>0.059751</td>\n",
       "      <td>0.35058</td>\n",
       "      <td>-0.374050</td>\n",
       "      <td>L00</td>\n",
       "      <td>D00</td>\n",
       "      <td>V02</td>\n",
       "    </tr>\n",
       "  </tbody>\n",
       "</table>\n",
       "<p>5 rows × 29 columns</p>\n",
       "</div>"
      ],
      "text/plain": [
       "        3BP       3BC      3AP      3AC       3CP       3CC       3DP  \\\n",
       "0 -0.007063 -0.216290  0.30294  0.14113  0.059886  0.116530 -0.183440   \n",
       "1 -0.004391 -0.078271  0.17330  0.40122  0.086112  0.163030 -0.003515   \n",
       "2 -0.004646  0.108550  0.37892  0.13288  0.025279  0.103690 -0.279150   \n",
       "3 -0.010075 -0.124370  0.10233  0.17993  0.045421  0.040960 -0.091789   \n",
       "4 -0.006569 -0.325390  0.16181  0.17074  0.134780  0.094763 -0.100310   \n",
       "\n",
       "       3DC  Destroy Data       2BC     ...            1AC       1CP       1CC  \\\n",
       "0 -0.15505      0.003109 -0.111120     ...       0.530460 -0.043529 -0.218320   \n",
       "1 -0.26658      0.003109 -0.005272     ...       0.182630 -0.147480 -0.036229   \n",
       "2 -0.17790      0.003380  0.035012     ...       0.344040 -0.238330 -0.407580   \n",
       "3 -0.25198      0.003244 -0.140320     ...       0.072728 -0.433940 -0.461920   \n",
       "4 -0.08841      0.003244 -0.105980     ...       0.127070 -0.308220 -0.535590   \n",
       "\n",
       "       1DP       1DC  Time history       2BP  Damage Location  Damage Level  \\\n",
       "0 -0.18101 -0.400010      12.31800 -0.103280              L00           D00   \n",
       "1 -0.14262 -0.257660       4.17630 -0.113420              L00           D00   \n",
       "2 -0.24766 -0.144240      -4.45200  0.079893              L00           D00   \n",
       "3 -0.19196 -0.179520      -3.12120  0.028794              L00           D00   \n",
       "4 -0.10179  0.059751       0.35058 -0.374050              L00           D00   \n",
       "\n",
       "   Shake Level  \n",
       "0          V02  \n",
       "1          V02  \n",
       "2          V02  \n",
       "3          V02  \n",
       "4          V02  \n",
       "\n",
       "[5 rows x 29 columns]"
      ]
     },
     "execution_count": 74,
     "metadata": {},
     "output_type": "execute_result"
    }
   ],
   "source": [
    "reset_signal = False\n",
    "if reset_signal:\n",
    "    total_data.reset_index(drop = True,inplace = True)\n",
    "total_data.head()"
   ]
  },
  {
   "cell_type": "markdown",
   "metadata": {},
   "source": [
    "## 删除时间序列 毁坏的数据列"
   ]
  },
  {
   "cell_type": "code",
   "execution_count": 75,
   "metadata": {},
   "outputs": [],
   "source": [
    "total_data.drop([\"Destroy Data\",\"Time history\"],axis = 1,inplace = True)"
   ]
  },
  {
   "cell_type": "markdown",
   "metadata": {},
   "source": [
    "## 对数据进行ONE-HOT编码"
   ]
  },
  {
   "cell_type": "code",
   "execution_count": 76,
   "metadata": {},
   "outputs": [],
   "source": [
    "def one_hot():\n",
    "    \"\"\"\n",
    "        对数据集进行one—hot编码\n",
    "    \"\"\"\n",
    "    global total_data\n",
    "    \n",
    "    damage_location_dummy =  pd.get_dummies(total_data[\"Damage Location\"],prefix = \"Damage Location\")\n",
    "    shake_level_dummy =  pd.get_dummies(total_data[\"Shake Level\"],prefix = \"Shake Level\")\n",
    "    damage_level_dummy =  pd.get_dummies(total_data[\"Damage Level\"],prefix = \"Damage Level\")\n",
    "    \n",
    "    total_data.drop([\"Damage Location\",\"Shake Level\",\"Damage Level\"],axis = 1,inplace = True)\n",
    "    \n",
    "    total_data = pd.concat([total_data,damage_location_dummy],axis = 1)\n",
    "    total_data = pd.concat([total_data,damage_level_dummy],axis = 1)\n",
    "    total_data = pd.concat([total_data,shake_level_dummy],axis = 1)"
   ]
  },
  {
   "cell_type": "markdown",
   "metadata": {},
   "source": [
    "### 对数据执行ONE-HOT编码"
   ]
  },
  {
   "cell_type": "code",
   "execution_count": 78,
   "metadata": {
    "scrolled": true
   },
   "outputs": [],
   "source": [
    "one_hot_signal = False\n",
    "if one_hot_signal:\n",
    "    one_hot()"
   ]
  },
  {
   "cell_type": "code",
   "execution_count": 79,
   "metadata": {},
   "outputs": [
    {
     "name": "stdout",
     "output_type": "stream",
     "text": [
      "<class 'pandas.core.frame.DataFrame'>\n",
      "RangeIndex: 240024 entries, 0 to 240023\n",
      "Data columns (total 27 columns):\n",
      "3BP                240024 non-null float64\n",
      "3BC                240024 non-null float64\n",
      "3AP                240024 non-null float64\n",
      "3AC                240024 non-null float64\n",
      "3CP                240024 non-null float64\n",
      "3CC                240024 non-null float64\n",
      "3DP                240024 non-null float64\n",
      "3DC                240024 non-null float64\n",
      "2BC                240024 non-null float64\n",
      "2AP                240024 non-null float64\n",
      "2AC                240024 non-null float64\n",
      "2CP                240024 non-null float64\n",
      "2CC                240024 non-null float64\n",
      "2DP                240024 non-null float64\n",
      "2DC                240024 non-null float64\n",
      "1BP                240024 non-null float64\n",
      "1BC                240024 non-null float64\n",
      "1AP                240024 non-null float64\n",
      "1AC                240024 non-null float64\n",
      "1CP                240024 non-null float64\n",
      "1CC                240024 non-null float64\n",
      "1DP                240024 non-null float64\n",
      "1DC                240024 non-null float64\n",
      "2BP                240024 non-null float64\n",
      "Damage Location    240024 non-null object\n",
      "Damage Level       240024 non-null object\n",
      "Shake Level        240024 non-null object\n",
      "dtypes: float64(24), object(3)\n",
      "memory usage: 49.4+ MB\n"
     ]
    }
   ],
   "source": [
    "total_data.info()"
   ]
  },
  {
   "cell_type": "markdown",
   "metadata": {},
   "source": [
    "# 预处理"
   ]
  },
  {
   "cell_type": "markdown",
   "metadata": {},
   "source": [
    "## 特征选择"
   ]
  },
  {
   "cell_type": "markdown",
   "metadata": {},
   "source": [
    "###  定义增益率的函数"
   ]
  },
  {
   "cell_type": "code",
   "execution_count": 183,
   "metadata": {
    "scrolled": true
   },
   "outputs": [],
   "source": [
    "import numpy as np\n",
    "import pandas as pd\n",
    "from sklearn import preprocessing\n",
    "\n",
    "def Gain_rate(data,feature_name,class_name,continues = False):\n",
    "    \"\"\"\n",
    "        计算增益率\n",
    "        如果是离散数据，则按照标准增益率公式计算。如果是连续型数据，则将数据二值化，具体二值化\n",
    "        的过程是首先将数据从小到大排列，然后在相邻的两个数据间取均值，设为二值化阈值，然后二值化。\n",
    "        在所有的二值化阈值中取最大的互信息，然后再计算增益率\n",
    "        Args:\n",
    "            data:    数据\n",
    "            feature_index:     要测试的特征的列\n",
    "            class_index:       分类的列\n",
    "        Return:\n",
    "            增益率\n",
    "    \"\"\"\n",
    "    #标签的信息熵\n",
    "    class_entropy = None\n",
    "    \n",
    "    #计算最大的互信息\n",
    "    sort_data = data[feature_name].values;\n",
    "    #存储最大互信息和最大互信息的阈值\n",
    "    max_mutaul_info = - np.inf\n",
    "    max_mutaul_threshold = None;\n",
    "    \n",
    "    #如果是连续情况\n",
    "    if continues:\n",
    "        for i in range(0,len(sort_data) - 1):\n",
    "            #计算阈值\n",
    "            feature_threshold = (sort_data[i] + sort_data[i + 1]) / 2\n",
    "\n",
    "            #处理子数据集（子数据集仅包含要计算的特征列以及分类列）\n",
    "            #类别需要数值化编码，特征需要根据阈值二值化，然后组成一个子数据集\n",
    "            col_data = np.digitize(data[feature_name].values,bins = [feature_threshold]) \\\n",
    "                                                    if continues else data[feature_name].values\n",
    "            encode_class = preprocessing.LabelEncoder().fit_transform(data[class_name].values)\n",
    "            col_data.shape = (-1,1)\n",
    "            encode_class.shape = (-1,1)\n",
    "            sub_data = np.concatenate([col_data,encode_class],axis = 1)\n",
    "\n",
    "\n",
    "            #计算联合信息熵\n",
    "            union_entropy = Entropy(sub_data)\n",
    "            #计算特征的信息熵\n",
    "            feature_entropy = Entropy(col_data)\n",
    "            #计算标签的信息熵\n",
    "            if class_entropy is None : class_entropy = Entropy(encode_class)\n",
    "            #计算互信息\n",
    "            mutual_info = feature_entropy + class_entropy - union_entropy;\n",
    "            if mutual_info > max_mutaul_info:\n",
    "                max_mutaul_info = mutual_info\n",
    "                max_mutaul_threshold = feature_threshold\n",
    "    #离散情况\n",
    "    else:\n",
    "        encode_class = preprocessing.LabelEncoder().fit_transform(data[class_name].values)\n",
    "        encode_feature = preprocessing.LabelEncoder().fit_transform(data[feature_name].values)\n",
    "        encode_class.shape = (-1,1)\n",
    "        encode_feature.shape = (-1,1)\n",
    "        \n",
    "        feature_entropy = Entropy(encode_feature)\n",
    "        class_entropy = Entropy(encode_class)\n",
    "        \n",
    "        sub_data = np.concatenate([encode_feature,encode_class],axis = 1)\n",
    "\n",
    "        #计算联合信息熵\n",
    "        union_entropy = Entropy(sub_data)\n",
    "        #计算互信息\n",
    "        mutual_info = feature_entropy + class_entropy - union_entropy;\n",
    "        \n",
    "        \n",
    "    \n",
    "    #计算信息增益\n",
    "    gain_rate = mutual_info / feature_entropy\n",
    "    return gain_rate\n",
    "    \n",
    "\n",
    "def digitize_statistics(data):\n",
    "    \"\"\"\n",
    "        离散统计\n",
    "        Args:\n",
    "            data:    数据\n",
    "        Return:\n",
    "            统计出的离散比率\n",
    "    \"\"\"\n",
    "    data = np.array(data,dtype = np.int32);\n",
    "    \n",
    "    tmp_dict = {}\n",
    "    \n",
    "    for i in range(data.shape[0]):\n",
    "        tmp = str(data[i].tolist())\n",
    "        if tmp in tmp_dict:\n",
    "            tmp_dict[tmp] += 1;\n",
    "        else:\n",
    "            tmp_dict[tmp] = 1;\n",
    "    \n",
    "    value_counts = np.array(list(tmp_dict.values()),dtype = np.float32)\n",
    "    return value_counts / (value_counts.sum())\n",
    "\n",
    "\n",
    "def Entropy(data):\n",
    "    \"\"\"\n",
    "        计算信息熵的基本算式(数据必须是离散数据)\n",
    "        Args:\n",
    "            data:   要计算的数据\n",
    "        Return:\n",
    "            信息熵\n",
    "    \"\"\"\n",
    "    data = np.array(data, dtype = np.int32)\n",
    "    #计算离散概率\n",
    "    value_rate = digitize_statistics(data)\n",
    "    #计算信息熵\n",
    "    entropy = - np.sum(value_rate * np.log(value_rate))\n",
    "        \n",
    "    return entropy\n",
    "    \n",
    "    "
   ]
  },
  {
   "cell_type": "markdown",
   "metadata": {},
   "source": [
    "### 计算增益率的采样（因为样本太多且几乎都是连续样本）"
   ]
  },
  {
   "cell_type": "code",
   "execution_count": 177,
   "metadata": {},
   "outputs": [
    {
     "data": {
      "text/html": [
       "<div>\n",
       "<style>\n",
       "    .dataframe thead tr:only-child th {\n",
       "        text-align: right;\n",
       "    }\n",
       "\n",
       "    .dataframe thead th {\n",
       "        text-align: left;\n",
       "    }\n",
       "\n",
       "    .dataframe tbody tr th {\n",
       "        vertical-align: top;\n",
       "    }\n",
       "</style>\n",
       "<table border=\"1\" class=\"dataframe\">\n",
       "  <thead>\n",
       "    <tr style=\"text-align: right;\">\n",
       "      <th></th>\n",
       "      <th>3BP</th>\n",
       "      <th>3BC</th>\n",
       "      <th>3AP</th>\n",
       "      <th>3AC</th>\n",
       "      <th>3CP</th>\n",
       "      <th>3CC</th>\n",
       "      <th>3DP</th>\n",
       "      <th>3DC</th>\n",
       "      <th>2BC</th>\n",
       "      <th>2AP</th>\n",
       "      <th>...</th>\n",
       "      <th>1AP</th>\n",
       "      <th>1AC</th>\n",
       "      <th>1CP</th>\n",
       "      <th>1CC</th>\n",
       "      <th>1DP</th>\n",
       "      <th>1DC</th>\n",
       "      <th>2BP</th>\n",
       "      <th>Damage Location</th>\n",
       "      <th>Damage Level</th>\n",
       "      <th>Shake Level</th>\n",
       "    </tr>\n",
       "  </thead>\n",
       "  <tbody>\n",
       "    <tr>\n",
       "      <th>102589</th>\n",
       "      <td>-0.054208</td>\n",
       "      <td>0.33377</td>\n",
       "      <td>-0.13464</td>\n",
       "      <td>-0.057182</td>\n",
       "      <td>-0.016222</td>\n",
       "      <td>-0.173170</td>\n",
       "      <td>0.055290</td>\n",
       "      <td>0.19696</td>\n",
       "      <td>-0.172360</td>\n",
       "      <td>-0.211700</td>\n",
       "      <td>...</td>\n",
       "      <td>0.170600</td>\n",
       "      <td>0.508420</td>\n",
       "      <td>-0.218050</td>\n",
       "      <td>-0.075432</td>\n",
       "      <td>-0.17385</td>\n",
       "      <td>-0.367290</td>\n",
       "      <td>-0.15587</td>\n",
       "      <td>L13</td>\n",
       "      <td>DB0</td>\n",
       "      <td>V05</td>\n",
       "    </tr>\n",
       "    <tr>\n",
       "      <th>51898</th>\n",
       "      <td>-0.011453</td>\n",
       "      <td>-0.11599</td>\n",
       "      <td>0.19250</td>\n",
       "      <td>-0.127880</td>\n",
       "      <td>-0.075567</td>\n",
       "      <td>0.080028</td>\n",
       "      <td>-0.342010</td>\n",
       "      <td>0.21440</td>\n",
       "      <td>0.029470</td>\n",
       "      <td>-0.202770</td>\n",
       "      <td>...</td>\n",
       "      <td>0.100440</td>\n",
       "      <td>0.353100</td>\n",
       "      <td>0.121940</td>\n",
       "      <td>0.222240</td>\n",
       "      <td>-0.13167</td>\n",
       "      <td>-0.377700</td>\n",
       "      <td>-0.42069</td>\n",
       "      <td>L1C</td>\n",
       "      <td>DB0</td>\n",
       "      <td>V08</td>\n",
       "    </tr>\n",
       "    <tr>\n",
       "      <th>126819</th>\n",
       "      <td>0.032863</td>\n",
       "      <td>0.26590</td>\n",
       "      <td>-0.23616</td>\n",
       "      <td>-0.025955</td>\n",
       "      <td>-0.260630</td>\n",
       "      <td>-0.250220</td>\n",
       "      <td>0.045557</td>\n",
       "      <td>0.20372</td>\n",
       "      <td>-0.430560</td>\n",
       "      <td>-0.014194</td>\n",
       "      <td>...</td>\n",
       "      <td>0.083273</td>\n",
       "      <td>-0.024333</td>\n",
       "      <td>0.256440</td>\n",
       "      <td>0.109230</td>\n",
       "      <td>-0.15600</td>\n",
       "      <td>-0.016898</td>\n",
       "      <td>-0.32106</td>\n",
       "      <td>L1C</td>\n",
       "      <td>DBB</td>\n",
       "      <td>V02</td>\n",
       "    </tr>\n",
       "    <tr>\n",
       "      <th>82531</th>\n",
       "      <td>0.221700</td>\n",
       "      <td>0.11653</td>\n",
       "      <td>0.17371</td>\n",
       "      <td>0.125310</td>\n",
       "      <td>-0.275370</td>\n",
       "      <td>-0.178580</td>\n",
       "      <td>-0.212780</td>\n",
       "      <td>-0.30092</td>\n",
       "      <td>-0.012302</td>\n",
       "      <td>-0.252790</td>\n",
       "      <td>...</td>\n",
       "      <td>-0.092195</td>\n",
       "      <td>-0.369590</td>\n",
       "      <td>-0.067862</td>\n",
       "      <td>-0.132750</td>\n",
       "      <td>0.15168</td>\n",
       "      <td>0.257790</td>\n",
       "      <td>-0.12640</td>\n",
       "      <td>L3A</td>\n",
       "      <td>DB0</td>\n",
       "      <td>V08</td>\n",
       "    </tr>\n",
       "    <tr>\n",
       "      <th>108779</th>\n",
       "      <td>0.126260</td>\n",
       "      <td>0.14329</td>\n",
       "      <td>0.39541</td>\n",
       "      <td>0.545190</td>\n",
       "      <td>-0.207100</td>\n",
       "      <td>-0.110990</td>\n",
       "      <td>-0.212910</td>\n",
       "      <td>-0.20115</td>\n",
       "      <td>-0.510320</td>\n",
       "      <td>-0.546540</td>\n",
       "      <td>...</td>\n",
       "      <td>0.300920</td>\n",
       "      <td>0.422580</td>\n",
       "      <td>-0.131400</td>\n",
       "      <td>-0.239680</td>\n",
       "      <td>-0.34715</td>\n",
       "      <td>-0.254550</td>\n",
       "      <td>-0.33336</td>\n",
       "      <td>L13</td>\n",
       "      <td>DB0</td>\n",
       "      <td>V05</td>\n",
       "    </tr>\n",
       "  </tbody>\n",
       "</table>\n",
       "<p>5 rows × 27 columns</p>\n",
       "</div>"
      ],
      "text/plain": [
       "             3BP      3BC      3AP       3AC       3CP       3CC       3DP  \\\n",
       "102589 -0.054208  0.33377 -0.13464 -0.057182 -0.016222 -0.173170  0.055290   \n",
       "51898  -0.011453 -0.11599  0.19250 -0.127880 -0.075567  0.080028 -0.342010   \n",
       "126819  0.032863  0.26590 -0.23616 -0.025955 -0.260630 -0.250220  0.045557   \n",
       "82531   0.221700  0.11653  0.17371  0.125310 -0.275370 -0.178580 -0.212780   \n",
       "108779  0.126260  0.14329  0.39541  0.545190 -0.207100 -0.110990 -0.212910   \n",
       "\n",
       "            3DC       2BC       2AP     ...            1AP       1AC  \\\n",
       "102589  0.19696 -0.172360 -0.211700     ...       0.170600  0.508420   \n",
       "51898   0.21440  0.029470 -0.202770     ...       0.100440  0.353100   \n",
       "126819  0.20372 -0.430560 -0.014194     ...       0.083273 -0.024333   \n",
       "82531  -0.30092 -0.012302 -0.252790     ...      -0.092195 -0.369590   \n",
       "108779 -0.20115 -0.510320 -0.546540     ...       0.300920  0.422580   \n",
       "\n",
       "             1CP       1CC      1DP       1DC      2BP  Damage Location  \\\n",
       "102589 -0.218050 -0.075432 -0.17385 -0.367290 -0.15587              L13   \n",
       "51898   0.121940  0.222240 -0.13167 -0.377700 -0.42069              L1C   \n",
       "126819  0.256440  0.109230 -0.15600 -0.016898 -0.32106              L1C   \n",
       "82531  -0.067862 -0.132750  0.15168  0.257790 -0.12640              L3A   \n",
       "108779 -0.131400 -0.239680 -0.34715 -0.254550 -0.33336              L13   \n",
       "\n",
       "        Damage Level  Shake Level  \n",
       "102589           DB0          V05  \n",
       "51898            DB0          V08  \n",
       "126819           DBB          V02  \n",
       "82531            DB0          V08  \n",
       "108779           DB0          V05  \n",
       "\n",
       "[5 rows x 27 columns]"
      ]
     },
     "execution_count": 177,
     "metadata": {},
     "output_type": "execute_result"
    }
   ],
   "source": [
    "sample_num = 1000\n",
    "\n",
    "sample_data = total_data.sample(sample_num)\n",
    "sample_data.head()"
   ]
  },
  {
   "cell_type": "markdown",
   "metadata": {},
   "source": [
    "### 计算每一列的增益率"
   ]
  },
  {
   "cell_type": "code",
   "execution_count": 187,
   "metadata": {},
   "outputs": [],
   "source": [
    "#类别列名\n",
    "class_col = \"Damage Level\"\n",
    "#增益率字典\n",
    "gain_rate_dict = {}\n",
    "\n",
    "for col_name in sample_data.columns:\n",
    "    if col_name == class_col : continue\n",
    "    if col_name == \"Damage Location\" or col_name == \"Shake Level\":\n",
    "        gain_rate = Gain_rate(data = sample_data , feature_name = col_name,class_name = class_col,continues = False)\n",
    "    else:\n",
    "        gain_rate = Gain_rate(data = sample_data , feature_name = col_name,class_name = class_col,continues = True)\n",
    "    gain_rate_dict[col_name] = gain_rate"
   ]
  },
  {
   "cell_type": "code",
   "execution_count": 211,
   "metadata": {},
   "outputs": [
    {
     "data": {
      "text/html": [
       "<div>\n",
       "<style>\n",
       "    .dataframe thead tr:only-child th {\n",
       "        text-align: right;\n",
       "    }\n",
       "\n",
       "    .dataframe thead th {\n",
       "        text-align: left;\n",
       "    }\n",
       "\n",
       "    .dataframe tbody tr th {\n",
       "        vertical-align: top;\n",
       "    }\n",
       "</style>\n",
       "<table border=\"1\" class=\"dataframe\">\n",
       "  <thead>\n",
       "    <tr style=\"text-align: right;\">\n",
       "      <th></th>\n",
       "      <th>Gain Rate</th>\n",
       "    </tr>\n",
       "    <tr>\n",
       "      <th>Feature</th>\n",
       "      <th></th>\n",
       "    </tr>\n",
       "  </thead>\n",
       "  <tbody>\n",
       "    <tr>\n",
       "      <th>1AP</th>\n",
       "      <td>0.001544</td>\n",
       "    </tr>\n",
       "    <tr>\n",
       "      <th>1DC</th>\n",
       "      <td>0.001674</td>\n",
       "    </tr>\n",
       "    <tr>\n",
       "      <th>1AC</th>\n",
       "      <td>0.002057</td>\n",
       "    </tr>\n",
       "    <tr>\n",
       "      <th>2AC</th>\n",
       "      <td>0.002437</td>\n",
       "    </tr>\n",
       "    <tr>\n",
       "      <th>3CC</th>\n",
       "      <td>0.002588</td>\n",
       "    </tr>\n",
       "    <tr>\n",
       "      <th>2DP</th>\n",
       "      <td>0.002751</td>\n",
       "    </tr>\n",
       "    <tr>\n",
       "      <th>2AP</th>\n",
       "      <td>0.002753</td>\n",
       "    </tr>\n",
       "    <tr>\n",
       "      <th>1BC</th>\n",
       "      <td>0.003823</td>\n",
       "    </tr>\n",
       "    <tr>\n",
       "      <th>3BC</th>\n",
       "      <td>0.004004</td>\n",
       "    </tr>\n",
       "    <tr>\n",
       "      <th>1CP</th>\n",
       "      <td>0.004636</td>\n",
       "    </tr>\n",
       "    <tr>\n",
       "      <th>1DP</th>\n",
       "      <td>0.004821</td>\n",
       "    </tr>\n",
       "    <tr>\n",
       "      <th>1BP</th>\n",
       "      <td>0.005174</td>\n",
       "    </tr>\n",
       "    <tr>\n",
       "      <th>3CP</th>\n",
       "      <td>0.005384</td>\n",
       "    </tr>\n",
       "    <tr>\n",
       "      <th>3DP</th>\n",
       "      <td>0.005836</td>\n",
       "    </tr>\n",
       "    <tr>\n",
       "      <th>2BP</th>\n",
       "      <td>0.006249</td>\n",
       "    </tr>\n",
       "    <tr>\n",
       "      <th>2CC</th>\n",
       "      <td>0.007303</td>\n",
       "    </tr>\n",
       "    <tr>\n",
       "      <th>3DC</th>\n",
       "      <td>0.008965</td>\n",
       "    </tr>\n",
       "    <tr>\n",
       "      <th>2BC</th>\n",
       "      <td>0.009927</td>\n",
       "    </tr>\n",
       "    <tr>\n",
       "      <th>2DC</th>\n",
       "      <td>0.010164</td>\n",
       "    </tr>\n",
       "    <tr>\n",
       "      <th>1CC</th>\n",
       "      <td>0.011053</td>\n",
       "    </tr>\n",
       "    <tr>\n",
       "      <th>3AP</th>\n",
       "      <td>0.012089</td>\n",
       "    </tr>\n",
       "    <tr>\n",
       "      <th>2CP</th>\n",
       "      <td>0.029079</td>\n",
       "    </tr>\n",
       "    <tr>\n",
       "      <th>3AC</th>\n",
       "      <td>0.045463</td>\n",
       "    </tr>\n",
       "    <tr>\n",
       "      <th>3BP</th>\n",
       "      <td>0.058390</td>\n",
       "    </tr>\n",
       "    <tr>\n",
       "      <th>Shake Level</th>\n",
       "      <td>0.112619</td>\n",
       "    </tr>\n",
       "    <tr>\n",
       "      <th>Damage Location</th>\n",
       "      <td>0.383831</td>\n",
       "    </tr>\n",
       "  </tbody>\n",
       "</table>\n",
       "</div>"
      ],
      "text/plain": [
       "                 Gain Rate\n",
       "Feature                   \n",
       "1AP               0.001544\n",
       "1DC               0.001674\n",
       "1AC               0.002057\n",
       "2AC               0.002437\n",
       "3CC               0.002588\n",
       "2DP               0.002751\n",
       "2AP               0.002753\n",
       "1BC               0.003823\n",
       "3BC               0.004004\n",
       "1CP               0.004636\n",
       "1DP               0.004821\n",
       "1BP               0.005174\n",
       "3CP               0.005384\n",
       "3DP               0.005836\n",
       "2BP               0.006249\n",
       "2CC               0.007303\n",
       "3DC               0.008965\n",
       "2BC               0.009927\n",
       "2DC               0.010164\n",
       "1CC               0.011053\n",
       "3AP               0.012089\n",
       "2CP               0.029079\n",
       "3AC               0.045463\n",
       "3BP               0.058390\n",
       "Shake Level       0.112619\n",
       "Damage Location   0.383831"
      ]
     },
     "execution_count": 211,
     "metadata": {},
     "output_type": "execute_result"
    }
   ],
   "source": [
    "gain_rate_df = pd.DataFrame()\n",
    "gain_rate_df[\"Gain Rate\"] = gain_rate_dict.values()\n",
    "gain_rate_df[\"Feature\"] = gain_rate_dict.keys()\n",
    "\n",
    "gain_rate_df.sort_values(by = \"Gain Rate\",ascending = True,inplace = True)\n",
    "gain_rate_df.set_index(keys = \"Feature\",drop = True,inplace = True)\n",
    "\n",
    "gain_rate_df"
   ]
  },
  {
   "cell_type": "markdown",
   "metadata": {},
   "source": [
    "###  保存信息增益率结果"
   ]
  },
  {
   "cell_type": "code",
   "execution_count": 212,
   "metadata": {},
   "outputs": [],
   "source": [
    "gain_rate_df.to_csv(\"./result/Gain Rate.csv\")"
   ]
  },
  {
   "cell_type": "markdown",
   "metadata": {},
   "source": [
    "### 画图"
   ]
  },
  {
   "cell_type": "code",
   "execution_count": 2,
   "metadata": {},
   "outputs": [],
   "source": [
    "gain_rate_df = pd.read_csv(\"./result/Gain Rate.csv\")"
   ]
  },
  {
   "cell_type": "code",
   "execution_count": 50,
   "metadata": {},
   "outputs": [
    {
     "data": {
      "text/plain": [
       "(array([0.  , 0.05, 0.1 , 0.15, 0.2 , 0.25, 0.3 , 0.35, 0.4 , 0.45]),\n",
       " <a list of 10 Text xticklabel objects>)"
      ]
     },
     "execution_count": 50,
     "metadata": {},
     "output_type": "execute_result"
    },
    {
     "data": {
      "image/png": "[encoded data removed]",
      "text/plain": [
       "<matplotlib.figure.Figure at 0x7f669dcba198>"
      ]
     },
     "metadata": {},
     "output_type": "display_data"
    }
   ],
   "source": [
    "plt.figure(figsize = (25,30))\n",
    "\n",
    "sns.set_style(\"darkgrid\")\n",
    "sns.barplot(y = \"Feature\",\n",
    "            x = \"Gain Rate\",\n",
    "            data = gain_rate_df.sort_values(by = \"Gain Rate\",ascending = False)\n",
    ")\n",
    "\n",
    "\n",
    "plt.ylabel(\"Feature\",fontsize=30)\n",
    "plt.xlabel(\"Gain Rate\",fontsize=30)\n",
    "\n",
    "plt.yticks(fontsize = 25)\n",
    "plt.xticks(fontsize = 25)"
   ]
  },
  {
   "cell_type": "code",
   "execution_count": null,
   "metadata": {},
   "outputs": [],
   "source": [
    "sns.barplot(y = \"Feature\",x = \"Gain Rate\",data = gain_rate_df.sort_values"
   ]
  },
  {
   "cell_type": "code",
   "execution_count": 216,
   "metadata": {},
   "outputs": [
    {
     "data": {
      "text/plain": [
       "<matplotlib.axes._subplots.AxesSubplot at 0x7fcfd2366c50>"
      ]
     },
     "execution_count": 216,
     "metadata": {},
     "output_type": "execute_result"
    },
    {
     "data": {
      "image/png": "[encoded data removed]",
      "text/plain": [
       "<matplotlib.figure.Figure at 0x7fcfd2379a20>"
      ]
     },
     "metadata": {},
     "output_type": "display_data"
    }
   ],
   "source": [
    "gain_rate_df.plot(kind = \"barh\",figsize = (20,20))"
   ]
  },
  {
   "cell_type": "markdown",
   "metadata": {},
   "source": [
    "### 保存采样数据"
   ]
  },
  {
   "cell_type": "code",
   "execution_count": 218,
   "metadata": {},
   "outputs": [],
   "source": [
    "total_data.to_csv(sample_data_path,index = False)"
   ]
  },
  {
   "cell_type": "markdown",
   "metadata": {},
   "source": [
    "### 特征选择"
   ]
  },
  {
   "cell_type": "code",
   "execution_count": 14,
   "metadata": {},
   "outputs": [],
   "source": [
    "total_data = pd.read_csv(sample_data_path)\n",
    "gain_rate_df = pd.read_csv(\"./result/Gain Rate.csv\")"
   ]
  },
  {
   "cell_type": "code",
   "execution_count": 15,
   "metadata": {},
   "outputs": [],
   "source": [
    "gain_rate_df.set_index(drop = True,keys = \"Feature\",inplace = True)"
   ]
  },
  {
   "cell_type": "code",
   "execution_count": 16,
   "metadata": {},
   "outputs": [
    {
     "name": "stdout",
     "output_type": "stream",
     "text": [
      "<class 'pandas.core.frame.DataFrame'>\n",
      "RangeIndex: 240024 entries, 0 to 240023\n",
      "Data columns (total 14 columns):\n",
      "1BP            240024 non-null float64\n",
      "3CP            240024 non-null float64\n",
      "3DP            240024 non-null float64\n",
      "2BP            240024 non-null float64\n",
      "2CC            240024 non-null float64\n",
      "3DC            240024 non-null float64\n",
      "2BC            240024 non-null float64\n",
      "2DC            240024 non-null float64\n",
      "1CC            240024 non-null float64\n",
      "3AP            240024 non-null float64\n",
      "2CP            240024 non-null float64\n",
      "3AC            240024 non-null float64\n",
      "3BP            240024 non-null float64\n",
      "Shake Level    240024 non-null object\n",
      "dtypes: float64(13), object(1)\n",
      "memory usage: 25.6+ MB\n"
     ]
    },
    {
     "name": "stderr",
     "output_type": "stream",
     "text": [
      "/usr/lib/python3.4/site-packages/ipykernel_launcher.py:6: SettingWithCopyWarning: \n",
      "A value is trying to be set on a copy of a slice from a DataFrame\n",
      "\n",
      "See the caveats in the documentation: http://pandas.pydata.org/pandas-docs/stable/indexing.html#indexing-view-versus-copy\n",
      "  \n"
     ]
    }
   ],
   "source": [
    "#阈值\n",
    "threshold = 0.005\n",
    "\n",
    "select_df = gain_rate_df[gain_rate_df[\"Gain Rate\"] > threshold]\n",
    "data = total_data[select_df.index]\n",
    "data.drop([\"Damage Location\"],axis = 1,inplace = True)\n",
    "data.info()"
   ]
  },
  {
   "cell_type": "code",
   "execution_count": 17,
   "metadata": {},
   "outputs": [
    {
     "data": {
      "text/plain": [
       "(240024,)"
      ]
     },
     "execution_count": 17,
     "metadata": {},
     "output_type": "execute_result"
    }
   ],
   "source": [
    "select_label = total_data[\"Damage Level\"]\n",
    "select_label.shape"
   ]
  },
  {
   "cell_type": "markdown",
   "metadata": {},
   "source": [
    "### 保存特征选择后的数据"
   ]
  },
  {
   "cell_type": "code",
   "execution_count": 18,
   "metadata": {},
   "outputs": [],
   "source": [
    "data.to_csv(select_data_path,index = False)\n",
    "select_label.to_csv(select_label_path,index = False)"
   ]
  },
  {
   "cell_type": "markdown",
   "metadata": {},
   "source": [
    "## 2.2 模型定阶"
   ]
  },
  {
   "cell_type": "markdown",
   "metadata": {},
   "source": [
    "### 定义自相关系数的函数"
   ]
  },
  {
   "cell_type": "code",
   "execution_count": 3,
   "metadata": {
    "scrolled": true
   },
   "outputs": [],
   "source": [
    "import numpy as np\n",
    "\n",
    "def self_correlation(data,iter_step):\n",
    "    \"\"\"\n",
    "        计算每一列的自相关系数\n",
    "        Args:\n",
    "            data:\n",
    "            iter_step:  循环的步数\n",
    "        Return:\n",
    "            每一列的自相关系数\n",
    "    \"\"\"\n",
    "    total_list = []\n",
    "    def col_self_correlation(col_data,n_step):\n",
    "        \"\"\"\n",
    "            计算一列的自相关系数\n",
    "            Args:\n",
    "                col_data:    列数据\n",
    "                n_step:    步数\n",
    "            Return:\n",
    "                自相关系数\n",
    "        \"\"\"\n",
    "        #根据步数取出两列数据\n",
    "        x = col_data[n_step :]\n",
    "        y = col_data[: col_data.shape[0] - n_step]\n",
    "        \n",
    "        numerator = np.sum((x - x.mean()) * (y - y.mean()))\n",
    "        denominator = np.sqrt(np.square(x).sum() * np.square(y).sum())\n",
    "        return  numerator / denominator\n",
    "        \n",
    "        \n",
    "    data = np.array(data)\n",
    "    n_row,n_col = data.shape;\n",
    "    \n",
    "    for col in range(n_col):\n",
    "        l = []\n",
    "        #取出每一列\n",
    "        sub_data = data[:,col]\n",
    "        for step in range(iter_step):\n",
    "            self_correlation = col_self_correlation(sub_data,step)\n",
    "            l.append(self_correlation)\n",
    "        total_list.append(l)\n",
    "        \n",
    "    return total_list\n",
    "            \n"
   ]
  },
  {
   "cell_type": "code",
   "execution_count": 3,
   "metadata": {},
   "outputs": [],
   "source": [
    "data = pd.read_csv(select_data_path)"
   ]
  },
  {
   "cell_type": "code",
   "execution_count": 5,
   "metadata": {
    "scrolled": true
   },
   "outputs": [
    {
     "data": {
      "text/html": [
       "<div>\n",
       "<style>\n",
       "    .dataframe thead tr:only-child th {\n",
       "        text-align: right;\n",
       "    }\n",
       "\n",
       "    .dataframe thead th {\n",
       "        text-align: left;\n",
       "    }\n",
       "\n",
       "    .dataframe tbody tr th {\n",
       "        vertical-align: top;\n",
       "    }\n",
       "</style>\n",
       "<table border=\"1\" class=\"dataframe\">\n",
       "  <thead>\n",
       "    <tr style=\"text-align: right;\">\n",
       "      <th></th>\n",
       "      <th>1BP</th>\n",
       "      <th>3CP</th>\n",
       "      <th>3DP</th>\n",
       "      <th>2BP</th>\n",
       "      <th>2CC</th>\n",
       "      <th>3DC</th>\n",
       "      <th>2BC</th>\n",
       "      <th>2DC</th>\n",
       "      <th>1CC</th>\n",
       "      <th>3AP</th>\n",
       "      <th>2CP</th>\n",
       "      <th>3AC</th>\n",
       "      <th>3BP</th>\n",
       "    </tr>\n",
       "  </thead>\n",
       "  <tbody>\n",
       "    <tr>\n",
       "      <th>0</th>\n",
       "      <td>0.999985</td>\n",
       "      <td>0.997364</td>\n",
       "      <td>0.999385</td>\n",
       "      <td>0.999724</td>\n",
       "      <td>0.998423</td>\n",
       "      <td>0.998135</td>\n",
       "      <td>0.995867</td>\n",
       "      <td>0.994546</td>\n",
       "      <td>0.999930</td>\n",
       "      <td>0.999992</td>\n",
       "      <td>0.998203</td>\n",
       "      <td>0.999888</td>\n",
       "      <td>0.999802</td>\n",
       "    </tr>\n",
       "    <tr>\n",
       "      <th>1</th>\n",
       "      <td>0.853040</td>\n",
       "      <td>0.607377</td>\n",
       "      <td>0.664787</td>\n",
       "      <td>0.796051</td>\n",
       "      <td>0.797524</td>\n",
       "      <td>0.705965</td>\n",
       "      <td>0.771262</td>\n",
       "      <td>0.706793</td>\n",
       "      <td>0.699509</td>\n",
       "      <td>0.849340</td>\n",
       "      <td>0.718614</td>\n",
       "      <td>0.744325</td>\n",
       "      <td>0.623669</td>\n",
       "    </tr>\n",
       "    <tr>\n",
       "      <th>2</th>\n",
       "      <td>0.767296</td>\n",
       "      <td>0.736985</td>\n",
       "      <td>0.706984</td>\n",
       "      <td>0.626271</td>\n",
       "      <td>0.772434</td>\n",
       "      <td>0.623613</td>\n",
       "      <td>0.714667</td>\n",
       "      <td>0.702414</td>\n",
       "      <td>0.721566</td>\n",
       "      <td>0.807821</td>\n",
       "      <td>0.627560</td>\n",
       "      <td>0.646607</td>\n",
       "      <td>0.665481</td>\n",
       "    </tr>\n",
       "    <tr>\n",
       "      <th>3</th>\n",
       "      <td>0.647090</td>\n",
       "      <td>0.650431</td>\n",
       "      <td>0.657766</td>\n",
       "      <td>0.547864</td>\n",
       "      <td>0.574179</td>\n",
       "      <td>0.707008</td>\n",
       "      <td>0.598898</td>\n",
       "      <td>0.640722</td>\n",
       "      <td>0.563246</td>\n",
       "      <td>0.739256</td>\n",
       "      <td>0.550107</td>\n",
       "      <td>0.703645</td>\n",
       "      <td>0.747595</td>\n",
       "    </tr>\n",
       "    <tr>\n",
       "      <th>4</th>\n",
       "      <td>0.466285</td>\n",
       "      <td>0.547333</td>\n",
       "      <td>0.491221</td>\n",
       "      <td>0.437977</td>\n",
       "      <td>0.376191</td>\n",
       "      <td>0.529493</td>\n",
       "      <td>0.370737</td>\n",
       "      <td>0.333889</td>\n",
       "      <td>0.271462</td>\n",
       "      <td>0.607379</td>\n",
       "      <td>0.393666</td>\n",
       "      <td>0.568116</td>\n",
       "      <td>0.489963</td>\n",
       "    </tr>\n",
       "    <tr>\n",
       "      <th>5</th>\n",
       "      <td>0.264950</td>\n",
       "      <td>0.567392</td>\n",
       "      <td>0.513372</td>\n",
       "      <td>0.371558</td>\n",
       "      <td>0.220637</td>\n",
       "      <td>0.398436</td>\n",
       "      <td>0.204474</td>\n",
       "      <td>0.267525</td>\n",
       "      <td>0.184712</td>\n",
       "      <td>0.542929</td>\n",
       "      <td>0.399864</td>\n",
       "      <td>0.411475</td>\n",
       "      <td>0.530828</td>\n",
       "    </tr>\n",
       "    <tr>\n",
       "      <th>6</th>\n",
       "      <td>0.030443</td>\n",
       "      <td>0.422163</td>\n",
       "      <td>0.364807</td>\n",
       "      <td>0.146167</td>\n",
       "      <td>-0.010597</td>\n",
       "      <td>0.372119</td>\n",
       "      <td>-0.004153</td>\n",
       "      <td>0.067561</td>\n",
       "      <td>-0.097303</td>\n",
       "      <td>0.415214</td>\n",
       "      <td>0.135014</td>\n",
       "      <td>0.380080</td>\n",
       "      <td>0.524649</td>\n",
       "    </tr>\n",
       "    <tr>\n",
       "      <th>7</th>\n",
       "      <td>-0.182495</td>\n",
       "      <td>0.387412</td>\n",
       "      <td>0.205170</td>\n",
       "      <td>-0.100285</td>\n",
       "      <td>-0.088611</td>\n",
       "      <td>0.258875</td>\n",
       "      <td>-0.062090</td>\n",
       "      <td>-0.111148</td>\n",
       "      <td>-0.247110</td>\n",
       "      <td>0.266434</td>\n",
       "      <td>-0.088099</td>\n",
       "      <td>0.289513</td>\n",
       "      <td>0.280683</td>\n",
       "    </tr>\n",
       "    <tr>\n",
       "      <th>8</th>\n",
       "      <td>-0.274027</td>\n",
       "      <td>0.206224</td>\n",
       "      <td>0.101920</td>\n",
       "      <td>-0.157330</td>\n",
       "      <td>-0.220513</td>\n",
       "      <td>0.057692</td>\n",
       "      <td>-0.183483</td>\n",
       "      <td>-0.182942</td>\n",
       "      <td>-0.345131</td>\n",
       "      <td>0.124117</td>\n",
       "      <td>-0.113019</td>\n",
       "      <td>0.049187</td>\n",
       "      <td>0.283956</td>\n",
       "    </tr>\n",
       "    <tr>\n",
       "      <th>9</th>\n",
       "      <td>-0.424443</td>\n",
       "      <td>0.363639</td>\n",
       "      <td>0.055644</td>\n",
       "      <td>-0.168144</td>\n",
       "      <td>-0.170994</td>\n",
       "      <td>0.029537</td>\n",
       "      <td>-0.190473</td>\n",
       "      <td>-0.329404</td>\n",
       "      <td>-0.418052</td>\n",
       "      <td>0.041196</td>\n",
       "      <td>-0.182691</td>\n",
       "      <td>0.033783</td>\n",
       "      <td>0.323143</td>\n",
       "    </tr>\n",
       "    <tr>\n",
       "      <th>10</th>\n",
       "      <td>-0.567228</td>\n",
       "      <td>0.085312</td>\n",
       "      <td>-0.107735</td>\n",
       "      <td>-0.187413</td>\n",
       "      <td>-0.214555</td>\n",
       "      <td>0.001667</td>\n",
       "      <td>-0.159927</td>\n",
       "      <td>-0.344903</td>\n",
       "      <td>-0.454306</td>\n",
       "      <td>-0.075546</td>\n",
       "      <td>-0.183575</td>\n",
       "      <td>0.003361</td>\n",
       "      <td>0.112282</td>\n",
       "    </tr>\n",
       "    <tr>\n",
       "      <th>11</th>\n",
       "      <td>-0.581712</td>\n",
       "      <td>0.230880</td>\n",
       "      <td>-0.054137</td>\n",
       "      <td>-0.199615</td>\n",
       "      <td>-0.108348</td>\n",
       "      <td>-0.099006</td>\n",
       "      <td>-0.121594</td>\n",
       "      <td>-0.349827</td>\n",
       "      <td>-0.394674</td>\n",
       "      <td>-0.112902</td>\n",
       "      <td>-0.175710</td>\n",
       "      <td>-0.116558</td>\n",
       "      <td>0.221087</td>\n",
       "    </tr>\n",
       "    <tr>\n",
       "      <th>12</th>\n",
       "      <td>-0.621734</td>\n",
       "      <td>0.078545</td>\n",
       "      <td>-0.241725</td>\n",
       "      <td>-0.279015</td>\n",
       "      <td>-0.107835</td>\n",
       "      <td>-0.160699</td>\n",
       "      <td>-0.113415</td>\n",
       "      <td>-0.453383</td>\n",
       "      <td>-0.470683</td>\n",
       "      <td>-0.221900</td>\n",
       "      <td>-0.327903</td>\n",
       "      <td>-0.162832</td>\n",
       "      <td>0.115605</td>\n",
       "    </tr>\n",
       "    <tr>\n",
       "      <th>13</th>\n",
       "      <td>-0.588588</td>\n",
       "      <td>0.031737</td>\n",
       "      <td>-0.220015</td>\n",
       "      <td>-0.313438</td>\n",
       "      <td>-0.064025</td>\n",
       "      <td>-0.110761</td>\n",
       "      <td>-0.021587</td>\n",
       "      <td>-0.288937</td>\n",
       "      <td>-0.326601</td>\n",
       "      <td>-0.247219</td>\n",
       "      <td>-0.285099</td>\n",
       "      <td>-0.135383</td>\n",
       "      <td>0.022853</td>\n",
       "    </tr>\n",
       "    <tr>\n",
       "      <th>14</th>\n",
       "      <td>-0.617795</td>\n",
       "      <td>0.106460</td>\n",
       "      <td>-0.228946</td>\n",
       "      <td>-0.298542</td>\n",
       "      <td>-0.047855</td>\n",
       "      <td>-0.200394</td>\n",
       "      <td>-0.043163</td>\n",
       "      <td>-0.397209</td>\n",
       "      <td>-0.369064</td>\n",
       "      <td>-0.258323</td>\n",
       "      <td>-0.319712</td>\n",
       "      <td>-0.217432</td>\n",
       "      <td>0.091324</td>\n",
       "    </tr>\n",
       "    <tr>\n",
       "      <th>15</th>\n",
       "      <td>-0.609199</td>\n",
       "      <td>-0.052239</td>\n",
       "      <td>-0.273805</td>\n",
       "      <td>-0.244407</td>\n",
       "      <td>-0.130398</td>\n",
       "      <td>-0.194638</td>\n",
       "      <td>-0.147302</td>\n",
       "      <td>-0.417369</td>\n",
       "      <td>-0.363286</td>\n",
       "      <td>-0.294608</td>\n",
       "      <td>-0.278444</td>\n",
       "      <td>-0.208513</td>\n",
       "      <td>0.015504</td>\n",
       "    </tr>\n",
       "    <tr>\n",
       "      <th>16</th>\n",
       "      <td>-0.516785</td>\n",
       "      <td>0.036498</td>\n",
       "      <td>-0.235882</td>\n",
       "      <td>-0.269552</td>\n",
       "      <td>-0.115825</td>\n",
       "      <td>-0.141006</td>\n",
       "      <td>-0.117845</td>\n",
       "      <td>-0.304047</td>\n",
       "      <td>-0.272227</td>\n",
       "      <td>-0.279981</td>\n",
       "      <td>-0.230934</td>\n",
       "      <td>-0.165407</td>\n",
       "      <td>-0.033189</td>\n",
       "    </tr>\n",
       "    <tr>\n",
       "      <th>17</th>\n",
       "      <td>-0.444068</td>\n",
       "      <td>-0.169229</td>\n",
       "      <td>-0.310202</td>\n",
       "      <td>-0.377389</td>\n",
       "      <td>-0.299052</td>\n",
       "      <td>-0.248898</td>\n",
       "      <td>-0.251659</td>\n",
       "      <td>-0.409490</td>\n",
       "      <td>-0.430600</td>\n",
       "      <td>-0.313246</td>\n",
       "      <td>-0.427156</td>\n",
       "      <td>-0.256530</td>\n",
       "      <td>-0.082908</td>\n",
       "    </tr>\n",
       "    <tr>\n",
       "      <th>18</th>\n",
       "      <td>-0.401689</td>\n",
       "      <td>-0.048343</td>\n",
       "      <td>-0.238932</td>\n",
       "      <td>-0.447444</td>\n",
       "      <td>-0.334050</td>\n",
       "      <td>-0.222373</td>\n",
       "      <td>-0.351609</td>\n",
       "      <td>-0.345762</td>\n",
       "      <td>-0.252185</td>\n",
       "      <td>-0.272338</td>\n",
       "      <td>-0.400477</td>\n",
       "      <td>-0.239977</td>\n",
       "      <td>-0.099344</td>\n",
       "    </tr>\n",
       "    <tr>\n",
       "      <th>19</th>\n",
       "      <td>-0.286100</td>\n",
       "      <td>-0.223734</td>\n",
       "      <td>-0.241431</td>\n",
       "      <td>-0.451516</td>\n",
       "      <td>-0.429556</td>\n",
       "      <td>-0.115851</td>\n",
       "      <td>-0.417858</td>\n",
       "      <td>-0.271874</td>\n",
       "      <td>-0.319972</td>\n",
       "      <td>-0.236932</td>\n",
       "      <td>-0.419950</td>\n",
       "      <td>-0.142214</td>\n",
       "      <td>-0.194106</td>\n",
       "    </tr>\n",
       "    <tr>\n",
       "      <th>20</th>\n",
       "      <td>-0.144978</td>\n",
       "      <td>-0.104535</td>\n",
       "      <td>-0.099559</td>\n",
       "      <td>-0.295859</td>\n",
       "      <td>-0.428410</td>\n",
       "      <td>-0.080120</td>\n",
       "      <td>-0.395634</td>\n",
       "      <td>-0.237399</td>\n",
       "      <td>-0.224166</td>\n",
       "      <td>-0.135410</td>\n",
       "      <td>-0.310004</td>\n",
       "      <td>-0.067382</td>\n",
       "      <td>-0.132659</td>\n",
       "    </tr>\n",
       "    <tr>\n",
       "      <th>21</th>\n",
       "      <td>0.038093</td>\n",
       "      <td>-0.116439</td>\n",
       "      <td>-0.083921</td>\n",
       "      <td>-0.210135</td>\n",
       "      <td>-0.400120</td>\n",
       "      <td>-0.099071</td>\n",
       "      <td>-0.405058</td>\n",
       "      <td>-0.135699</td>\n",
       "      <td>-0.052431</td>\n",
       "      <td>-0.085450</td>\n",
       "      <td>-0.155703</td>\n",
       "      <td>-0.105270</td>\n",
       "      <td>-0.094683</td>\n",
       "    </tr>\n",
       "    <tr>\n",
       "      <th>22</th>\n",
       "      <td>0.204307</td>\n",
       "      <td>-0.230308</td>\n",
       "      <td>-0.063806</td>\n",
       "      <td>-0.248534</td>\n",
       "      <td>-0.350069</td>\n",
       "      <td>0.017297</td>\n",
       "      <td>-0.345961</td>\n",
       "      <td>0.005417</td>\n",
       "      <td>-0.032033</td>\n",
       "      <td>-0.047545</td>\n",
       "      <td>-0.257714</td>\n",
       "      <td>0.001320</td>\n",
       "      <td>-0.216256</td>\n",
       "    </tr>\n",
       "    <tr>\n",
       "      <th>23</th>\n",
       "      <td>0.346035</td>\n",
       "      <td>-0.097895</td>\n",
       "      <td>-0.017565</td>\n",
       "      <td>-0.178243</td>\n",
       "      <td>-0.190310</td>\n",
       "      <td>0.041365</td>\n",
       "      <td>-0.199159</td>\n",
       "      <td>0.107417</td>\n",
       "      <td>0.267561</td>\n",
       "      <td>-0.001142</td>\n",
       "      <td>-0.149201</td>\n",
       "      <td>0.056184</td>\n",
       "      <td>-0.154323</td>\n",
       "    </tr>\n",
       "    <tr>\n",
       "      <th>24</th>\n",
       "      <td>0.545672</td>\n",
       "      <td>-0.179740</td>\n",
       "      <td>0.045306</td>\n",
       "      <td>-0.015004</td>\n",
       "      <td>-0.074900</td>\n",
       "      <td>0.033206</td>\n",
       "      <td>-0.053025</td>\n",
       "      <td>0.285285</td>\n",
       "      <td>0.396493</td>\n",
       "      <td>0.069650</td>\n",
       "      <td>0.021707</td>\n",
       "      <td>0.018279</td>\n",
       "      <td>-0.112951</td>\n",
       "    </tr>\n",
       "    <tr>\n",
       "      <th>25</th>\n",
       "      <td>0.708736</td>\n",
       "      <td>-0.072491</td>\n",
       "      <td>0.148147</td>\n",
       "      <td>0.183799</td>\n",
       "      <td>0.144927</td>\n",
       "      <td>0.172234</td>\n",
       "      <td>0.103374</td>\n",
       "      <td>0.393441</td>\n",
       "      <td>0.531672</td>\n",
       "      <td>0.149385</td>\n",
       "      <td>0.145053</td>\n",
       "      <td>0.159186</td>\n",
       "      <td>-0.159319</td>\n",
       "    </tr>\n",
       "    <tr>\n",
       "      <th>26</th>\n",
       "      <td>0.801628</td>\n",
       "      <td>-0.158811</td>\n",
       "      <td>0.120675</td>\n",
       "      <td>0.330159</td>\n",
       "      <td>0.219714</td>\n",
       "      <td>0.223860</td>\n",
       "      <td>0.181544</td>\n",
       "      <td>0.509723</td>\n",
       "      <td>0.733626</td>\n",
       "      <td>0.167708</td>\n",
       "      <td>0.325711</td>\n",
       "      <td>0.231356</td>\n",
       "      <td>-0.106533</td>\n",
       "    </tr>\n",
       "    <tr>\n",
       "      <th>27</th>\n",
       "      <td>0.826647</td>\n",
       "      <td>-0.040711</td>\n",
       "      <td>0.178765</td>\n",
       "      <td>0.293058</td>\n",
       "      <td>0.359160</td>\n",
       "      <td>0.153787</td>\n",
       "      <td>0.357150</td>\n",
       "      <td>0.584096</td>\n",
       "      <td>0.742119</td>\n",
       "      <td>0.196390</td>\n",
       "      <td>0.279426</td>\n",
       "      <td>0.166314</td>\n",
       "      <td>-0.034136</td>\n",
       "    </tr>\n",
       "    <tr>\n",
       "      <th>28</th>\n",
       "      <td>0.812051</td>\n",
       "      <td>-0.193189</td>\n",
       "      <td>0.089083</td>\n",
       "      <td>0.234761</td>\n",
       "      <td>0.340398</td>\n",
       "      <td>0.106258</td>\n",
       "      <td>0.286665</td>\n",
       "      <td>0.506660</td>\n",
       "      <td>0.737931</td>\n",
       "      <td>0.109088</td>\n",
       "      <td>0.200669</td>\n",
       "      <td>0.092657</td>\n",
       "      <td>-0.244396</td>\n",
       "    </tr>\n",
       "    <tr>\n",
       "      <th>29</th>\n",
       "      <td>0.766758</td>\n",
       "      <td>-0.137089</td>\n",
       "      <td>0.054230</td>\n",
       "      <td>0.256259</td>\n",
       "      <td>0.311583</td>\n",
       "      <td>0.122235</td>\n",
       "      <td>0.295942</td>\n",
       "      <td>0.523136</td>\n",
       "      <td>0.748371</td>\n",
       "      <td>0.078957</td>\n",
       "      <td>0.281994</td>\n",
       "      <td>0.097659</td>\n",
       "      <td>-0.127304</td>\n",
       "    </tr>\n",
       "    <tr>\n",
       "      <th>30</th>\n",
       "      <td>0.627230</td>\n",
       "      <td>-0.139363</td>\n",
       "      <td>0.044706</td>\n",
       "      <td>0.242781</td>\n",
       "      <td>0.232580</td>\n",
       "      <td>-0.001918</td>\n",
       "      <td>0.230356</td>\n",
       "      <td>0.398573</td>\n",
       "      <td>0.511788</td>\n",
       "      <td>0.029002</td>\n",
       "      <td>0.196632</td>\n",
       "      <td>0.006184</td>\n",
       "      <td>-0.124563</td>\n",
       "    </tr>\n",
       "    <tr>\n",
       "      <th>31</th>\n",
       "      <td>0.410209</td>\n",
       "      <td>-0.331450</td>\n",
       "      <td>-0.071715</td>\n",
       "      <td>0.147983</td>\n",
       "      <td>0.022037</td>\n",
       "      <td>-0.120045</td>\n",
       "      <td>-0.016550</td>\n",
       "      <td>0.185036</td>\n",
       "      <td>0.350114</td>\n",
       "      <td>-0.080673</td>\n",
       "      <td>0.139125</td>\n",
       "      <td>-0.097844</td>\n",
       "      <td>-0.353483</td>\n",
       "    </tr>\n",
       "    <tr>\n",
       "      <th>32</th>\n",
       "      <td>0.210112</td>\n",
       "      <td>-0.203217</td>\n",
       "      <td>-0.129064</td>\n",
       "      <td>-0.015715</td>\n",
       "      <td>-0.061464</td>\n",
       "      <td>-0.126522</td>\n",
       "      <td>-0.091507</td>\n",
       "      <td>0.105120</td>\n",
       "      <td>0.184052</td>\n",
       "      <td>-0.158541</td>\n",
       "      <td>0.025925</td>\n",
       "      <td>-0.149541</td>\n",
       "      <td>-0.206725</td>\n",
       "    </tr>\n",
       "    <tr>\n",
       "      <th>33</th>\n",
       "      <td>0.004377</td>\n",
       "      <td>-0.403047</td>\n",
       "      <td>-0.237819</td>\n",
       "      <td>-0.207774</td>\n",
       "      <td>-0.321006</td>\n",
       "      <td>-0.309063</td>\n",
       "      <td>-0.283218</td>\n",
       "      <td>-0.092119</td>\n",
       "      <td>-0.150016</td>\n",
       "      <td>-0.301068</td>\n",
       "      <td>-0.234755</td>\n",
       "      <td>-0.321053</td>\n",
       "      <td>-0.363560</td>\n",
       "    </tr>\n",
       "    <tr>\n",
       "      <th>34</th>\n",
       "      <td>-0.207242</td>\n",
       "      <td>-0.362129</td>\n",
       "      <td>-0.343354</td>\n",
       "      <td>-0.329299</td>\n",
       "      <td>-0.403528</td>\n",
       "      <td>-0.456162</td>\n",
       "      <td>-0.380529</td>\n",
       "      <td>-0.316409</td>\n",
       "      <td>-0.210259</td>\n",
       "      <td>-0.398205</td>\n",
       "      <td>-0.262947</td>\n",
       "      <td>-0.425496</td>\n",
       "      <td>-0.467788</td>\n",
       "    </tr>\n",
       "    <tr>\n",
       "      <th>35</th>\n",
       "      <td>-0.390400</td>\n",
       "      <td>-0.422316</td>\n",
       "      <td>-0.403970</td>\n",
       "      <td>-0.332236</td>\n",
       "      <td>-0.490725</td>\n",
       "      <td>-0.422379</td>\n",
       "      <td>-0.500820</td>\n",
       "      <td>-0.343684</td>\n",
       "      <td>-0.483297</td>\n",
       "      <td>-0.468580</td>\n",
       "      <td>-0.326535</td>\n",
       "      <td>-0.453743</td>\n",
       "      <td>-0.327044</td>\n",
       "    </tr>\n",
       "    <tr>\n",
       "      <th>36</th>\n",
       "      <td>-0.569019</td>\n",
       "      <td>-0.394412</td>\n",
       "      <td>-0.420837</td>\n",
       "      <td>-0.320857</td>\n",
       "      <td>-0.498225</td>\n",
       "      <td>-0.551886</td>\n",
       "      <td>-0.497122</td>\n",
       "      <td>-0.503531</td>\n",
       "      <td>-0.544476</td>\n",
       "      <td>-0.537654</td>\n",
       "      <td>-0.315438</td>\n",
       "      <td>-0.558560</td>\n",
       "      <td>-0.420048</td>\n",
       "    </tr>\n",
       "    <tr>\n",
       "      <th>37</th>\n",
       "      <td>-0.631620</td>\n",
       "      <td>-0.423912</td>\n",
       "      <td>-0.509456</td>\n",
       "      <td>-0.366740</td>\n",
       "      <td>-0.448490</td>\n",
       "      <td>-0.655303</td>\n",
       "      <td>-0.402781</td>\n",
       "      <td>-0.556380</td>\n",
       "      <td>-0.556620</td>\n",
       "      <td>-0.591767</td>\n",
       "      <td>-0.307353</td>\n",
       "      <td>-0.621677</td>\n",
       "      <td>-0.461272</td>\n",
       "    </tr>\n",
       "    <tr>\n",
       "      <th>38</th>\n",
       "      <td>-0.680387</td>\n",
       "      <td>-0.407119</td>\n",
       "      <td>-0.510648</td>\n",
       "      <td>-0.379468</td>\n",
       "      <td>-0.385347</td>\n",
       "      <td>-0.551907</td>\n",
       "      <td>-0.375936</td>\n",
       "      <td>-0.476249</td>\n",
       "      <td>-0.631074</td>\n",
       "      <td>-0.618673</td>\n",
       "      <td>-0.410532</td>\n",
       "      <td>-0.580599</td>\n",
       "      <td>-0.349158</td>\n",
       "    </tr>\n",
       "    <tr>\n",
       "      <th>39</th>\n",
       "      <td>-0.706100</td>\n",
       "      <td>-0.350908</td>\n",
       "      <td>-0.511870</td>\n",
       "      <td>-0.341637</td>\n",
       "      <td>-0.226604</td>\n",
       "      <td>-0.587748</td>\n",
       "      <td>-0.249456</td>\n",
       "      <td>-0.504624</td>\n",
       "      <td>-0.464587</td>\n",
       "      <td>-0.622593</td>\n",
       "      <td>-0.311663</td>\n",
       "      <td>-0.618020</td>\n",
       "      <td>-0.400018</td>\n",
       "    </tr>\n",
       "    <tr>\n",
       "      <th>40</th>\n",
       "      <td>-0.694686</td>\n",
       "      <td>-0.443224</td>\n",
       "      <td>-0.516642</td>\n",
       "      <td>-0.240131</td>\n",
       "      <td>-0.149061</td>\n",
       "      <td>-0.659350</td>\n",
       "      <td>-0.102990</td>\n",
       "      <td>-0.434992</td>\n",
       "      <td>-0.522901</td>\n",
       "      <td>-0.585020</td>\n",
       "      <td>-0.237848</td>\n",
       "      <td>-0.640708</td>\n",
       "      <td>-0.414212</td>\n",
       "    </tr>\n",
       "    <tr>\n",
       "      <th>41</th>\n",
       "      <td>-0.628540</td>\n",
       "      <td>-0.194539</td>\n",
       "      <td>-0.382444</td>\n",
       "      <td>-0.043453</td>\n",
       "      <td>0.043074</td>\n",
       "      <td>-0.488022</td>\n",
       "      <td>0.020068</td>\n",
       "      <td>-0.343956</td>\n",
       "      <td>-0.370590</td>\n",
       "      <td>-0.518094</td>\n",
       "      <td>-0.079162</td>\n",
       "      <td>-0.485001</td>\n",
       "      <td>-0.198779</td>\n",
       "    </tr>\n",
       "    <tr>\n",
       "      <th>42</th>\n",
       "      <td>-0.557598</td>\n",
       "      <td>-0.334521</td>\n",
       "      <td>-0.406195</td>\n",
       "      <td>-0.028152</td>\n",
       "      <td>0.029158</td>\n",
       "      <td>-0.437748</td>\n",
       "      <td>0.019950</td>\n",
       "      <td>-0.319354</td>\n",
       "      <td>-0.307714</td>\n",
       "      <td>-0.485878</td>\n",
       "      <td>-0.030615</td>\n",
       "      <td>-0.459216</td>\n",
       "      <td>-0.298968</td>\n",
       "    </tr>\n",
       "    <tr>\n",
       "      <th>43</th>\n",
       "      <td>-0.466267</td>\n",
       "      <td>-0.218261</td>\n",
       "      <td>-0.342931</td>\n",
       "      <td>-0.077658</td>\n",
       "      <td>0.110087</td>\n",
       "      <td>-0.514487</td>\n",
       "      <td>0.117076</td>\n",
       "      <td>-0.225042</td>\n",
       "      <td>-0.286948</td>\n",
       "      <td>-0.420968</td>\n",
       "      <td>-0.106931</td>\n",
       "      <td>-0.522696</td>\n",
       "      <td>-0.253697</td>\n",
       "    </tr>\n",
       "    <tr>\n",
       "      <th>44</th>\n",
       "      <td>-0.412159</td>\n",
       "      <td>-0.210584</td>\n",
       "      <td>-0.282188</td>\n",
       "      <td>-0.047487</td>\n",
       "      <td>0.077725</td>\n",
       "      <td>-0.405995</td>\n",
       "      <td>0.091941</td>\n",
       "      <td>-0.186666</td>\n",
       "      <td>-0.203344</td>\n",
       "      <td>-0.351282</td>\n",
       "      <td>-0.050975</td>\n",
       "      <td>-0.390870</td>\n",
       "      <td>-0.183742</td>\n",
       "    </tr>\n",
       "    <tr>\n",
       "      <th>45</th>\n",
       "      <td>-0.304774</td>\n",
       "      <td>-0.225408</td>\n",
       "      <td>-0.178311</td>\n",
       "      <td>0.001301</td>\n",
       "      <td>0.032563</td>\n",
       "      <td>-0.238869</td>\n",
       "      <td>0.024445</td>\n",
       "      <td>-0.135613</td>\n",
       "      <td>-0.197123</td>\n",
       "      <td>-0.234758</td>\n",
       "      <td>0.024980</td>\n",
       "      <td>-0.230495</td>\n",
       "      <td>-0.221241</td>\n",
       "    </tr>\n",
       "    <tr>\n",
       "      <th>46</th>\n",
       "      <td>-0.161594</td>\n",
       "      <td>-0.141116</td>\n",
       "      <td>-0.068605</td>\n",
       "      <td>0.113616</td>\n",
       "      <td>0.027455</td>\n",
       "      <td>-0.239964</td>\n",
       "      <td>0.017454</td>\n",
       "      <td>-0.033326</td>\n",
       "      <td>-0.183396</td>\n",
       "      <td>-0.126357</td>\n",
       "      <td>0.084811</td>\n",
       "      <td>-0.239700</td>\n",
       "      <td>-0.167404</td>\n",
       "    </tr>\n",
       "    <tr>\n",
       "      <th>47</th>\n",
       "      <td>-0.068080</td>\n",
       "      <td>-0.157745</td>\n",
       "      <td>-0.004558</td>\n",
       "      <td>0.151511</td>\n",
       "      <td>-0.068008</td>\n",
       "      <td>-0.200438</td>\n",
       "      <td>-0.038173</td>\n",
       "      <td>-0.041504</td>\n",
       "      <td>-0.085593</td>\n",
       "      <td>-0.040279</td>\n",
       "      <td>0.156624</td>\n",
       "      <td>-0.163199</td>\n",
       "      <td>-0.112414</td>\n",
       "    </tr>\n",
       "    <tr>\n",
       "      <th>48</th>\n",
       "      <td>0.085998</td>\n",
       "      <td>-0.059853</td>\n",
       "      <td>0.096548</td>\n",
       "      <td>0.086526</td>\n",
       "      <td>-0.016737</td>\n",
       "      <td>-0.014101</td>\n",
       "      <td>-0.039547</td>\n",
       "      <td>0.103324</td>\n",
       "      <td>-0.028166</td>\n",
       "      <td>0.059330</td>\n",
       "      <td>0.104652</td>\n",
       "      <td>0.003224</td>\n",
       "      <td>-0.095212</td>\n",
       "    </tr>\n",
       "    <tr>\n",
       "      <th>49</th>\n",
       "      <td>0.209412</td>\n",
       "      <td>-0.168364</td>\n",
       "      <td>0.098173</td>\n",
       "      <td>0.100942</td>\n",
       "      <td>-0.040755</td>\n",
       "      <td>-0.015662</td>\n",
       "      <td>-0.016197</td>\n",
       "      <td>0.172136</td>\n",
       "      <td>0.028105</td>\n",
       "      <td>0.115873</td>\n",
       "      <td>0.109360</td>\n",
       "      <td>-0.011334</td>\n",
       "      <td>-0.168094</td>\n",
       "    </tr>\n",
       "  </tbody>\n",
       "</table>\n",
       "</div>"
      ],
      "text/plain": [
       "         1BP       3CP       3DP       2BP       2CC       3DC       2BC  \\\n",
       "0   0.999985  0.997364  0.999385  0.999724  0.998423  0.998135  0.995867   \n",
       "1   0.853040  0.607377  0.664787  0.796051  0.797524  0.705965  0.771262   \n",
       "2   0.767296  0.736985  0.706984  0.626271  0.772434  0.623613  0.714667   \n",
       "3   0.647090  0.650431  0.657766  0.547864  0.574179  0.707008  0.598898   \n",
       "4   0.466285  0.547333  0.491221  0.437977  0.376191  0.529493  0.370737   \n",
       "5   0.264950  0.567392  0.513372  0.371558  0.220637  0.398436  0.204474   \n",
       "6   0.030443  0.422163  0.364807  0.146167 -0.010597  0.372119 -0.004153   \n",
       "7  -0.182495  0.387412  0.205170 -0.100285 -0.088611  0.258875 -0.062090   \n",
       "8  -0.274027  0.206224  0.101920 -0.157330 -0.220513  0.057692 -0.183483   \n",
       "9  -0.424443  0.363639  0.055644 -0.168144 -0.170994  0.029537 -0.190473   \n",
       "10 -0.567228  0.085312 -0.107735 -0.187413 -0.214555  0.001667 -0.159927   \n",
       "11 -0.581712  0.230880 -0.054137 -0.199615 -0.108348 -0.099006 -0.121594   \n",
       "12 -0.621734  0.078545 -0.241725 -0.279015 -0.107835 -0.160699 -0.113415   \n",
       "13 -0.588588  0.031737 -0.220015 -0.313438 -0.064025 -0.110761 -0.021587   \n",
       "14 -0.617795  0.106460 -0.228946 -0.298542 -0.047855 -0.200394 -0.043163   \n",
       "15 -0.609199 -0.052239 -0.273805 -0.244407 -0.130398 -0.194638 -0.147302   \n",
       "16 -0.516785  0.036498 -0.235882 -0.269552 -0.115825 -0.141006 -0.117845   \n",
       "17 -0.444068 -0.169229 -0.310202 -0.377389 -0.299052 -0.248898 -0.251659   \n",
       "18 -0.401689 -0.048343 -0.238932 -0.447444 -0.334050 -0.222373 -0.351609   \n",
       "19 -0.286100 -0.223734 -0.241431 -0.451516 -0.429556 -0.115851 -0.417858   \n",
       "20 -0.144978 -0.104535 -0.099559 -0.295859 -0.428410 -0.080120 -0.395634   \n",
       "21  0.038093 -0.116439 -0.083921 -0.210135 -0.400120 -0.099071 -0.405058   \n",
       "22  0.204307 -0.230308 -0.063806 -0.248534 -0.350069  0.017297 -0.345961   \n",
       "23  0.346035 -0.097895 -0.017565 -0.178243 -0.190310  0.041365 -0.199159   \n",
       "24  0.545672 -0.179740  0.045306 -0.015004 -0.074900  0.033206 -0.053025   \n",
       "25  0.708736 -0.072491  0.148147  0.183799  0.144927  0.172234  0.103374   \n",
       "26  0.801628 -0.158811  0.120675  0.330159  0.219714  0.223860  0.181544   \n",
       "27  0.826647 -0.040711  0.178765  0.293058  0.359160  0.153787  0.357150   \n",
       "28  0.812051 -0.193189  0.089083  0.234761  0.340398  0.106258  0.286665   \n",
       "29  0.766758 -0.137089  0.054230  0.256259  0.311583  0.122235  0.295942   \n",
       "30  0.627230 -0.139363  0.044706  0.242781  0.232580 -0.001918  0.230356   \n",
       "31  0.410209 -0.331450 -0.071715  0.147983  0.022037 -0.120045 -0.016550   \n",
       "32  0.210112 -0.203217 -0.129064 -0.015715 -0.061464 -0.126522 -0.091507   \n",
       "33  0.004377 -0.403047 -0.237819 -0.207774 -0.321006 -0.309063 -0.283218   \n",
       "34 -0.207242 -0.362129 -0.343354 -0.329299 -0.403528 -0.456162 -0.380529   \n",
       "35 -0.390400 -0.422316 -0.403970 -0.332236 -0.490725 -0.422379 -0.500820   \n",
       "36 -0.569019 -0.394412 -0.420837 -0.320857 -0.498225 -0.551886 -0.497122   \n",
       "37 -0.631620 -0.423912 -0.509456 -0.366740 -0.448490 -0.655303 -0.402781   \n",
       "38 -0.680387 -0.407119 -0.510648 -0.379468 -0.385347 -0.551907 -0.375936   \n",
       "39 -0.706100 -0.350908 -0.511870 -0.341637 -0.226604 -0.587748 -0.249456   \n",
       "40 -0.694686 -0.443224 -0.516642 -0.240131 -0.149061 -0.659350 -0.102990   \n",
       "41 -0.628540 -0.194539 -0.382444 -0.043453  0.043074 -0.488022  0.020068   \n",
       "42 -0.557598 -0.334521 -0.406195 -0.028152  0.029158 -0.437748  0.019950   \n",
       "43 -0.466267 -0.218261 -0.342931 -0.077658  0.110087 -0.514487  0.117076   \n",
       "44 -0.412159 -0.210584 -0.282188 -0.047487  0.077725 -0.405995  0.091941   \n",
       "45 -0.304774 -0.225408 -0.178311  0.001301  0.032563 -0.238869  0.024445   \n",
       "46 -0.161594 -0.141116 -0.068605  0.113616  0.027455 -0.239964  0.017454   \n",
       "47 -0.068080 -0.157745 -0.004558  0.151511 -0.068008 -0.200438 -0.038173   \n",
       "48  0.085998 -0.059853  0.096548  0.086526 -0.016737 -0.014101 -0.039547   \n",
       "49  0.209412 -0.168364  0.098173  0.100942 -0.040755 -0.015662 -0.016197   \n",
       "\n",
       "         2DC       1CC       3AP       2CP       3AC       3BP  \n",
       "0   0.994546  0.999930  0.999992  0.998203  0.999888  0.999802  \n",
       "1   0.706793  0.699509  0.849340  0.718614  0.744325  0.623669  \n",
       "2   0.702414  0.721566  0.807821  0.627560  0.646607  0.665481  \n",
       "3   0.640722  0.563246  0.739256  0.550107  0.703645  0.747595  \n",
       "4   0.333889  0.271462  0.607379  0.393666  0.568116  0.489963  \n",
       "5   0.267525  0.184712  0.542929  0.399864  0.411475  0.530828  \n",
       "6   0.067561 -0.097303  0.415214  0.135014  0.380080  0.524649  \n",
       "7  -0.111148 -0.247110  0.266434 -0.088099  0.289513  0.280683  \n",
       "8  -0.182942 -0.345131  0.124117 -0.113019  0.049187  0.283956  \n",
       "9  -0.329404 -0.418052  0.041196 -0.182691  0.033783  0.323143  \n",
       "10 -0.344903 -0.454306 -0.075546 -0.183575  0.003361  0.112282  \n",
       "11 -0.349827 -0.394674 -0.112902 -0.175710 -0.116558  0.221087  \n",
       "12 -0.453383 -0.470683 -0.221900 -0.327903 -0.162832  0.115605  \n",
       "13 -0.288937 -0.326601 -0.247219 -0.285099 -0.135383  0.022853  \n",
       "14 -0.397209 -0.369064 -0.258323 -0.319712 -0.217432  0.091324  \n",
       "15 -0.417369 -0.363286 -0.294608 -0.278444 -0.208513  0.015504  \n",
       "16 -0.304047 -0.272227 -0.279981 -0.230934 -0.165407 -0.033189  \n",
       "17 -0.409490 -0.430600 -0.313246 -0.427156 -0.256530 -0.082908  \n",
       "18 -0.345762 -0.252185 -0.272338 -0.400477 -0.239977 -0.099344  \n",
       "19 -0.271874 -0.319972 -0.236932 -0.419950 -0.142214 -0.194106  \n",
       "20 -0.237399 -0.224166 -0.135410 -0.310004 -0.067382 -0.132659  \n",
       "21 -0.135699 -0.052431 -0.085450 -0.155703 -0.105270 -0.094683  \n",
       "22  0.005417 -0.032033 -0.047545 -0.257714  0.001320 -0.216256  \n",
       "23  0.107417  0.267561 -0.001142 -0.149201  0.056184 -0.154323  \n",
       "24  0.285285  0.396493  0.069650  0.021707  0.018279 -0.112951  \n",
       "25  0.393441  0.531672  0.149385  0.145053  0.159186 -0.159319  \n",
       "26  0.509723  0.733626  0.167708  0.325711  0.231356 -0.106533  \n",
       "27  0.584096  0.742119  0.196390  0.279426  0.166314 -0.034136  \n",
       "28  0.506660  0.737931  0.109088  0.200669  0.092657 -0.244396  \n",
       "29  0.523136  0.748371  0.078957  0.281994  0.097659 -0.127304  \n",
       "30  0.398573  0.511788  0.029002  0.196632  0.006184 -0.124563  \n",
       "31  0.185036  0.350114 -0.080673  0.139125 -0.097844 -0.353483  \n",
       "32  0.105120  0.184052 -0.158541  0.025925 -0.149541 -0.206725  \n",
       "33 -0.092119 -0.150016 -0.301068 -0.234755 -0.321053 -0.363560  \n",
       "34 -0.316409 -0.210259 -0.398205 -0.262947 -0.425496 -0.467788  \n",
       "35 -0.343684 -0.483297 -0.468580 -0.326535 -0.453743 -0.327044  \n",
       "36 -0.503531 -0.544476 -0.537654 -0.315438 -0.558560 -0.420048  \n",
       "37 -0.556380 -0.556620 -0.591767 -0.307353 -0.621677 -0.461272  \n",
       "38 -0.476249 -0.631074 -0.618673 -0.410532 -0.580599 -0.349158  \n",
       "39 -0.504624 -0.464587 -0.622593 -0.311663 -0.618020 -0.400018  \n",
       "40 -0.434992 -0.522901 -0.585020 -0.237848 -0.640708 -0.414212  \n",
       "41 -0.343956 -0.370590 -0.518094 -0.079162 -0.485001 -0.198779  \n",
       "42 -0.319354 -0.307714 -0.485878 -0.030615 -0.459216 -0.298968  \n",
       "43 -0.225042 -0.286948 -0.420968 -0.106931 -0.522696 -0.253697  \n",
       "44 -0.186666 -0.203344 -0.351282 -0.050975 -0.390870 -0.183742  \n",
       "45 -0.135613 -0.197123 -0.234758  0.024980 -0.230495 -0.221241  \n",
       "46 -0.033326 -0.183396 -0.126357  0.084811 -0.239700 -0.167404  \n",
       "47 -0.041504 -0.085593 -0.040279  0.156624 -0.163199 -0.112414  \n",
       "48  0.103324 -0.028166  0.059330  0.104652  0.003224 -0.095212  \n",
       "49  0.172136  0.028105  0.115873  0.109360 -0.011334 -0.168094  "
      ]
     },
     "execution_count": 5,
     "metadata": {},
     "output_type": "execute_result"
    }
   ],
   "source": [
    "tmp_data = data.drop([\"Shake Level\"],axis = 1)[:1000]\n",
    "correlation_list = self_correlation(tmp_data,50)\n",
    "correlation_df = pd.DataFrame(correlation_list,index = tmp_data.columns)\n",
    "correlation_df = correlation_df.T\n",
    "correlation_df"
   ]
  },
  {
   "cell_type": "code",
   "execution_count": 23,
   "metadata": {},
   "outputs": [
    {
     "data": {
      "text/plain": [
       "<matplotlib.legend.Legend at 0x7fbc47e619e8>"
      ]
     },
     "execution_count": 23,
     "metadata": {},
     "output_type": "execute_result"
    },
    {
     "data": {
      "image/png": "[encoded data removed]",
      "text/plain": [
       "<matplotlib.figure.Figure at 0x7fbc47e61b38>"
      ]
     },
     "metadata": {},
     "output_type": "display_data"
    }
   ],
   "source": [
    "#axe = correlation_df.plot(kind = \"line\",figsize = (15,8))\n",
    "#axe.grid()\n",
    "\n",
    "correlation_mean = correlation_df.mean(axis = 1)\n",
    "correlation_std = correlation_df.std(axis = 1)\n",
    "\n",
    "axe = correlation_mean.plot(kind = \"line\",label = \"Auto Correlation\")\n",
    "\n",
    "axe.fill_between(correlation_std.index,\n",
    "                 correlation_mean + correlation_std,\n",
    "                 correlation_mean - correlation_std,\n",
    "                alpha = 0.2)\n",
    "\n",
    "axe.grid()\n",
    "\n",
    "axe.set_ylabel(\"Auto Correlation\")\n",
    "axe.set_xlabel(\"Order\")\n",
    "\n",
    "axe.spines[\"bottom\"].set_position((\"data\",0))\n",
    "\n",
    "plt.legend()"
   ]
  },
  {
   "cell_type": "markdown",
   "metadata": {},
   "source": [
    "### 零均值"
   ]
  },
  {
   "cell_type": "code",
   "execution_count": 264,
   "metadata": {
    "scrolled": true
   },
   "outputs": [
    {
     "data": {
      "text/plain": [
       "1BP    5.134781e-18\n",
       "3CP   -1.595946e-18\n",
       "3DP   -1.609823e-17\n",
       "2BP    4.857226e-18\n",
       "2CC   -5.273559e-18\n",
       "3DC   -3.441691e-17\n",
       "2BC    1.047773e-17\n",
       "2DC   -9.471590e-18\n",
       "1CC   -1.453698e-17\n",
       "3AP    2.164935e-17\n",
       "2CP   -1.665335e-18\n",
       "3AC   -3.441691e-17\n",
       "3BP    6.418477e-19\n",
       "dtype: float64"
      ]
     },
     "execution_count": 264,
     "metadata": {},
     "output_type": "execute_result"
    }
   ],
   "source": [
    "tmp_data = data.drop([\"Shake Level\"],axis = 1)[:200]\n",
    "\n",
    "tmp_data = tmp_data - tmp_data.mean(axis = 0)\n",
    "tmp_data.mean(axis = 0)"
   ]
  },
  {
   "cell_type": "markdown",
   "metadata": {},
   "source": [
    "### 自相关函数"
   ]
  },
  {
   "cell_type": "code",
   "execution_count": 265,
   "metadata": {},
   "outputs": [
    {
     "data": {
      "image/png": "[encoded data removed]",
      "text/plain": [
       "<matplotlib.figure.Figure at 0x7fb853ea6f60>"
      ]
     },
     "metadata": {},
     "output_type": "display_data"
    }
   ],
   "source": [
    "import statsmodels\n",
    "import statsmodels.api as sm\n",
    "\n",
    "serise_data = tmp_data.iloc[:,0];\n",
    "# sm.graphics.tsa.plot_acf(x = serise_data,\n",
    "#                     unbiased = True,\n",
    "#                     nlags = 40,\n",
    "#                     q_stat = False,\n",
    "#                     alpha = 0.05)\n",
    "fig = sm.graphics.tsa.plot_acf(\n",
    "                    x = serise_data,\n",
    "                    ax = None,\n",
    "                    lags = 70,\n",
    "                    alpha = None,\n",
    "                    unbiased = True,\n",
    "                        )"
   ]
  },
  {
   "cell_type": "markdown",
   "metadata": {},
   "source": [
    "### 季节差分以及差分"
   ]
  },
  {
   "cell_type": "code",
   "execution_count": 266,
   "metadata": {},
   "outputs": [
    {
     "data": {
      "text/plain": [
       "(1.424596135527278, 0.15427397776693086)"
      ]
     },
     "execution_count": 266,
     "metadata": {},
     "output_type": "execute_result"
    }
   ],
   "source": [
    "import statsmodels\n",
    "from statsmodels.tsa.statespace import tools\n",
    "\n",
    "diff_num = 1\n",
    "seasonal_diff_num = 1\n",
    "seasonal_period = 20\n",
    "# serise_data\n",
    "\n",
    "diff_data = tools.diff(series = serise_data.values,\n",
    "               k_diff = diff_num,\n",
    "               k_seasonal_diff = seasonal_diff_num,\n",
    "               seasonal_periods = seasonal_period)\n",
    "\n",
    "z_stat,p_value = statsmodels.sandbox.stats.runs.runstest_1samp(x = diff_data,\n",
    "                                             cutoff = \"mean\")\n",
    "z_stat,p_value"
   ]
  },
  {
   "cell_type": "code",
   "execution_count": 261,
   "metadata": {},
   "outputs": [
    {
     "data": {
      "image/png": "[encoded data removed]",
      "text/plain": [
       "<matplotlib.figure.Figure at 0x7fb853ea7358>"
      ]
     },
     "metadata": {},
     "output_type": "display_data"
    }
   ],
   "source": [
    "fig = sm.graphics.tsa.plot_acf(\n",
    "                    x = diff_data,\n",
    "                    lags = 40,\n",
    "                    alpha = None,\n",
    "                    unbiased = True,\n",
    "                    ax = None\n",
    "                    )"
   ]
  },
  {
   "cell_type": "markdown",
   "metadata": {},
   "source": [
    "### 游程检验"
   ]
  },
  {
   "cell_type": "code",
   "execution_count": 267,
   "metadata": {},
   "outputs": [
    {
     "data": {
      "text/plain": [
       "(1.424596135527278, 0.15427397776693086)"
      ]
     },
     "execution_count": 267,
     "metadata": {},
     "output_type": "execute_result"
    }
   ],
   "source": [
    "import statsmodels\n",
    "\n",
    "z_stat,p_value = statsmodels.sandbox.stats.runs.runstest_1samp(x = diff_data,\n",
    "                                             cutoff = \"mean\")\n",
    "z_stat,p_value"
   ]
  },
  {
   "cell_type": "markdown",
   "metadata": {},
   "source": [
    "### 自相关和偏相关（ACF拖尾，PACF截尾）"
   ]
  },
  {
   "cell_type": "raw",
   "metadata": {},
   "source": [
    "可以确定阶数为15"
   ]
  },
  {
   "cell_type": "code",
   "execution_count": 292,
   "metadata": {},
   "outputs": [
    {
     "data": {
      "image/png": "[encoded data removed]",
      "text/plain": [
       "<matplotlib.figure.Figure at 0x7fb853ee0b70>"
      ]
     },
     "metadata": {},
     "output_type": "display_data"
    }
   ],
   "source": [
    "fig = plt.figure(figsize = (15,8))\n",
    "\n",
    "lags = 50\n",
    "\n",
    "acf,acf_confidence_interval = sm.graphics.tsa.acf(x = diff_data,\n",
    "                                            unbiased = True,\n",
    "                                            alpha = 0.05,\n",
    "                                            nlags = lags,\n",
    "                                            qstat = False)\n",
    "\n",
    "pacf,pacf_confidence_interval = sm.graphics.tsa.pacf(\n",
    "                                            x = diff_data,\n",
    "                                            nlags = lags,\n",
    "                                            method = \"ywm\",\n",
    "                                            alpha = 0.05)\n",
    "\n",
    "acf_axe = fig.add_subplot(211)\n",
    "pacf_axe = fig.add_subplot(212)\n",
    "\n",
    "acf_axe.vlines(range(lags),0,acf,linestyles = \"solid\")\n",
    "acf_axe.plot(acf,\"o\")\n",
    "acf_axe.spines[\"bottom\"].set_position((\"data\",0))\n",
    "acf_axe.set_ylim(-1,1)\n",
    "\n",
    "acf_axe.fill_between(range(lags + 1),\n",
    "            (acf_confidence_interval[:,1] - acf) * 2,\n",
    "            (acf_confidence_interval[:,0] - acf) * 2,\n",
    "            alpha = 0.2)\n",
    "acf_axe.grid()\n",
    "\n",
    "\n",
    "pacf_axe.vlines(range(lags),0,pacf,linestyles = \"solid\")\n",
    "pacf_axe.plot(pacf,\"o\")\n",
    "pacf_axe.spines[\"bottom\"].set_position((\"data\",0))\n",
    "pacf_axe.set_ylim(-1,1)\n",
    "\n",
    "pacf_axe.fill_between(range(lags + 1),\n",
    "            (pacf_confidence_interval[:,1] - pacf) * 2,\n",
    "            (pacf_confidence_interval[:,0] - pacf) * 2,\n",
    "            alpha = 0.2)\n",
    "pacf_axe.grid()\n",
    "\n",
    "\n"
   ]
  },
  {
   "cell_type": "markdown",
   "metadata": {},
   "source": [
    "# 三.损伤识别"
   ]
  },
  {
   "cell_type": "markdown",
   "metadata": {},
   "source": [
    "## 数据整理"
   ]
  },
  {
   "cell_type": "code",
   "execution_count": 53,
   "metadata": {},
   "outputs": [
    {
     "name": "stdout",
     "output_type": "stream",
     "text": [
      "<class 'pandas.core.frame.DataFrame'>\n",
      "RangeIndex: 240024 entries, 0 to 240023\n",
      "Data columns (total 14 columns):\n",
      "1BP            240024 non-null float64\n",
      "3CP            240024 non-null float64\n",
      "3DP            240024 non-null float64\n",
      "2BP            240024 non-null float64\n",
      "2CC            240024 non-null float64\n",
      "3DC            240024 non-null float64\n",
      "2BC            240024 non-null float64\n",
      "2DC            240024 non-null float64\n",
      "1CC            240024 non-null float64\n",
      "3AP            240024 non-null float64\n",
      "2CP            240024 non-null float64\n",
      "3AC            240024 non-null float64\n",
      "3BP            240024 non-null float64\n",
      "Shake Level    240024 non-null object\n",
      "dtypes: float64(13), object(1)\n",
      "memory usage: 25.6+ MB\n"
     ]
    }
   ],
   "source": [
    "data.info()"
   ]
  },
  {
   "cell_type": "code",
   "execution_count": 5,
   "metadata": {},
   "outputs": [],
   "source": [
    "data = pd.read_csv(select_data_path)\n",
    "select_label = pd.read_csv(select_label_path)"
   ]
  },
  {
   "cell_type": "markdown",
   "metadata": {},
   "source": [
    "### One-Hot编码"
   ]
  },
  {
   "cell_type": "code",
   "execution_count": 6,
   "metadata": {},
   "outputs": [],
   "source": [
    "def one_hot_encode(data):\n",
    "    \"\"\"\n",
    "        数据集One-HOT编码\n",
    "    \"\"\"\n",
    "    dummy_shake_level = pd.get_dummies(data[\"Shake Level\"],prefix = \"Shake_Level\")\n",
    "    data.drop([\"Shake Level\"],axis = 1,inplace = True)\n",
    "    data = pd.concat([data,dummy_shake_level],axis = 1)\n",
    "    \n",
    "    return data"
   ]
  },
  {
   "cell_type": "code",
   "execution_count": 8,
   "metadata": {
    "scrolled": true
   },
   "outputs": [
    {
     "data": {
      "text/html": [
       "<div>\n",
       "<style>\n",
       "    .dataframe thead tr:only-child th {\n",
       "        text-align: right;\n",
       "    }\n",
       "\n",
       "    .dataframe thead th {\n",
       "        text-align: left;\n",
       "    }\n",
       "\n",
       "    .dataframe tbody tr th {\n",
       "        vertical-align: top;\n",
       "    }\n",
       "</style>\n",
       "<table border=\"1\" class=\"dataframe\">\n",
       "  <thead>\n",
       "    <tr style=\"text-align: right;\">\n",
       "      <th></th>\n",
       "      <th>1BP</th>\n",
       "      <th>3CP</th>\n",
       "      <th>3DP</th>\n",
       "      <th>2BP</th>\n",
       "      <th>2CC</th>\n",
       "      <th>3DC</th>\n",
       "      <th>2BC</th>\n",
       "      <th>2DC</th>\n",
       "      <th>1CC</th>\n",
       "      <th>3AP</th>\n",
       "      <th>2CP</th>\n",
       "      <th>3AC</th>\n",
       "      <th>3BP</th>\n",
       "      <th>Shake_Level_V02</th>\n",
       "      <th>Shake_Level_V05</th>\n",
       "      <th>Shake_Level_V08</th>\n",
       "    </tr>\n",
       "  </thead>\n",
       "  <tbody>\n",
       "    <tr>\n",
       "      <th>0</th>\n",
       "      <td>0.083138</td>\n",
       "      <td>0.059886</td>\n",
       "      <td>-0.183440</td>\n",
       "      <td>-0.103280</td>\n",
       "      <td>0.010815</td>\n",
       "      <td>-0.15505</td>\n",
       "      <td>-0.111120</td>\n",
       "      <td>0.011491</td>\n",
       "      <td>-0.218320</td>\n",
       "      <td>0.30294</td>\n",
       "      <td>0.041231</td>\n",
       "      <td>0.14113</td>\n",
       "      <td>-0.007063</td>\n",
       "      <td>1</td>\n",
       "      <td>0</td>\n",
       "      <td>0</td>\n",
       "    </tr>\n",
       "    <tr>\n",
       "      <th>1</th>\n",
       "      <td>0.213450</td>\n",
       "      <td>0.086112</td>\n",
       "      <td>-0.003515</td>\n",
       "      <td>-0.113420</td>\n",
       "      <td>0.078271</td>\n",
       "      <td>-0.26658</td>\n",
       "      <td>-0.005272</td>\n",
       "      <td>0.157490</td>\n",
       "      <td>-0.036229</td>\n",
       "      <td>0.17330</td>\n",
       "      <td>0.182630</td>\n",
       "      <td>0.40122</td>\n",
       "      <td>-0.004391</td>\n",
       "      <td>1</td>\n",
       "      <td>0</td>\n",
       "      <td>0</td>\n",
       "    </tr>\n",
       "    <tr>\n",
       "      <th>2</th>\n",
       "      <td>0.281180</td>\n",
       "      <td>0.025279</td>\n",
       "      <td>-0.279150</td>\n",
       "      <td>0.079893</td>\n",
       "      <td>0.035688</td>\n",
       "      <td>-0.17790</td>\n",
       "      <td>0.035012</td>\n",
       "      <td>-0.065834</td>\n",
       "      <td>-0.407580</td>\n",
       "      <td>0.37892</td>\n",
       "      <td>-0.125990</td>\n",
       "      <td>0.13288</td>\n",
       "      <td>-0.004646</td>\n",
       "      <td>1</td>\n",
       "      <td>0</td>\n",
       "      <td>0</td>\n",
       "    </tr>\n",
       "    <tr>\n",
       "      <th>3</th>\n",
       "      <td>0.593450</td>\n",
       "      <td>0.045421</td>\n",
       "      <td>-0.091789</td>\n",
       "      <td>0.028794</td>\n",
       "      <td>0.030416</td>\n",
       "      <td>-0.25198</td>\n",
       "      <td>-0.140320</td>\n",
       "      <td>0.000676</td>\n",
       "      <td>-0.461920</td>\n",
       "      <td>0.10233</td>\n",
       "      <td>0.062184</td>\n",
       "      <td>0.17993</td>\n",
       "      <td>-0.010075</td>\n",
       "      <td>1</td>\n",
       "      <td>0</td>\n",
       "      <td>0</td>\n",
       "    </tr>\n",
       "    <tr>\n",
       "      <th>4</th>\n",
       "      <td>0.368370</td>\n",
       "      <td>0.134780</td>\n",
       "      <td>-0.100310</td>\n",
       "      <td>-0.374050</td>\n",
       "      <td>0.218050</td>\n",
       "      <td>-0.08841</td>\n",
       "      <td>-0.105980</td>\n",
       "      <td>0.025144</td>\n",
       "      <td>-0.535590</td>\n",
       "      <td>0.16181</td>\n",
       "      <td>0.292540</td>\n",
       "      <td>0.17074</td>\n",
       "      <td>-0.006569</td>\n",
       "      <td>1</td>\n",
       "      <td>0</td>\n",
       "      <td>0</td>\n",
       "    </tr>\n",
       "  </tbody>\n",
       "</table>\n",
       "</div>"
      ],
      "text/plain": [
       "        1BP       3CP       3DP       2BP       2CC      3DC       2BC  \\\n",
       "0  0.083138  0.059886 -0.183440 -0.103280  0.010815 -0.15505 -0.111120   \n",
       "1  0.213450  0.086112 -0.003515 -0.113420  0.078271 -0.26658 -0.005272   \n",
       "2  0.281180  0.025279 -0.279150  0.079893  0.035688 -0.17790  0.035012   \n",
       "3  0.593450  0.045421 -0.091789  0.028794  0.030416 -0.25198 -0.140320   \n",
       "4  0.368370  0.134780 -0.100310 -0.374050  0.218050 -0.08841 -0.105980   \n",
       "\n",
       "        2DC       1CC      3AP       2CP      3AC       3BP  Shake_Level_V02  \\\n",
       "0  0.011491 -0.218320  0.30294  0.041231  0.14113 -0.007063                1   \n",
       "1  0.157490 -0.036229  0.17330  0.182630  0.40122 -0.004391                1   \n",
       "2 -0.065834 -0.407580  0.37892 -0.125990  0.13288 -0.004646                1   \n",
       "3  0.000676 -0.461920  0.10233  0.062184  0.17993 -0.010075                1   \n",
       "4  0.025144 -0.535590  0.16181  0.292540  0.17074 -0.006569                1   \n",
       "\n",
       "   Shake_Level_V05  Shake_Level_V08  \n",
       "0                0                0  \n",
       "1                0                0  \n",
       "2                0                0  \n",
       "3                0                0  \n",
       "4                0                0  "
      ]
     },
     "execution_count": 8,
     "metadata": {},
     "output_type": "execute_result"
    }
   ],
   "source": [
    "one_hot_flag = False\n",
    "\n",
    "if one_hot_flag:\n",
    "    data = one_hot_encode(data)\n",
    "data.head()"
   ]
  },
  {
   "cell_type": "markdown",
   "metadata": {},
   "source": [
    "### 时序模型数据处理"
   ]
  },
  {
   "cell_type": "markdown",
   "metadata": {},
   "source": [
    "#### 对数据集变形，保证变形后的数据一行是一个LSTM的输入"
   ]
  },
  {
   "cell_type": "code",
   "execution_count": 9,
   "metadata": {},
   "outputs": [],
   "source": [
    "def reshape_by_order(data,label,min_order):\n",
    "    \"\"\"\n",
    "        根据阶数对数据集进行变形处理，例如\n",
    "        (rows,cols) ===> (rows/n_order,n_order * cols)(如果rows/n_order除不尽，则将最后多余的剃掉以保证整齐)\n",
    "        Args:\n",
    "            data:\n",
    "            n_order:   阶数\n",
    "        Return:\n",
    "            变形后的数据\n",
    "    \"\"\"\n",
    "    #返回的结果数据\n",
    "    r_data = None;\n",
    "    #返回的结果标签\n",
    "    r_label = []\n",
    "    \n",
    "    data = data.values\n",
    "    #每种工况的个数\n",
    "    n_count = each_row_count + 1\n",
    "    #按每一种工况取\n",
    "    for i in range(n_count,data.shape[0],n_count):\n",
    "        #取出一种工况下的数据\n",
    "        sub_data = data[i - n_count : i].copy()\n",
    "        #剔除多余的数据，避免阶数除不尽的情况\n",
    "        n_rows = int(n_count / n_order) * n_order\n",
    "        sub_data = sub_data[:n_rows]\n",
    "        #修改形状\n",
    "        sub_data.shape = (-1,sub_data.shape[1] * n_order)\n",
    "        #标签\n",
    "        sub_label = [label.values[i - n_count][0]] * sub_data.shape[0]\n",
    "        #合成一个矩阵\n",
    "        r_data = sub_data if r_data is None else np.concatenate([r_data,sub_data],axis = 0)\n",
    "        \n",
    "        r_label.extend(sub_label)\n",
    "    return r_data,np.array(r_label)"
   ]
  },
  {
   "cell_type": "code",
   "execution_count": 10,
   "metadata": {
    "scrolled": true
   },
   "outputs": [
    {
     "data": {
      "text/plain": [
       "((15318, 240), (15318,))"
      ]
     },
     "execution_count": 10,
     "metadata": {},
     "output_type": "execute_result"
    }
   ],
   "source": [
    "#TODO\n",
    "#阶数\n",
    "n_order = 15\n",
    "\n",
    "order_data,order_label = reshape_by_order(data,select_label,n_order)\n",
    "order_data.shape,order_label.shape"
   ]
  },
  {
   "cell_type": "markdown",
   "metadata": {},
   "source": [
    "#### 存储定阶后的的数据"
   ]
  },
  {
   "cell_type": "code",
   "execution_count": 11,
   "metadata": {},
   "outputs": [],
   "source": [
    "np.save(order_data_path,order_data)\n",
    "np.save(order_label_path,order_label)"
   ]
  },
  {
   "cell_type": "markdown",
   "metadata": {},
   "source": [
    "### 对非时序模型数据处理"
   ]
  },
  {
   "cell_type": "markdown",
   "metadata": {},
   "source": [
    "####  对非时序数据特征提取"
   ]
  },
  {
   "cell_type": "code",
   "execution_count": 12,
   "metadata": {
    "scrolled": true
   },
   "outputs": [],
   "source": [
    "def extract_time_feature(data,label):\n",
    "    \"\"\"\n",
    "        时序特征提取，提取最大值，最小值，方差，均值，4分位数(最后三列本身是ONE-HOT编码数据，不参与计算)\n",
    "        Args:\n",
    "            data:\n",
    "        Return:\n",
    "            4分位数,最大值，最小值，均值，方差\n",
    "    \"\"\"\n",
    "    #提取后的数据\n",
    "    extract_data = None\n",
    "    #获取8分位点\n",
    "    quantiles_point = np.linspace(start = 0,stop = 100,num = 4,endpoint = False)[1:]\n",
    "    for i in range(data.shape[0]):\n",
    "        sub_data = data[i].copy();\n",
    "        sub_data.shape = (n_order,-1)\n",
    "        #获取One-hot编码数据\n",
    "        one_hot_data = sub_data[:,-3 :]\n",
    "        sub_data = sub_data[:,:-3]\n",
    "        #得到8分位数\n",
    "        quantiles = np.percentile(sub_data,quantiles_point,axis = 0)\n",
    "        quantiles = quantiles.flatten()\n",
    "        \n",
    "        #得到最大值最小值\n",
    "        max_d,min_d = sub_data.max(axis = 0),sub_data.min(axis = 0)\n",
    "        #得到均值，方差\n",
    "        mean_d,var_d = sub_data.mean(axis = 0),sub_data.var(axis = 0)\n",
    "        \n",
    "        extract_sub_data = np.concatenate([quantiles,max_d,min_d,mean_d,var_d])\n",
    "        extract_sub_data = np.concatenate([extract_sub_data,one_hot_data.flatten()])\n",
    "        extract_sub_data = extract_sub_data[np.newaxis , : ]\n",
    "        extract_data = extract_sub_data if extract_data is None else np.concatenate([extract_data,extract_sub_data],axis = 0)\n",
    "    \n",
    "    return extract_data,label"
   ]
  },
  {
   "cell_type": "code",
   "execution_count": 13,
   "metadata": {
    "scrolled": true
   },
   "outputs": [
    {
     "data": {
      "text/plain": [
       "((15318, 136), (15318,))"
      ]
     },
     "execution_count": 13,
     "metadata": {},
     "output_type": "execute_result"
    }
   ],
   "source": [
    "# 提取特征数据\n",
    "extract_data,extract_label = extract_time_feature(order_data,order_label)\n",
    "extract_data.shape,extract_label.shape"
   ]
  },
  {
   "cell_type": "markdown",
   "metadata": {},
   "source": [
    "#### 存储提取后的数据"
   ]
  },
  {
   "cell_type": "code",
   "execution_count": 14,
   "metadata": {},
   "outputs": [],
   "source": [
    "np.save(extract_data_path,extract_data)\n",
    "np.save(extract_label_path,extract_label)"
   ]
  },
  {
   "cell_type": "markdown",
   "metadata": {},
   "source": [
    "### 定义载入数据函数"
   ]
  },
  {
   "cell_type": "code",
   "execution_count": 4,
   "metadata": {},
   "outputs": [],
   "source": [
    "def load_extract_data():\n",
    "    \"\"\"\n",
    "        获取提取的非时序数据\n",
    "    \"\"\"\n",
    "    extract_data = np.load(extract_data_path)\n",
    "    extract_label = np.load(extract_label_path)\n",
    "    \n",
    "    return extract_data,extract_label\n",
    "\n",
    "def load_order_data():\n",
    "    \"\"\"\n",
    "        获取提取的时序数据\n",
    "    \"\"\"\n",
    "    order_data = np.load(order_data_path)\n",
    "    order_label = np.load(order_label_path)\n",
    "    \n",
    "    return order_data,order_label"
   ]
  },
  {
   "cell_type": "markdown",
   "metadata": {},
   "source": [
    "### 定义存储划分好的训练集和测试集函数"
   ]
  },
  {
   "cell_type": "code",
   "execution_count": 5,
   "metadata": {},
   "outputs": [],
   "source": [
    "import h5py\n",
    "from sys import path\n",
    "path.append(\"./src\")\n",
    "import util\n",
    "from imp import reload\n",
    "reload(util)\n",
    "\n",
    "def save_split_data(file_path,x_train,x_test,y_train,y_test):\n",
    "    \"\"\"\n",
    "        \n",
    "    \"\"\"\n",
    "    with h5py.File(file_path,\"w\") as file:\n",
    "        file.create_dataset('x_train', data = x_train)\n",
    "        file.create_dataset(\"x_test\",data = x_test)\n",
    "\n",
    "        train_class_label = util.map_label(y_train)\n",
    "        test_class_label = util.map_label(y_test)\n",
    "\n",
    "        file.create_dataset(\"y_train\",data = train_class_label)\n",
    "        file.create_dataset(\"y_test\",data = test_class_label)\n",
    "\n"
   ]
  },
  {
   "cell_type": "markdown",
   "metadata": {},
   "source": [
    "### 定义读取训练集和测试集函数"
   ]
  },
  {
   "cell_type": "code",
   "execution_count": 5,
   "metadata": {},
   "outputs": [],
   "source": [
    "import h5py\n",
    "\n",
    "def load_split_data(file_path):\n",
    "    with h5py.File(file_path,\"r\") as file:\n",
    "        x_train = file['x_train'][:]\n",
    "        x_test = file[\"x_test\"][:]\n",
    "\n",
    "        y_train = file[\"y_train\"][:]\n",
    "        y_test = file[\"y_test\"][:]\n",
    "        \n",
    "    return x_train,x_test,y_train,y_test"
   ]
  },
  {
   "cell_type": "markdown",
   "metadata": {},
   "source": [
    "### 定义存储预测结果函数"
   ]
  },
  {
   "cell_type": "code",
   "execution_count": 38,
   "metadata": {},
   "outputs": [],
   "source": [
    "import h5py\n",
    "\n",
    "def save_pred(model_name,y_test_pred,\n",
    "              file_path = \"./result/pred_result.h5\"):\n",
    "    \n",
    "    with h5py.File(file_path,\"a\") as file:\n",
    "        file.create_dataset(model_name,data = y_test_pred)"
   ]
  },
  {
   "cell_type": "markdown",
   "metadata": {},
   "source": [
    "## SVM"
   ]
  },
  {
   "cell_type": "markdown",
   "metadata": {},
   "source": [
    "### 划分训练集和测试集"
   ]
  },
  {
   "cell_type": "code",
   "execution_count": 58,
   "metadata": {},
   "outputs": [
    {
     "ename": "NameError",
     "evalue": "name 'normal_data' is not defined",
     "output_type": "error",
     "traceback": [
      "\u001b[0;31m---------------------------------------------------------------------------\u001b[0m",
      "\u001b[0;31mNameError\u001b[0m                                 Traceback (most recent call last)",
      "\u001b[0;32m<ipython-input-58-56d59ea55425>\u001b[0m in \u001b[0;36m<module>\u001b[0;34m()\u001b[0m\n\u001b[1;32m      1\u001b[0m \u001b[0;32mfrom\u001b[0m \u001b[0msklearn\u001b[0m\u001b[0;34m.\u001b[0m\u001b[0mcross_validation\u001b[0m \u001b[0;32mimport\u001b[0m \u001b[0mtrain_test_split\u001b[0m\u001b[0;34m\u001b[0m\u001b[0m\n\u001b[0;32m----> 2\u001b[0;31m \u001b[0mx_train\u001b[0m\u001b[0;34m,\u001b[0m\u001b[0mx_test\u001b[0m\u001b[0;34m,\u001b[0m\u001b[0my_train\u001b[0m\u001b[0;34m,\u001b[0m\u001b[0my_test\u001b[0m \u001b[0;34m=\u001b[0m \u001b[0mtrain_test_split\u001b[0m\u001b[0;34m(\u001b[0m\u001b[0mnormal_data\u001b[0m\u001b[0;34m,\u001b[0m\u001b[0mextract_label\u001b[0m\u001b[0;34m,\u001b[0m\u001b[0mtest_size\u001b[0m \u001b[0;34m=\u001b[0m \u001b[0;36m0.1\u001b[0m\u001b[0;34m)\u001b[0m\u001b[0;34m\u001b[0m\u001b[0m\n\u001b[0m",
      "\u001b[0;31mNameError\u001b[0m: name 'normal_data' is not defined"
     ]
    }
   ],
   "source": [
    "from sklearn.cross_validation import train_test_split\n",
    "x_train,x_test,y_train,y_test = train_test_split(normal_data,extract_label,test_size = 0.1)"
   ]
  },
  {
   "cell_type": "markdown",
   "metadata": {},
   "source": [
    "### 设立标准（F-beta score beta = 3 微查全率）"
   ]
  },
  {
   "cell_type": "code",
   "execution_count": 15,
   "metadata": {},
   "outputs": [],
   "source": [
    "from sklearn import metrics\n",
    "from sklearn.metrics import make_scorer,fbeta_score\n",
    "\n",
    "#f3-score\n",
    "f3_score = make_scorer(fbeta_score,beta = 3,average = \"micro\")"
   ]
  },
  {
   "cell_type": "markdown",
   "metadata": {},
   "source": [
    "### 超参数优化(随机搜索)"
   ]
  },
  {
   "cell_type": "code",
   "execution_count": null,
   "metadata": {
    "scrolled": true
   },
   "outputs": [],
   "source": [
    "from sklearn.model_selection import RandomizedSearchCV\n",
    "from sklearn.svm import SVC\n",
    "import scipy\n",
    "from scipy.stats import randint\n",
    "from sklearn.ensemble import RandomForestClassifier\n",
    "from scipy.stats import randint as sp_randint\n",
    "\n",
    "# param_dict = {\n",
    "#     \"C\" : randint(1,10),\n",
    "#     \"kernel\" : [\"linear\", \"poly\", \"rbf\", \"sigmoid\", \"precomputed\"]\n",
    "# }\n",
    "#采样次数\n",
    "n_iter = 3\n",
    "\n",
    "clf = SVC()\n",
    "\n",
    "param_dist = {\n",
    "    'C': scipy.stats.expon(scale=100),\n",
    "    'gamma': scipy.stats.expon(scale=.1),\n",
    "    'kernel': [\"linear\", \"poly\", \"rbf\", \"sigmoid\", \"precomputed\"]\n",
    "}\n",
    "\n",
    "# param_dist = {\"max_depth\": [3, None],\n",
    "#               \"max_features\": sp_randint(1, 11),\n",
    "#               \"min_samples_split\": sp_randint(2, 11),\n",
    "#               \"min_samples_leaf\": sp_randint(1, 11),\n",
    "#               \"bootstrap\": [True, False],\n",
    "#               \"criterion\": [\"gini\", \"entropy\"]}\n",
    "\n",
    "# clf = RandomForestClassifier(n_estimators=20)\n",
    "\n",
    "#clf.fit(x_train,y_train)\n",
    "random_search = RandomizedSearchCV(\n",
    "    estimator = clf,\n",
    "    param_distributions = param_dist,\n",
    "    n_iter = n_iter,\n",
    "    scoring = f3_score\n",
    ")\n",
    "#random_search.fit(x_train,y_train)"
   ]
  },
  {
   "cell_type": "code",
   "execution_count": 28,
   "metadata": {},
   "outputs": [
    {
     "data": {
      "text/plain": [
       "0.72367149758454108"
      ]
     },
     "execution_count": 28,
     "metadata": {},
     "output_type": "execute_result"
    }
   ],
   "source": [
    "random_search.best_params_\n",
    "random_search.best_score_"
   ]
  },
  {
   "cell_type": "markdown",
   "metadata": {},
   "source": [
    "### 无偏估计"
   ]
  },
  {
   "cell_type": "code",
   "execution_count": null,
   "metadata": {},
   "outputs": [],
   "source": []
  },
  {
   "cell_type": "code",
   "execution_count": 17,
   "metadata": {},
   "outputs": [],
   "source": []
  },
  {
   "cell_type": "markdown",
   "metadata": {},
   "source": [
    "## DNN"
   ]
  },
  {
   "cell_type": "markdown",
   "metadata": {},
   "source": [
    "### 获取数据"
   ]
  },
  {
   "cell_type": "code",
   "execution_count": 18,
   "metadata": {},
   "outputs": [],
   "source": [
    "x,y = load_extract_data()"
   ]
  },
  {
   "cell_type": "markdown",
   "metadata": {},
   "source": [
    "### 划分训练集和测试集"
   ]
  },
  {
   "cell_type": "code",
   "execution_count": 19,
   "metadata": {},
   "outputs": [],
   "source": [
    "from sklearn.model_selection import train_test_split\n",
    "\n",
    "test_size = 0.2\n",
    "x_train, x_test, y_train, y_test = train_test_split(\n",
    "                x,y, test_size = test_size)"
   ]
  },
  {
   "cell_type": "markdown",
   "metadata": {},
   "source": [
    "### 存储数据"
   ]
  },
  {
   "cell_type": "code",
   "execution_count": 22,
   "metadata": {},
   "outputs": [],
   "source": [
    "save_split_data(\"./data/dnn_dataset.hdf5\",x_train, x_test, y_train, y_test)"
   ]
  },
  {
   "cell_type": "markdown",
   "metadata": {},
   "source": [
    "### 获取数据"
   ]
  },
  {
   "cell_type": "code",
   "execution_count": 206,
   "metadata": {},
   "outputs": [],
   "source": [
    "x_train, x_test, y_train, y_test = load_split_data(\"./data/dnn_dataset.hdf5\")"
   ]
  },
  {
   "cell_type": "markdown",
   "metadata": {},
   "source": [
    "### 超参数设置"
   ]
  },
  {
   "cell_type": "code",
   "execution_count": 224,
   "metadata": {},
   "outputs": [],
   "source": [
    "learning_rate = 0.005\n",
    "hidden_layers = [30,15,15]\n",
    "epoch = 10\n",
    "batch = 512\n",
    "\n",
    "label_list = [\"DBB\",\"DB0\",\"D00\",\"D05\",\"DHT\",\"D10\"]\n",
    "n_class = 6\n",
    "n_input = x_train.shape[1]\n",
    "model_dir = \"logs/DNN\""
   ]
  },
  {
   "cell_type": "markdown",
   "metadata": {},
   "source": [
    "### 建立模型"
   ]
  },
  {
   "cell_type": "code",
   "execution_count": 225,
   "metadata": {},
   "outputs": [
    {
     "name": "stdout",
     "output_type": "stream",
     "text": [
      "INFO:tensorflow:Using default config.\n",
      "INFO:tensorflow:Using config: {'_keep_checkpoint_max': 5, '_num_worker_replicas': 1, '_num_ps_replicas': 0, '_session_config': None, '_save_checkpoints_steps': None, '_master': '', '_tf_random_seed': None, '_service': None, '_is_chief': True, '_save_summary_steps': 100, '_task_type': 'worker', '_log_step_count_steps': 100, '_save_checkpoints_secs': 600, '_keep_checkpoint_every_n_hours': 10000, '_cluster_spec': <tensorflow.python.training.server_lib.ClusterSpec object at 0x7fefac8172e8>, '_task_id': 0, '_model_dir': 'logs/DNN'}\n"
     ]
    }
   ],
   "source": [
    "from sys import path\n",
    "path.append(\"./src/\")\n",
    "import dnn\n",
    "import base_estimator\n",
    "from imp import reload\n",
    "import metrics\n",
    "import util\n",
    "reload(util)\n",
    "reload(metrics)\n",
    "reload(dnn)\n",
    "reload(base_estimator)\n",
    "\n",
    "dnn_classifier = dnn.DNNClassifier(\n",
    "    n_inputs = n_input,\n",
    "    learning_rate = learning_rate,\n",
    "    model_dir = model_dir,\n",
    "    hidden_units = hidden_layers,\n",
    "    n_classes = n_class\n",
    ")"
   ]
  },
  {
   "cell_type": "markdown",
   "metadata": {},
   "source": [
    "### 训练及评价"
   ]
  },
  {
   "cell_type": "code",
   "execution_count": 35,
   "metadata": {
    "collapsed": true
   },
   "outputs": [
    {
     "name": "stdout",
     "output_type": "stream",
     "text": [
      "INFO:tensorflow:Running training and evaluation locally (non-distributed).\n",
      "INFO:tensorflow:Start train and evaluate loop. The evaluate will happen after 600 secs (eval_spec.throttle_secs) or training is finished.\n",
      "INFO:tensorflow:Skipping training since max_steps has already saved.\n",
      "INFO:tensorflow:Starting evaluation at 2018-03-10-06:26:46\n",
      "INFO:tensorflow:Restoring parameters from logs/DNN/model.ckpt-11000\n",
      "INFO:tensorflow:Evaluation [1/100]\n",
      "INFO:tensorflow:Evaluation [2/100]\n",
      "INFO:tensorflow:Evaluation [3/100]\n",
      "INFO:tensorflow:Evaluation [4/100]\n",
      "INFO:tensorflow:Evaluation [5/100]\n",
      "INFO:tensorflow:Evaluation [6/100]\n",
      "INFO:tensorflow:Evaluation [7/100]\n",
      "INFO:tensorflow:Evaluation [8/100]\n",
      "INFO:tensorflow:Evaluation [9/100]\n",
      "INFO:tensorflow:Evaluation [10/100]\n",
      "INFO:tensorflow:Evaluation [11/100]\n",
      "INFO:tensorflow:Evaluation [12/100]\n",
      "INFO:tensorflow:Evaluation [13/100]\n",
      "INFO:tensorflow:Evaluation [14/100]\n",
      "INFO:tensorflow:Evaluation [15/100]\n",
      "INFO:tensorflow:Evaluation [16/100]\n",
      "INFO:tensorflow:Evaluation [17/100]\n",
      "INFO:tensorflow:Evaluation [18/100]\n",
      "INFO:tensorflow:Evaluation [19/100]\n",
      "INFO:tensorflow:Evaluation [20/100]\n",
      "INFO:tensorflow:Evaluation [21/100]\n",
      "INFO:tensorflow:Evaluation [22/100]\n",
      "INFO:tensorflow:Evaluation [23/100]\n",
      "INFO:tensorflow:Evaluation [24/100]\n",
      "INFO:tensorflow:Evaluation [25/100]\n",
      "INFO:tensorflow:Evaluation [26/100]\n",
      "INFO:tensorflow:Evaluation [27/100]\n",
      "INFO:tensorflow:Evaluation [28/100]\n",
      "INFO:tensorflow:Evaluation [29/100]\n",
      "INFO:tensorflow:Evaluation [30/100]\n",
      "INFO:tensorflow:Evaluation [31/100]\n",
      "INFO:tensorflow:Evaluation [32/100]\n",
      "INFO:tensorflow:Evaluation [33/100]\n",
      "INFO:tensorflow:Evaluation [34/100]\n",
      "INFO:tensorflow:Evaluation [35/100]\n",
      "INFO:tensorflow:Evaluation [36/100]\n",
      "INFO:tensorflow:Evaluation [37/100]\n",
      "INFO:tensorflow:Evaluation [38/100]\n",
      "INFO:tensorflow:Evaluation [39/100]\n",
      "INFO:tensorflow:Evaluation [40/100]\n",
      "INFO:tensorflow:Evaluation [41/100]\n",
      "INFO:tensorflow:Evaluation [42/100]\n",
      "INFO:tensorflow:Evaluation [43/100]\n",
      "INFO:tensorflow:Evaluation [44/100]\n",
      "INFO:tensorflow:Evaluation [45/100]\n",
      "INFO:tensorflow:Evaluation [46/100]\n",
      "INFO:tensorflow:Evaluation [47/100]\n",
      "INFO:tensorflow:Evaluation [48/100]\n",
      "INFO:tensorflow:Evaluation [49/100]\n",
      "INFO:tensorflow:Evaluation [50/100]\n",
      "INFO:tensorflow:Evaluation [51/100]\n",
      "INFO:tensorflow:Evaluation [52/100]\n",
      "INFO:tensorflow:Evaluation [53/100]\n",
      "INFO:tensorflow:Evaluation [54/100]\n",
      "INFO:tensorflow:Evaluation [55/100]\n",
      "INFO:tensorflow:Evaluation [56/100]\n",
      "INFO:tensorflow:Evaluation [57/100]\n",
      "INFO:tensorflow:Evaluation [58/100]\n",
      "INFO:tensorflow:Evaluation [59/100]\n",
      "INFO:tensorflow:Evaluation [60/100]\n",
      "INFO:tensorflow:Evaluation [61/100]\n",
      "INFO:tensorflow:Evaluation [62/100]\n",
      "INFO:tensorflow:Evaluation [63/100]\n",
      "INFO:tensorflow:Evaluation [64/100]\n",
      "INFO:tensorflow:Evaluation [65/100]\n",
      "INFO:tensorflow:Evaluation [66/100]\n",
      "INFO:tensorflow:Evaluation [67/100]\n",
      "INFO:tensorflow:Evaluation [68/100]\n",
      "INFO:tensorflow:Evaluation [69/100]\n",
      "INFO:tensorflow:Evaluation [70/100]\n",
      "INFO:tensorflow:Evaluation [71/100]\n",
      "INFO:tensorflow:Evaluation [72/100]\n",
      "INFO:tensorflow:Evaluation [73/100]\n",
      "INFO:tensorflow:Evaluation [74/100]\n",
      "INFO:tensorflow:Evaluation [75/100]\n",
      "INFO:tensorflow:Evaluation [76/100]\n",
      "INFO:tensorflow:Evaluation [77/100]\n",
      "INFO:tensorflow:Evaluation [78/100]\n",
      "INFO:tensorflow:Evaluation [79/100]\n",
      "INFO:tensorflow:Evaluation [80/100]\n",
      "INFO:tensorflow:Evaluation [81/100]\n",
      "INFO:tensorflow:Evaluation [82/100]\n",
      "INFO:tensorflow:Evaluation [83/100]\n",
      "INFO:tensorflow:Evaluation [84/100]\n",
      "INFO:tensorflow:Evaluation [85/100]\n",
      "INFO:tensorflow:Evaluation [86/100]\n",
      "INFO:tensorflow:Evaluation [87/100]\n",
      "INFO:tensorflow:Evaluation [88/100]\n",
      "INFO:tensorflow:Evaluation [89/100]\n",
      "INFO:tensorflow:Evaluation [90/100]\n",
      "INFO:tensorflow:Evaluation [91/100]\n",
      "INFO:tensorflow:Evaluation [92/100]\n",
      "INFO:tensorflow:Evaluation [93/100]\n",
      "INFO:tensorflow:Evaluation [94/100]\n",
      "INFO:tensorflow:Evaluation [95/100]\n",
      "INFO:tensorflow:Evaluation [96/100]\n",
      "INFO:tensorflow:Evaluation [97/100]\n",
      "INFO:tensorflow:Evaluation [98/100]\n",
      "INFO:tensorflow:Evaluation [99/100]\n",
      "INFO:tensorflow:Evaluation [100/100]\n",
      "INFO:tensorflow:Finished evaluation at 2018-03-10-06:26:47\n",
      "INFO:tensorflow:Saving dict for global step 11000: accuracy = 0.94683594, global_step = 11000, loss = 0.18783349\n"
     ]
    }
   ],
   "source": [
    "dnn_classifier.train_and_eval(x_train, x_test, y_train, y_test,\n",
    "                                      batch_size = batch,max_steps = 11000)"
   ]
  },
  {
   "cell_type": "markdown",
   "metadata": {},
   "source": [
    "### 保存预测结果"
   ]
  },
  {
   "cell_type": "code",
   "execution_count": 226,
   "metadata": {
    "scrolled": true
   },
   "outputs": [
    {
     "name": "stdout",
     "output_type": "stream",
     "text": [
      "WARNING:tensorflow:Input graph does not contain a QueueRunner. That means predict yields forever. This is probably a mistake.\n",
      "INFO:tensorflow:Restoring parameters from logs/DNN/model.ckpt-11000\n"
     ]
    }
   ],
   "source": [
    "y_test_pred = dnn_classifier.predict(x_test,1)\n",
    "\n",
    "y_test_preds = []\n",
    "for y_pred in y_test_pred:\n",
    "    y_test_preds.append(y_pred[\"probabilities\"])\n",
    "y_test_preds = np.array(y_test_preds)\n",
    "\n",
    "save_pred(\"dnn\",y_test_preds)"
   ]
  },
  {
   "cell_type": "markdown",
   "metadata": {},
   "source": [
    "## LSTM"
   ]
  },
  {
   "cell_type": "markdown",
   "metadata": {},
   "source": [
    "### 获取数据"
   ]
  },
  {
   "cell_type": "code",
   "execution_count": 81,
   "metadata": {},
   "outputs": [],
   "source": [
    "x,y = load_order_data()"
   ]
  },
  {
   "cell_type": "markdown",
   "metadata": {},
   "source": [
    "### 划分训练集和测试集"
   ]
  },
  {
   "cell_type": "code",
   "execution_count": 39,
   "metadata": {},
   "outputs": [
    {
     "ename": "NameError",
     "evalue": "name 'x' is not defined",
     "output_type": "error",
     "traceback": [
      "\u001b[0;31m---------------------------------------------------------------------------\u001b[0m",
      "\u001b[0;31mNameError\u001b[0m                                 Traceback (most recent call last)",
      "\u001b[0;32m<ipython-input-39-913a9a2dfc42>\u001b[0m in \u001b[0;36m<module>\u001b[0;34m()\u001b[0m\n\u001b[1;32m      3\u001b[0m \u001b[0mtest_size\u001b[0m \u001b[0;34m=\u001b[0m \u001b[0;36m0.1\u001b[0m\u001b[0;34m\u001b[0m\u001b[0m\n\u001b[1;32m      4\u001b[0m x_train, x_test, y_train, y_test = train_test_split(\n\u001b[0;32m----> 5\u001b[0;31m                 x,y, test_size = test_size)\n\u001b[0m",
      "\u001b[0;31mNameError\u001b[0m: name 'x' is not defined"
     ]
    }
   ],
   "source": [
    "from sklearn.model_selection import train_test_split\n",
    "\n",
    "test_size = 0.1\n",
    "x_train, x_test, y_train, y_test = train_test_split(\n",
    "                x,y, test_size = test_size)"
   ]
  },
  {
   "cell_type": "markdown",
   "metadata": {},
   "source": [
    "### 存储数据"
   ]
  },
  {
   "cell_type": "code",
   "execution_count": 85,
   "metadata": {},
   "outputs": [],
   "source": [
    "save_split_data(\"./data/lstm_dataset.hdf5\",x_train, x_test, y_train, y_test)"
   ]
  },
  {
   "cell_type": "markdown",
   "metadata": {},
   "source": [
    "### 获取数据"
   ]
  },
  {
   "cell_type": "code",
   "execution_count": 227,
   "metadata": {},
   "outputs": [],
   "source": [
    "x_train,x_test,y_train,y_test = load_split_data(\"./data/lstm_dataset.hdf5\")"
   ]
  },
  {
   "cell_type": "markdown",
   "metadata": {},
   "source": [
    "### 超参数"
   ]
  },
  {
   "cell_type": "code",
   "execution_count": 228,
   "metadata": {},
   "outputs": [],
   "source": [
    "learning_rate = 0.001\n",
    "hidden_layers = [30,20]\n",
    "epoch = 10\n",
    "batch = 128\n",
    "\n",
    "label_list = [\"DBB\",\"DB0\",\"D00\",\"D05\",\"DHT\",\"D10\"]\n",
    "n_class = 6\n",
    "model_dir = \"logs/LSTM3\"\n",
    "n_orders = 15\n",
    "n_input = int(x_train.shape[1] / n_orders)"
   ]
  },
  {
   "cell_type": "markdown",
   "metadata": {},
   "source": [
    "### 模型"
   ]
  },
  {
   "cell_type": "code",
   "execution_count": 229,
   "metadata": {},
   "outputs": [
    {
     "name": "stdout",
     "output_type": "stream",
     "text": [
      "INFO:tensorflow:Using default config.\n",
      "INFO:tensorflow:Using config: {'_keep_checkpoint_max': 5, '_num_worker_replicas': 1, '_num_ps_replicas': 0, '_session_config': None, '_save_checkpoints_steps': None, '_master': '', '_tf_random_seed': None, '_service': None, '_is_chief': True, '_save_summary_steps': 100, '_task_type': 'worker', '_log_step_count_steps': 100, '_save_checkpoints_secs': 600, '_keep_checkpoint_every_n_hours': 10000, '_cluster_spec': <tensorflow.python.training.server_lib.ClusterSpec object at 0x7fefad538470>, '_task_id': 0, '_model_dir': 'logs/LSTM3'}\n"
     ]
    }
   ],
   "source": [
    "from sys import path\n",
    "path.append(\"./src/\")\n",
    "import lstm\n",
    "import base_estimator\n",
    "from imp import reload\n",
    "reload(lstm)\n",
    "reload(base_estimator)\n",
    "\n",
    "lstm_classifier = lstm.LSTMClassifier(\n",
    "    n_inputs = n_input,\n",
    "    learning_rate = learning_rate,\n",
    "    model_dir = model_dir,\n",
    "    hidden_units = hidden_layers,\n",
    "    n_classes = n_class,\n",
    "    n_steps = n_orders,\n",
    "    batch_size = batch\n",
    ")"
   ]
  },
  {
   "cell_type": "markdown",
   "metadata": {},
   "source": [
    "### 训练和评价"
   ]
  },
  {
   "cell_type": "code",
   "execution_count": 190,
   "metadata": {
    "collapsed": true
   },
   "outputs": [
    {
     "name": "stdout",
     "output_type": "stream",
     "text": [
      "INFO:tensorflow:Running training and evaluation locally (non-distributed).\n",
      "INFO:tensorflow:Start train and evaluate loop. The evaluate will happen after 600 secs (eval_spec.throttle_secs) or training is finished.\n",
      "INFO:tensorflow:Skipping training since max_steps has already saved.\n",
      "INFO:tensorflow:Starting evaluation at 2018-03-11-10:26:43\n",
      "INFO:tensorflow:Restoring parameters from logs/LSTM3/model.ckpt-11000\n",
      "INFO:tensorflow:Evaluation [1/100]\n",
      "INFO:tensorflow:Evaluation [2/100]\n",
      "INFO:tensorflow:Evaluation [3/100]\n",
      "INFO:tensorflow:Evaluation [4/100]\n",
      "INFO:tensorflow:Evaluation [5/100]\n",
      "INFO:tensorflow:Evaluation [6/100]\n",
      "INFO:tensorflow:Evaluation [7/100]\n",
      "INFO:tensorflow:Evaluation [8/100]\n",
      "INFO:tensorflow:Evaluation [9/100]\n",
      "INFO:tensorflow:Evaluation [10/100]\n",
      "INFO:tensorflow:Evaluation [11/100]\n",
      "INFO:tensorflow:Evaluation [12/100]\n",
      "INFO:tensorflow:Evaluation [13/100]\n",
      "INFO:tensorflow:Evaluation [14/100]\n",
      "INFO:tensorflow:Evaluation [15/100]\n",
      "INFO:tensorflow:Evaluation [16/100]\n",
      "INFO:tensorflow:Evaluation [17/100]\n",
      "INFO:tensorflow:Evaluation [18/100]\n",
      "INFO:tensorflow:Evaluation [19/100]\n",
      "INFO:tensorflow:Evaluation [20/100]\n",
      "INFO:tensorflow:Evaluation [21/100]\n",
      "INFO:tensorflow:Evaluation [22/100]\n",
      "INFO:tensorflow:Evaluation [23/100]\n",
      "INFO:tensorflow:Evaluation [24/100]\n",
      "INFO:tensorflow:Evaluation [25/100]\n",
      "INFO:tensorflow:Evaluation [26/100]\n",
      "INFO:tensorflow:Evaluation [27/100]\n",
      "INFO:tensorflow:Evaluation [28/100]\n",
      "INFO:tensorflow:Evaluation [29/100]\n",
      "INFO:tensorflow:Evaluation [30/100]\n",
      "INFO:tensorflow:Evaluation [31/100]\n",
      "INFO:tensorflow:Evaluation [32/100]\n",
      "INFO:tensorflow:Evaluation [33/100]\n",
      "INFO:tensorflow:Evaluation [34/100]\n",
      "INFO:tensorflow:Evaluation [35/100]\n",
      "INFO:tensorflow:Evaluation [36/100]\n",
      "INFO:tensorflow:Evaluation [37/100]\n",
      "INFO:tensorflow:Evaluation [38/100]\n",
      "INFO:tensorflow:Evaluation [39/100]\n",
      "INFO:tensorflow:Evaluation [40/100]\n",
      "INFO:tensorflow:Evaluation [41/100]\n",
      "INFO:tensorflow:Evaluation [42/100]\n",
      "INFO:tensorflow:Evaluation [43/100]\n",
      "INFO:tensorflow:Evaluation [44/100]\n",
      "INFO:tensorflow:Evaluation [45/100]\n",
      "INFO:tensorflow:Evaluation [46/100]\n",
      "INFO:tensorflow:Evaluation [47/100]\n",
      "INFO:tensorflow:Evaluation [48/100]\n",
      "INFO:tensorflow:Evaluation [49/100]\n",
      "INFO:tensorflow:Evaluation [50/100]\n",
      "INFO:tensorflow:Evaluation [51/100]\n",
      "INFO:tensorflow:Evaluation [52/100]\n",
      "INFO:tensorflow:Evaluation [53/100]\n",
      "INFO:tensorflow:Evaluation [54/100]\n",
      "INFO:tensorflow:Evaluation [55/100]\n",
      "INFO:tensorflow:Evaluation [56/100]\n",
      "INFO:tensorflow:Evaluation [57/100]\n",
      "INFO:tensorflow:Evaluation [58/100]\n",
      "INFO:tensorflow:Evaluation [59/100]\n",
      "INFO:tensorflow:Evaluation [60/100]\n",
      "INFO:tensorflow:Evaluation [61/100]\n",
      "INFO:tensorflow:Evaluation [62/100]\n",
      "INFO:tensorflow:Evaluation [63/100]\n",
      "INFO:tensorflow:Evaluation [64/100]\n",
      "INFO:tensorflow:Evaluation [65/100]\n",
      "INFO:tensorflow:Evaluation [66/100]\n",
      "INFO:tensorflow:Evaluation [67/100]\n",
      "INFO:tensorflow:Evaluation [68/100]\n",
      "INFO:tensorflow:Evaluation [69/100]\n",
      "INFO:tensorflow:Evaluation [70/100]\n",
      "INFO:tensorflow:Evaluation [71/100]\n",
      "INFO:tensorflow:Evaluation [72/100]\n",
      "INFO:tensorflow:Evaluation [73/100]\n",
      "INFO:tensorflow:Evaluation [74/100]\n",
      "INFO:tensorflow:Evaluation [75/100]\n",
      "INFO:tensorflow:Evaluation [76/100]\n",
      "INFO:tensorflow:Evaluation [77/100]\n",
      "INFO:tensorflow:Evaluation [78/100]\n",
      "INFO:tensorflow:Evaluation [79/100]\n",
      "INFO:tensorflow:Evaluation [80/100]\n",
      "INFO:tensorflow:Evaluation [81/100]\n",
      "INFO:tensorflow:Evaluation [82/100]\n",
      "INFO:tensorflow:Evaluation [83/100]\n",
      "INFO:tensorflow:Evaluation [84/100]\n",
      "INFO:tensorflow:Evaluation [85/100]\n",
      "INFO:tensorflow:Evaluation [86/100]\n",
      "INFO:tensorflow:Evaluation [87/100]\n",
      "INFO:tensorflow:Evaluation [88/100]\n",
      "INFO:tensorflow:Evaluation [89/100]\n",
      "INFO:tensorflow:Evaluation [90/100]\n",
      "INFO:tensorflow:Evaluation [91/100]\n",
      "INFO:tensorflow:Evaluation [92/100]\n",
      "INFO:tensorflow:Evaluation [93/100]\n",
      "INFO:tensorflow:Evaluation [94/100]\n",
      "INFO:tensorflow:Evaluation [95/100]\n",
      "INFO:tensorflow:Evaluation [96/100]\n",
      "INFO:tensorflow:Evaluation [97/100]\n",
      "INFO:tensorflow:Evaluation [98/100]\n",
      "INFO:tensorflow:Evaluation [99/100]\n",
      "INFO:tensorflow:Evaluation [100/100]\n",
      "INFO:tensorflow:Finished evaluation at 2018-03-11-10:26:43\n",
      "INFO:tensorflow:Saving dict for global step 11000: accuracy = 0.98, global_step = 11000, loss = 0.19126709\n"
     ]
    }
   ],
   "source": [
    "lstm_classifier.train_and_eval(x_train, x_test, y_train, y_test,\n",
    "                                       batch_size = 1,\n",
    "                                       max_steps = 11000)"
   ]
  },
  {
   "cell_type": "markdown",
   "metadata": {},
   "source": [
    "### 保存预测结果"
   ]
  },
  {
   "cell_type": "code",
   "execution_count": 231,
   "metadata": {},
   "outputs": [
    {
     "name": "stdout",
     "output_type": "stream",
     "text": [
      "WARNING:tensorflow:Input graph does not contain a QueueRunner. That means predict yields forever. This is probably a mistake.\n",
      "INFO:tensorflow:Restoring parameters from logs/LSTM3/model.ckpt-11000\n"
     ]
    }
   ],
   "source": [
    "lstm_classifier._batch_size = 1\n",
    "y_test_pred = lstm_classifier.predict(x_test,1)\n",
    "\n",
    "y_test_preds = []\n",
    "for y_pred in y_test_pred:\n",
    "    y_test_preds.append(y_pred[\"probabilities\"])\n",
    "y_test_preds = np.array(y_test_preds)\n",
    "\n",
    "save_pred(\"lstm\",y_test_preds)\n",
    "lstm_classifier._batch_size = batch"
   ]
  },
  {
   "cell_type": "markdown",
   "metadata": {},
   "source": [
    "## BLSTM"
   ]
  },
  {
   "cell_type": "markdown",
   "metadata": {},
   "source": [
    "### 获取数据(数据和lstm的数据一样)"
   ]
  },
  {
   "cell_type": "code",
   "execution_count": 5,
   "metadata": {},
   "outputs": [],
   "source": [
    "x_train,x_test,y_train,y_test = load_split_data(\"./data/lstm_dataset.hdf5\")"
   ]
  },
  {
   "cell_type": "markdown",
   "metadata": {},
   "source": [
    "### 超参数"
   ]
  },
  {
   "cell_type": "code",
   "execution_count": 232,
   "metadata": {},
   "outputs": [],
   "source": [
    "learning_rate = 0.0001\n",
    "hidden_layers = [30,20]\n",
    "epoch = 10\n",
    "batch = 128\n",
    "dropout = None\n",
    "\n",
    "label_list = [\"DBB\",\"DB0\",\"D00\",\"D05\",\"DHT\",\"D10\"]\n",
    "n_class = 6\n",
    "model_dir = \"logs/BLSTM2\"\n",
    "n_orders = 15\n",
    "n_input = int(x_train.shape[1] / n_orders)"
   ]
  },
  {
   "cell_type": "markdown",
   "metadata": {},
   "source": [
    "### 模型"
   ]
  },
  {
   "cell_type": "code",
   "execution_count": 233,
   "metadata": {},
   "outputs": [
    {
     "name": "stdout",
     "output_type": "stream",
     "text": [
      "INFO:tensorflow:Using default config.\n",
      "INFO:tensorflow:Using config: {'_keep_checkpoint_max': 5, '_num_worker_replicas': 1, '_num_ps_replicas': 0, '_session_config': None, '_save_checkpoints_steps': None, '_master': '', '_tf_random_seed': None, '_service': None, '_is_chief': True, '_save_summary_steps': 100, '_task_type': 'worker', '_log_step_count_steps': 100, '_save_checkpoints_secs': 600, '_keep_checkpoint_every_n_hours': 10000, '_cluster_spec': <tensorflow.python.training.server_lib.ClusterSpec object at 0x7fefa96c4940>, '_task_id': 0, '_model_dir': 'logs/BLSTM2'}\n"
     ]
    }
   ],
   "source": [
    "from sys import path\n",
    "path.append(\"./src/\")\n",
    "import blstm\n",
    "import lstm\n",
    "import base_estimator\n",
    "import metrics\n",
    "import util\n",
    "from imp import reload\n",
    "reload(lstm)\n",
    "reload(blstm)\n",
    "reload(base_estimator)\n",
    "reload(metrics)\n",
    "reload(util)\n",
    "\n",
    "blstm_classifier = blstm.BLSTMClassifier(\n",
    "    n_inputs = n_input,\n",
    "    learning_rate = learning_rate,\n",
    "    model_dir = model_dir,\n",
    "    hidden_units = hidden_layers,\n",
    "    n_classes = n_class,\n",
    "    n_steps = n_orders,\n",
    "    batch_size = batch,\n",
    "    dropout = dropout\n",
    ")"
   ]
  },
  {
   "cell_type": "markdown",
   "metadata": {},
   "source": [
    "### 训练和评价"
   ]
  },
  {
   "cell_type": "code",
   "execution_count": 35,
   "metadata": {
    "collapsed": true
   },
   "outputs": [
    {
     "name": "stdout",
     "output_type": "stream",
     "text": [
      "INFO:tensorflow:Running training and evaluation locally (non-distributed).\n",
      "INFO:tensorflow:Start train and evaluate loop. The evaluate will happen after 600 secs (eval_spec.throttle_secs) or training is finished.\n",
      "INFO:tensorflow:Create CheckpointSaverHook.\n",
      "INFO:tensorflow:Restoring parameters from logs/BLSTM2/model.ckpt-10000\n",
      "INFO:tensorflow:Saving checkpoints for 10001 into logs/BLSTM2/model.ckpt.\n",
      "INFO:tensorflow:loss = 1.4872797e-06, step = 10001\n",
      "INFO:tensorflow:global_step/sec: 33.3704\n",
      "INFO:tensorflow:loss = 5.837025e-06, step = 10101 (2.999 sec)\n",
      "INFO:tensorflow:global_step/sec: 34.9468\n",
      "INFO:tensorflow:loss = 4.5262084e-07, step = 10201 (2.862 sec)\n",
      "INFO:tensorflow:global_step/sec: 33.7484\n",
      "INFO:tensorflow:loss = 9.387637e-07, step = 10301 (2.963 sec)\n",
      "INFO:tensorflow:global_step/sec: 34.229\n",
      "INFO:tensorflow:loss = 1.1818237e-06, step = 10401 (2.921 sec)\n",
      "INFO:tensorflow:global_step/sec: 34.4242\n",
      "INFO:tensorflow:loss = 3.958111e-07, step = 10501 (2.905 sec)\n",
      "INFO:tensorflow:global_step/sec: 34.4013\n",
      "INFO:tensorflow:loss = 6.1013925e-06, step = 10601 (2.907 sec)\n",
      "INFO:tensorflow:global_step/sec: 34.1657\n",
      "INFO:tensorflow:loss = 7.753173e-06, step = 10701 (2.927 sec)\n",
      "INFO:tensorflow:global_step/sec: 34.3244\n",
      "INFO:tensorflow:loss = 3.6226659e-06, step = 10801 (2.913 sec)\n",
      "INFO:tensorflow:global_step/sec: 34.6835\n",
      "INFO:tensorflow:loss = 9.797425e-07, step = 10901 (2.883 sec)\n",
      "INFO:tensorflow:Saving checkpoints for 11000 into logs/BLSTM2/model.ckpt.\n",
      "INFO:tensorflow:Loss for final step: 3.8283943e-06.\n",
      "INFO:tensorflow:Starting evaluation at 2018-03-10-07:48:14\n",
      "INFO:tensorflow:Restoring parameters from logs/BLSTM2/model.ckpt-11000\n",
      "INFO:tensorflow:Evaluation [1/100]\n",
      "INFO:tensorflow:Evaluation [2/100]\n",
      "INFO:tensorflow:Evaluation [3/100]\n",
      "INFO:tensorflow:Evaluation [4/100]\n",
      "INFO:tensorflow:Evaluation [5/100]\n",
      "INFO:tensorflow:Evaluation [6/100]\n",
      "INFO:tensorflow:Evaluation [7/100]\n",
      "INFO:tensorflow:Evaluation [8/100]\n",
      "INFO:tensorflow:Evaluation [9/100]\n",
      "INFO:tensorflow:Evaluation [10/100]\n",
      "INFO:tensorflow:Evaluation [11/100]\n",
      "INFO:tensorflow:Evaluation [12/100]\n",
      "INFO:tensorflow:Evaluation [13/100]\n",
      "INFO:tensorflow:Evaluation [14/100]\n",
      "INFO:tensorflow:Evaluation [15/100]\n",
      "INFO:tensorflow:Evaluation [16/100]\n",
      "INFO:tensorflow:Evaluation [17/100]\n",
      "INFO:tensorflow:Evaluation [18/100]\n",
      "INFO:tensorflow:Evaluation [19/100]\n",
      "INFO:tensorflow:Evaluation [20/100]\n",
      "INFO:tensorflow:Evaluation [21/100]\n",
      "INFO:tensorflow:Evaluation [22/100]\n",
      "INFO:tensorflow:Evaluation [23/100]\n",
      "INFO:tensorflow:Evaluation [24/100]\n",
      "INFO:tensorflow:Evaluation [25/100]\n",
      "INFO:tensorflow:Evaluation [26/100]\n",
      "INFO:tensorflow:Evaluation [27/100]\n",
      "INFO:tensorflow:Evaluation [28/100]\n",
      "INFO:tensorflow:Evaluation [29/100]\n",
      "INFO:tensorflow:Evaluation [30/100]\n",
      "INFO:tensorflow:Evaluation [31/100]\n",
      "INFO:tensorflow:Evaluation [32/100]\n",
      "INFO:tensorflow:Evaluation [33/100]\n",
      "INFO:tensorflow:Evaluation [34/100]\n",
      "INFO:tensorflow:Evaluation [35/100]\n",
      "INFO:tensorflow:Evaluation [36/100]\n",
      "INFO:tensorflow:Evaluation [37/100]\n",
      "INFO:tensorflow:Evaluation [38/100]\n",
      "INFO:tensorflow:Evaluation [39/100]\n",
      "INFO:tensorflow:Evaluation [40/100]\n",
      "INFO:tensorflow:Evaluation [41/100]\n",
      "INFO:tensorflow:Evaluation [42/100]\n",
      "INFO:tensorflow:Evaluation [43/100]\n",
      "INFO:tensorflow:Evaluation [44/100]\n",
      "INFO:tensorflow:Evaluation [45/100]\n",
      "INFO:tensorflow:Evaluation [46/100]\n",
      "INFO:tensorflow:Evaluation [47/100]\n",
      "INFO:tensorflow:Evaluation [48/100]\n",
      "INFO:tensorflow:Evaluation [49/100]\n",
      "INFO:tensorflow:Evaluation [50/100]\n",
      "INFO:tensorflow:Evaluation [51/100]\n",
      "INFO:tensorflow:Evaluation [52/100]\n",
      "INFO:tensorflow:Evaluation [53/100]\n",
      "INFO:tensorflow:Evaluation [54/100]\n",
      "INFO:tensorflow:Evaluation [55/100]\n",
      "INFO:tensorflow:Evaluation [56/100]\n",
      "INFO:tensorflow:Evaluation [57/100]\n",
      "INFO:tensorflow:Evaluation [58/100]\n",
      "INFO:tensorflow:Evaluation [59/100]\n",
      "INFO:tensorflow:Evaluation [60/100]\n",
      "INFO:tensorflow:Evaluation [61/100]\n",
      "INFO:tensorflow:Evaluation [62/100]\n",
      "INFO:tensorflow:Evaluation [63/100]\n",
      "INFO:tensorflow:Evaluation [64/100]\n",
      "INFO:tensorflow:Evaluation [65/100]\n",
      "INFO:tensorflow:Evaluation [66/100]\n",
      "INFO:tensorflow:Evaluation [67/100]\n",
      "INFO:tensorflow:Evaluation [68/100]\n",
      "INFO:tensorflow:Evaluation [69/100]\n",
      "INFO:tensorflow:Evaluation [70/100]\n",
      "INFO:tensorflow:Evaluation [71/100]\n",
      "INFO:tensorflow:Evaluation [72/100]\n",
      "INFO:tensorflow:Evaluation [73/100]\n",
      "INFO:tensorflow:Evaluation [74/100]\n",
      "INFO:tensorflow:Evaluation [75/100]\n",
      "INFO:tensorflow:Evaluation [76/100]\n",
      "INFO:tensorflow:Evaluation [77/100]\n",
      "INFO:tensorflow:Evaluation [78/100]\n",
      "INFO:tensorflow:Evaluation [79/100]\n",
      "INFO:tensorflow:Evaluation [80/100]\n",
      "INFO:tensorflow:Evaluation [81/100]\n",
      "INFO:tensorflow:Evaluation [82/100]\n",
      "INFO:tensorflow:Evaluation [83/100]\n",
      "INFO:tensorflow:Evaluation [84/100]\n",
      "INFO:tensorflow:Evaluation [85/100]\n",
      "INFO:tensorflow:Evaluation [86/100]\n",
      "INFO:tensorflow:Evaluation [87/100]\n",
      "INFO:tensorflow:Evaluation [88/100]\n",
      "INFO:tensorflow:Evaluation [89/100]\n",
      "INFO:tensorflow:Evaluation [90/100]\n",
      "INFO:tensorflow:Evaluation [91/100]\n",
      "INFO:tensorflow:Evaluation [92/100]\n",
      "INFO:tensorflow:Evaluation [93/100]\n",
      "INFO:tensorflow:Evaluation [94/100]\n",
      "INFO:tensorflow:Evaluation [95/100]\n",
      "INFO:tensorflow:Evaluation [96/100]\n",
      "INFO:tensorflow:Evaluation [97/100]\n",
      "INFO:tensorflow:Evaluation [98/100]\n",
      "INFO:tensorflow:Evaluation [99/100]\n",
      "INFO:tensorflow:Evaluation [100/100]\n",
      "INFO:tensorflow:Finished evaluation at 2018-03-10-07:48:15\n",
      "INFO:tensorflow:Saving dict for global step 11000: accuracy = 0.98945314, global_step = 11000, loss = 0.07110631\n"
     ]
    }
   ],
   "source": [
    "blstm_classifier.train_and_eval(\\\n",
    "                                x_train, x_test, y_train,y_test,\\\n",
    "                                max_steps = 11000)"
   ]
  },
  {
   "cell_type": "markdown",
   "metadata": {},
   "source": [
    "### 保存预测结果"
   ]
  },
  {
   "cell_type": "code",
   "execution_count": 234,
   "metadata": {},
   "outputs": [
    {
     "name": "stdout",
     "output_type": "stream",
     "text": [
      "WARNING:tensorflow:Input graph does not contain a QueueRunner. That means predict yields forever. This is probably a mistake.\n",
      "INFO:tensorflow:Restoring parameters from logs/BLSTM2/model.ckpt-11000\n"
     ]
    }
   ],
   "source": [
    "blstm_classifier._batch_size = 1\n",
    "y_test_pred = blstm_classifier.predict(x_test,1)\n",
    "\n",
    "y_test_preds = []\n",
    "for y_pred in y_test_pred:\n",
    "    y_test_preds.append(y_pred[\"probabilities\"])\n",
    "y_test_preds = np.array(y_test_preds)\n",
    "\n",
    "save_pred(\"blstm\",y_test_preds)\n",
    "blstm_classifier._batch_size = batch"
   ]
  },
  {
   "cell_type": "markdown",
   "metadata": {},
   "source": [
    "# 评价"
   ]
  },
  {
   "cell_type": "markdown",
   "metadata": {},
   "source": [
    "## 载入结果数据"
   ]
  },
  {
   "cell_type": "code",
   "execution_count": 6,
   "metadata": {},
   "outputs": [],
   "source": [
    "import h5py \n",
    "\n",
    "with h5py.File(\"./result/pred_result.h5\",\"r\") as file:\n",
    "    dnn_pred = file[\"dnn\"][:,:-1]\n",
    "    lstm_pred = file[\"lstm\"][:,:-1]\n",
    "    blstm_pred = file[\"blstm\"][:,:-1]\n",
    "    \n",
    "dnn_y_test = load_split_data(\"./data/dnn_dataset.hdf5\")[-1]\n",
    "lstm_y_test = load_split_data(\"./data/lstm_dataset.hdf5\")[-1]"
   ]
  },
  {
   "cell_type": "markdown",
   "metadata": {},
   "source": [
    "## 混淆矩阵"
   ]
  },
  {
   "cell_type": "markdown",
   "metadata": {},
   "source": [
    "### 定义绘制混淆矩阵函数"
   ]
  },
  {
   "cell_type": "code",
   "execution_count": 334,
   "metadata": {},
   "outputs": [],
   "source": [
    "def plot_confu_matrix(cm,title = \"Confusion Matrix\"):\n",
    "    \"\"\"\n",
    "        绘制混淆矩阵\n",
    "    \"\"\"\n",
    "#     cm = metrics.confusion_matrix(\n",
    "#                 dnn_y_test,dnn_pred.argmax(axis = 1))\n",
    "    plt.figure(figsize = (6,6))\n",
    "    plt.imshow(cm,interpolation = \"nearest\",\\\n",
    "                            cmap = plt.cm.Blues)\n",
    "    plt.colorbar()\n",
    "    \n",
    "    plt.xticks(range(5),util.label_list[:-1])\n",
    "    plt.yticks(range(5),util.label_list[:-1])\n",
    "    \n",
    "    thresh = cm.max() / 2\n",
    "    for i in range(cm.shape[0]):\n",
    "        for j in range(cm.shape[1]):\n",
    "                   plt.text(i,j,cm[i,j],\n",
    "                   horizontalalignment=\"center\",\n",
    "                   color=\"white\" if cm[i, j] > thresh else \"black\")\n",
    "    plt.title(title)\n",
    "    \n",
    "    plt.tight_layout()\n",
    "    plt.ylabel('True label')\n",
    "    plt.xlabel('Predicted label')\n",
    "    "
   ]
  },
  {
   "cell_type": "markdown",
   "metadata": {},
   "source": [
    "### DNN"
   ]
  },
  {
   "cell_type": "code",
   "execution_count": 335,
   "metadata": {},
   "outputs": [
    {
     "data": {
      "image/png": "[encoded data removed]",
      "text/plain": [
       "<matplotlib.figure.Figure at 0x7fefa970e390>"
      ]
     },
     "metadata": {},
     "output_type": "display_data"
    }
   ],
   "source": [
    "dnn_cm = metrics.confusion_matrix(y_true = dnn_y_test,\\\n",
    "                                  y_pred = dnn_pred.argmax(axis = 1))\n",
    "plot_confu_matrix(dnn_cm,\"DNN Confusion Matrix\")"
   ]
  },
  {
   "cell_type": "markdown",
   "metadata": {},
   "source": [
    "### LSTM"
   ]
  },
  {
   "cell_type": "code",
   "execution_count": 336,
   "metadata": {},
   "outputs": [
    {
     "data": {
      "image/png": "[encoded data removed]",
      "text/plain": [
       "<matplotlib.figure.Figure at 0x7fefac463f60>"
      ]
     },
     "metadata": {},
     "output_type": "display_data"
    }
   ],
   "source": [
    "lstm_cm = metrics.confusion_matrix(y_true = lstm_y_test,\\\n",
    "                                  y_pred = lstm_pred.argmax(axis = 1))\n",
    "plot_confu_matrix(lstm_cm,\"LSTM Confusion Matrix\")"
   ]
  },
  {
   "cell_type": "markdown",
   "metadata": {},
   "source": [
    "### BLSTM"
   ]
  },
  {
   "cell_type": "code",
   "execution_count": 337,
   "metadata": {},
   "outputs": [
    {
     "data": {
      "image/png": "[encoded data removed]",
      "text/plain": [
       "<matplotlib.figure.Figure at 0x7fefaa736320>"
      ]
     },
     "metadata": {},
     "output_type": "display_data"
    }
   ],
   "source": [
    "blstm_cm = metrics.confusion_matrix(y_true = lstm_y_test,\\\n",
    "                                  y_pred = blstm_pred.argmax(axis = 1))\n",
    "plot_confu_matrix(blstm_cm,\"BLSTM Confusion Matrix\")"
   ]
  },
  {
   "cell_type": "markdown",
   "metadata": {},
   "source": [
    "## Accuracy"
   ]
  },
  {
   "cell_type": "code",
   "execution_count": 68,
   "metadata": {
    "scrolled": true
   },
   "outputs": [
    {
     "data": {
      "text/html": [
       "<div>\n",
       "<style>\n",
       "    .dataframe thead tr:only-child th {\n",
       "        text-align: right;\n",
       "    }\n",
       "\n",
       "    .dataframe thead th {\n",
       "        text-align: left;\n",
       "    }\n",
       "\n",
       "    .dataframe tbody tr th {\n",
       "        vertical-align: top;\n",
       "    }\n",
       "</style>\n",
       "<table border=\"1\" class=\"dataframe\">\n",
       "  <thead>\n",
       "    <tr style=\"text-align: right;\">\n",
       "      <th></th>\n",
       "      <th>DNN</th>\n",
       "      <th>LSTM</th>\n",
       "      <th>BLSTM</th>\n",
       "    </tr>\n",
       "  </thead>\n",
       "  <tbody>\n",
       "    <tr>\n",
       "      <th>Accuracy</th>\n",
       "      <td>0.946802</td>\n",
       "      <td>0.979112</td>\n",
       "      <td>0.989556</td>\n",
       "    </tr>\n",
       "  </tbody>\n",
       "</table>\n",
       "</div>"
      ],
      "text/plain": [
       "               DNN      LSTM     BLSTM\n",
       "Accuracy  0.946802  0.979112  0.989556"
      ]
     },
     "execution_count": 68,
     "metadata": {},
     "output_type": "execute_result"
    }
   ],
   "source": [
    "from sklearn import metrics\n",
    "import pandas as pd\n",
    "\n",
    "dnn_acc = metrics.accuracy_score(\n",
    "    y_true = dnn_y_test,y_pred = dnn_pred.argmax(axis = 1))\n",
    "lstm_acc = metrics.accuracy_score(\n",
    "    y_true = lstm_y_test,y_pred = lstm_pred.argmax(axis = 1))\n",
    "blstm_acc = metrics.accuracy_score(\n",
    "    y_true = lstm_y_test,y_pred = blstm_pred.argmax(axis = 1)\n",
    ")\n",
    "\n",
    "df = pd.DataFrame([dnn_acc,lstm_acc,blstm_acc],\n",
    "            index = [\"DNN\",\"LSTM\",\"BLSTM\"],\n",
    "            columns = [\"Accuracy\"])\n",
    "df.T"
   ]
  },
  {
   "cell_type": "code",
   "execution_count": 72,
   "metadata": {},
   "outputs": [
    {
     "data": {
      "text/plain": [
       "<matplotlib.axes._subplots.AxesSubplot at 0x7fc7b5e94240>"
      ]
     },
     "execution_count": 72,
     "metadata": {},
     "output_type": "execute_result"
    },
    {
     "data": {
      "image/png": "[encoded data removed]",
      "text/plain": [
       "<matplotlib.figure.Figure at 0x7fc7b5e94cf8>"
      ]
     },
     "metadata": {},
     "output_type": "display_data"
    }
   ],
   "source": [
    "import seaborn as sns\n",
    "\n",
    "plt.figure(figsize = (10,4))\n",
    "sns.set_style(\"whitegrid\")\n",
    "plt.title(\"Test Accuray Of Models\")\n",
    "sns.barplot(y = df.index,x = \"Accuracy\",data = df)"
   ]
  },
  {
   "cell_type": "markdown",
   "metadata": {},
   "source": [
    "## ROC"
   ]
  },
  {
   "cell_type": "markdown",
   "metadata": {},
   "source": [
    "### 绘制宏ROC"
   ]
  },
  {
   "cell_type": "code",
   "execution_count": 15,
   "metadata": {},
   "outputs": [],
   "source": [
    "import scipy\n",
    "\n",
    "def macro_roc(tpr,fpr):\n",
    "    \"\"\"\n",
    "        计算宏ROC(多分类)\n",
    "        Return:\n",
    "            macro-tpr,macro-fpr\n",
    "    \"\"\"\n",
    "    all_fprs = np.unique(np.concatenate([class_fpr for class_fpr in fpr]))\n",
    "    \n",
    "    mean_tpr = np.zeros_like(all_fprs)\n",
    "    for i,value in enumerate(tpr):\n",
    "        mean_tpr += scipy.interp(all_fprs,fpr[i],value)\n",
    "    mean_tpr /= len(tpr)\n",
    "    \n",
    "    return mean_tpr,all_fprs"
   ]
  },
  {
   "cell_type": "markdown",
   "metadata": {},
   "source": [
    "### 计算ROC"
   ]
  },
  {
   "cell_type": "code",
   "execution_count": 16,
   "metadata": {},
   "outputs": [],
   "source": [
    "from sklearn import metrics\n",
    "from sklearn.preprocessing import LabelBinarizer\n",
    "from sklearn.preprocessing import OneHotEncoder\n",
    "from sklearn.metrics import roc_curve\n",
    "import numpy as np\n",
    "from sklearn.metrics import auc\n",
    "import scipy \n",
    "\n",
    "lb = LabelBinarizer()\n",
    "lb.fit(range(5))\n",
    "\n",
    "one_hot_dnn_y_test = lb.transform(dnn_y_test)\n",
    "one_hot_lstm_y_test = lb.transform(lstm_y_test)\n",
    "\n",
    "one_hot_dnn = dnn_pred\n",
    "one_hot_lstm = lstm_pred\n",
    "one_hot_blstm = blstm_pred\n",
    "\n",
    "fpr = {\"dnn\" : [],\"lstm\" : [],\"blstm\" : []}\n",
    "tpr = {\"dnn\" : [],\"lstm\" : [],\"blstm\" : []}\n",
    "roc_auc = {\"dnn\" : [],\"lstm\" : [],\"blstm\" : []}\n",
    "\n",
    "fpr_micro = {}\n",
    "tpr_micro = {}\n",
    "\n",
    "fpr_macro = {}\n",
    "tpr_macro = {}\n",
    "\n",
    "for i in range(one_hot_lstm_y_test.shape[1]):\n",
    "    dnn_fpr,dnn_tpr,dnn_threshold = roc_curve(\n",
    "                                    y_true = one_hot_dnn_y_test[:,i],\n",
    "                                    y_score =  one_hot_dnn[:,i])\n",
    "    lstm_fpr,lstm_tpr,lstm_threshold = roc_curve(\n",
    "                                    y_true = one_hot_lstm_y_test[:,i],\n",
    "                                    y_score =  one_hot_lstm[:,i])\n",
    "    blstm_fpr,blstm_tpr,blstm_threshold = roc_curve(\n",
    "                                    y_true = one_hot_lstm_y_test[:,i],\n",
    "                                    y_score =  one_hot_blstm[:,i])\n",
    "    \n",
    "    fpr[\"dnn\"].append(dnn_fpr)\n",
    "    fpr['lstm'].append(lstm_fpr)\n",
    "    fpr['blstm'].append(blstm_fpr)\n",
    "    \n",
    "    tpr['dnn'].append(dnn_tpr)\n",
    "    tpr['lstm'].append(lstm_tpr)\n",
    "    tpr['blstm'].append(blstm_tpr)\n",
    "    \n",
    "#计算微fpr和tpr\n",
    "fpr_micro[\"dnn\"],tpr_micro[\"dnn\"],_ = roc_curve(one_hot_dnn_y_test.ravel(),\n",
    "                                             one_hot_dnn.ravel())\n",
    "fpr_micro[\"lstm\"],tpr_micro[\"lstm\"],_ = roc_curve(one_hot_lstm_y_test.ravel(),\n",
    "                                                one_hot_lstm.ravel())\n",
    "fpr_micro[\"blstm\"],tpr_micro[\"blstm\"],_ = roc_curve(one_hot_lstm_y_test.ravel(),\n",
    "                                                   one_hot_blstm.ravel())\n",
    "\n",
    "\n",
    "tpr_macro[\"dnn\"],fpr_macro[\"dnn\"]  = macro_roc(tpr[\"dnn\"],fpr[\"dnn\"])\n",
    "tpr_macro[\"lstm\"],fpr_macro[\"lstm\"]  = macro_roc(tpr[\"lstm\"],fpr[\"lstm\"])\n",
    "tpr_macro[\"blstm\"],fpr_macro[\"blstm\"]  = macro_roc(tpr[\"blstm\"],fpr[\"blstm\"])"
   ]
  },
  {
   "cell_type": "markdown",
   "metadata": {},
   "source": [
    "### 绘制ROC"
   ]
  },
  {
   "cell_type": "code",
   "execution_count": 17,
   "metadata": {},
   "outputs": [
    {
     "data": {
      "image/png": "[encoded data removed]",
      "text/plain": [
       "<matplotlib.figure.Figure at 0x7fc7b63d5780>"
      ]
     },
     "metadata": {},
     "output_type": "display_data"
    }
   ],
   "source": [
    "plt.figure(figsize = (10,8))\n",
    "plt.title(\"ROC Of Classifier\")\n",
    "\n",
    "plt.plot(fpr_micro[\"dnn\"],tpr_micro[\"dnn\"],label = \"DNN Micro Average ROC\")\n",
    "plt.plot(fpr_micro[\"lstm\"],tpr_micro[\"lstm\"],label = \"LSTM Micro Average ROC\")\n",
    "plt.plot(fpr_micro[\"blstm\"],tpr_micro[\"blstm\"],label = \"BLSTM Micro Average ROC\")\n",
    "\n",
    "plt.plot(fpr_macro[\"dnn\"],tpr_macro['dnn'],label = \"DNN Macro Average ROC\")\n",
    "plt.plot(fpr_macro[\"lstm\"],tpr_macro['lstm'],label = \"LSTM Macro Average ROC\")\n",
    "plt.plot(fpr_macro[\"blstm\"],tpr_macro['blstm'],label = \"BLSTM Macro Average ROC\")\n",
    "\n",
    "plt.plot([0,1],\"--\")\n",
    "plt.xlabel(\"False Positive Rate\")\n",
    "plt.ylabel(\"True Positive Rate\")\n",
    "\n",
    "plt.xlim([-0.03,1])\n",
    "plt.ylim([0.,1.05])\n",
    "\n",
    "plt.legend(loc = \"lower right\")\n",
    "plt.show()"
   ]
  },
  {
   "cell_type": "markdown",
   "metadata": {},
   "source": [
    "## AUC"
   ]
  },
  {
   "cell_type": "code",
   "execution_count": 74,
   "metadata": {},
   "outputs": [
    {
     "data": {
      "text/html": [
       "<div>\n",
       "<style>\n",
       "    .dataframe thead tr:only-child th {\n",
       "        text-align: right;\n",
       "    }\n",
       "\n",
       "    .dataframe thead th {\n",
       "        text-align: left;\n",
       "    }\n",
       "\n",
       "    .dataframe tbody tr th {\n",
       "        vertical-align: top;\n",
       "    }\n",
       "</style>\n",
       "<table border=\"1\" class=\"dataframe\">\n",
       "  <thead>\n",
       "    <tr style=\"text-align: right;\">\n",
       "      <th></th>\n",
       "      <th>DNN</th>\n",
       "      <th>LSTM</th>\n",
       "      <th>BLSTM</th>\n",
       "    </tr>\n",
       "  </thead>\n",
       "  <tbody>\n",
       "    <tr>\n",
       "      <th>Micro Auc</th>\n",
       "      <td>0.996951</td>\n",
       "      <td>0.997907</td>\n",
       "      <td>0.999838</td>\n",
       "    </tr>\n",
       "    <tr>\n",
       "      <th>Macro Auc</th>\n",
       "      <td>0.996190</td>\n",
       "      <td>0.998059</td>\n",
       "      <td>0.999836</td>\n",
       "    </tr>\n",
       "  </tbody>\n",
       "</table>\n",
       "</div>"
      ],
      "text/plain": [
       "                DNN      LSTM     BLSTM\n",
       "Micro Auc  0.996951  0.997907  0.999838\n",
       "Macro Auc  0.996190  0.998059  0.999836"
      ]
     },
     "execution_count": 74,
     "metadata": {},
     "output_type": "execute_result"
    }
   ],
   "source": [
    "from sklearn.metrics import roc_auc_score\n",
    "from sklearn.metrics import auc\n",
    "\n",
    "dnn_micro_auc = auc(fpr_micro[\"dnn\"],tpr_micro[\"dnn\"])\n",
    "lstm_micro_auc = auc(fpr_micro[\"lstm\"],tpr_micro[\"lstm\"])\n",
    "blstm_micro_auc = auc(fpr_micro[\"blstm\"],tpr_micro[\"blstm\"])\n",
    "\n",
    "dnn_macro_auc = auc(fpr_macro[\"dnn\"],tpr_macro[\"dnn\"])\n",
    "lstm_macro_auc = auc(fpr_macro[\"lstm\"],tpr_macro[\"lstm\"])\n",
    "blstm_macro_auc = auc(fpr_macro[\"blstm\"],tpr_macro[\"blstm\"])\n",
    "\n",
    "df = pd.DataFrame([dnn_micro_auc,lstm_micro_auc,blstm_micro_auc],\\\n",
    "                  index = [\"DNN\",\"LSTM\",\"BLSTM\"],\n",
    "                 columns = [\"Micro Auc\"])\n",
    "df[\"Macro Auc\"] = [dnn_macro_auc,lstm_macro_auc,blstm_macro_auc]\n",
    "df = df.T\n",
    "df\n",
    "\n",
    "# df.append([dnn_macro_auc,lstm_macro_auc,blstm_macro_auc])"
   ]
  },
  {
   "cell_type": "code",
   "execution_count": 95,
   "metadata": {},
   "outputs": [
    {
     "data": {
      "text/plain": [
       "<matplotlib.axes._subplots.AxesSubplot at 0x7fc7b58852e8>"
      ]
     },
     "execution_count": 95,
     "metadata": {},
     "output_type": "execute_result"
    },
    {
     "data": {
      "image/png": "[encoded data removed]",
      "text/plain": [
       "<matplotlib.figure.Figure at 0x7fc7b58c7a20>"
      ]
     },
     "metadata": {},
     "output_type": "display_data"
    }
   ],
   "source": [
    "import seaborn as sns\n",
    "\n",
    "\n",
    "df.plot(kind = \"bar\",figsize = (15,8),title = \"AUC Of Models\",\n",
    "        grid = True,logy = False,logx = False,fontsize = 12)"
   ]
  }
 ],
 "metadata": {
  "gist": {
   "data": {
    "description": "working/bridge/thesis2/bookshelf/index.ipynb",
    "public": false
   },
   "id": ""
  },
  "kernelspec": {
   "display_name": "Python 3",
   "language": "python",
   "name": "python3"
  },
  "language_info": {
   "codemirror_mode": {
    "name": "ipython",
    "version": 3
   },
   "file_extension": ".py",
   "mimetype": "text/x-python",
   "name": "python",
   "nbconvert_exporter": "python",
   "pygments_lexer": "ipython3",
   "version": "3.4.5"
  },
  "toc": {
   "nav_menu": {},
   "number_sections": true,
   "sideBar": true,
   "skip_h1_title": false,
   "title_cell": "Table of Contents",
   "title_sidebar": "Contents",
   "toc_cell": true,
   "toc_position": {
    "height": "calc(100% - 180px)",
    "left": "10px",
    "top": "150px",
    "width": "270px"
   },
   "toc_section_display": true,
   "toc_window_display": true
  },
  "varInspector": {
   "cols": {
    "lenName": 16,
    "lenType": 16,
    "lenVar": 40
   },
   "kernels_config": {
    "python": {
     "delete_cmd_postfix": "",
     "delete_cmd_prefix": "del ",
     "library": "var_list.py",
     "varRefreshCmd": "print(var_dic_list())"
    },
    "r": {
     "delete_cmd_postfix": ") ",
     "delete_cmd_prefix": "rm(",
     "library": "var_list.r",
     "varRefreshCmd": "cat(var_dic_list()) "
    }
   },
   "types_to_exclude": [
    "module",
    "function",
    "builtin_function_or_method",
    "instance",
    "_Feature"
   ],
   "window_display": false
  }
 },
 "nbformat": 4,
 "nbformat_minor": 2
}
